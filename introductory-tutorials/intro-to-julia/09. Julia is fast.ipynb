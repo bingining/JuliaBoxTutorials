{
 "cells": [
  {
   "cell_type": "markdown",
   "metadata": {},
   "source": [
    "# Julia is fast\n",
    "\n",
    "Very often, benchmarks are used to compare languages.  These benchmarks can lead to long discussions, first as to exactly what is being benchmarked and secondly what explains the differences.  These simple questions can sometimes get more complicated than you at first might imagine.\n",
    "\n",
    "The purpose of this notebook is for you to see a simple benchmark for yourself.  One can read the notebook and see what happened on the author's Macbook Pro with a 4-core Intel Core I7, or run the notebook yourself.\n",
    "\n",
    "(This material began life as a wonderful lecture by Steven Johnson at MIT: https://github.com/stevengj/18S096/blob/master/lectures/lecture1/Boxes-and-registers.ipynb.)"
   ]
  },
  {
   "cell_type": "markdown",
   "metadata": {},
   "source": [
    "# Outline of this notebook\n",
    "\n",
    "- Define the sum function\n",
    "- Implementations & benchmarking of sum in...\n",
    "    - C (hand-written)\n",
    "    - C (hand-written with -ffast-math)\n",
    "    - python (built-in)\n",
    "    - python (numpy)\n",
    "    - python (hand-written)\n",
    "    - Julia (built-in)\n",
    "    - Julia (hand-written)\n",
    "    - Julia (hand-written with SIMD)\n",
    "- Summary of benchmarks"
   ]
  },
  {
   "cell_type": "markdown",
   "metadata": {},
   "source": [
    "# `sum`: An easy enough function to understand"
   ]
  },
  {
   "cell_type": "markdown",
   "metadata": {},
   "source": [
    "Consider the  **sum** function `sum(a)`, which computes\n",
    "$$\n",
    "\\mathrm{sum}(a) = \\sum_{i=1}^n a_i,\n",
    "$$\n",
    "where $n$ is the length of `a`."
   ]
  },
  {
   "cell_type": "code",
   "execution_count": 1,
   "metadata": {
    "scrolled": false
   },
   "outputs": [],
   "source": [
    "a = rand(10^7); # 1D vector of random numbers, uniform on [0,1)"
   ]
  },
  {
   "cell_type": "code",
   "execution_count": 2,
   "metadata": {},
   "outputs": [
    {
     "data": {
      "text/plain": [
       "5.0005494633404855e6"
      ]
     },
     "execution_count": 2,
     "metadata": {},
     "output_type": "execute_result"
    }
   ],
   "source": [
    "sum(a)"
   ]
  },
  {
   "cell_type": "markdown",
   "metadata": {},
   "source": [
    "The expected result is 0.5 * 10^7, since the mean of each entry is 0.5"
   ]
  },
  {
   "cell_type": "markdown",
   "metadata": {},
   "source": [
    "# Benchmarking a few ways in a few languages"
   ]
  },
  {
   "cell_type": "code",
   "execution_count": 3,
   "metadata": {},
   "outputs": [
    {
     "name": "stdout",
     "output_type": "stream",
     "text": [
      "  0.006581 seconds (5 allocations: 176 bytes)\n"
     ]
    },
    {
     "data": {
      "text/plain": [
       "5.0005494633404855e6"
      ]
     },
     "execution_count": 3,
     "metadata": {},
     "output_type": "execute_result"
    }
   ],
   "source": [
    "@time sum(a)"
   ]
  },
  {
   "cell_type": "code",
   "execution_count": 4,
   "metadata": {},
   "outputs": [
    {
     "name": "stdout",
     "output_type": "stream",
     "text": [
      "  0.006563 seconds (5 allocations: 176 bytes)\n"
     ]
    },
    {
     "data": {
      "text/plain": [
       "5.0005494633404855e6"
      ]
     },
     "execution_count": 4,
     "metadata": {},
     "output_type": "execute_result"
    }
   ],
   "source": [
    "@time sum(a)"
   ]
  },
  {
   "cell_type": "code",
   "execution_count": 5,
   "metadata": {},
   "outputs": [
    {
     "name": "stdout",
     "output_type": "stream",
     "text": [
      "  0.006476 seconds (5 allocations: 176 bytes)\n"
     ]
    },
    {
     "data": {
      "text/plain": [
       "5.0005494633404855e6"
      ]
     },
     "execution_count": 5,
     "metadata": {},
     "output_type": "execute_result"
    }
   ],
   "source": [
    "@time sum(a)"
   ]
  },
  {
   "cell_type": "markdown",
   "metadata": {},
   "source": [
    "The `@time` macro can yield noisy results, so it's not our best choice for benchmarking!\n",
    "\n",
    "Luckily, Julia has a `BenchmarkTools.jl` package to make benchmarking easy and accurate:"
   ]
  },
  {
   "cell_type": "code",
   "execution_count": 6,
   "metadata": {},
   "outputs": [],
   "source": [
    "# using Pkg\n",
    "# Pkg.add(\"BenchmarkTools\")"
   ]
  },
  {
   "cell_type": "code",
   "execution_count": 7,
   "metadata": {
    "scrolled": false
   },
   "outputs": [],
   "source": [
    "using BenchmarkTools  "
   ]
  },
  {
   "cell_type": "markdown",
   "metadata": {},
   "source": [
    "#  1. The C language\n",
    "\n",
    "C is often considered the gold standard: difficult on the human, nice for the machine. Getting within a factor of 2 of C is often satisfying. Nonetheless, even within C, there are many kinds of optimizations possible that a naive C writer may or may not get the advantage of.\n",
    "\n",
    "The current author does not speak C, so he does not read the cell below, but is happy to know that you can put C code in a Julia session, compile it, and run it. Note that the `\"\"\"` wrap a multi-line string."
   ]
  },
  {
   "cell_type": "code",
   "execution_count": 8,
   "metadata": {
    "scrolled": false
   },
   "outputs": [
    {
     "data": {
      "text/plain": [
       "c_sum (generic function with 1 method)"
      ]
     },
     "execution_count": 8,
     "metadata": {},
     "output_type": "execute_result"
    }
   ],
   "source": [
    "using Libdl\n",
    "C_code = \"\"\"\n",
    "#include <stddef.h>\n",
    "double c_sum(size_t n, double *X) {\n",
    "    double s = 0.0;\n",
    "    for (size_t i = 0; i < n; ++i) {\n",
    "        s += X[i];\n",
    "    }\n",
    "    return s;\n",
    "}\n",
    "\"\"\"\n",
    "\n",
    "const Clib = tempname()   # make a temporary file\n",
    "\n",
    "\n",
    "# compile to a shared library by piping C_code to gcc\n",
    "# (works only if you have gcc installed):\n",
    "\n",
    "open(`gcc -std=gnu99 -fPIC -O3 -msse3 -xc -shared -o $(Clib * \".\" * Libdl.dlext) -`, \"w\") do f\n",
    "    print(f, C_code) \n",
    "end\n",
    "\n",
    "# define a Julia function that calls the C function:\n",
    "c_sum(X::Array{Float64}) = ccall((\"c_sum\", Clib), Float64, (Csize_t, Ptr{Float64}), length(X), X)"
   ]
  },
  {
   "cell_type": "code",
   "execution_count": 9,
   "metadata": {
    "scrolled": false
   },
   "outputs": [
    {
     "data": {
      "text/plain": [
       "5.000549463341633e6"
      ]
     },
     "execution_count": 9,
     "metadata": {},
     "output_type": "execute_result"
    }
   ],
   "source": [
    "c_sum(a)"
   ]
  },
  {
   "cell_type": "code",
   "execution_count": 10,
   "metadata": {
    "scrolled": false
   },
   "outputs": [
    {
     "data": {
      "text/plain": [
       "true"
      ]
     },
     "execution_count": 10,
     "metadata": {},
     "output_type": "execute_result"
    }
   ],
   "source": [
    "c_sum(a) ≈ sum(a) # type \\approx and then <TAB> to get the ≈ symbolb"
   ]
  },
  {
   "cell_type": "code",
   "execution_count": 11,
   "metadata": {},
   "outputs": [
    {
     "data": {
      "text/plain": [
       "1.1473894119262695e-6"
      ]
     },
     "execution_count": 11,
     "metadata": {},
     "output_type": "execute_result"
    }
   ],
   "source": [
    "c_sum(a) - sum(a)  "
   ]
  },
  {
   "cell_type": "code",
   "execution_count": 12,
   "metadata": {
    "scrolled": true
   },
   "outputs": [
    {
     "data": {
      "text/plain": [
       "isapprox (generic function with 8 methods)"
      ]
     },
     "execution_count": 12,
     "metadata": {},
     "output_type": "execute_result"
    }
   ],
   "source": [
    "≈  # alias for the `isapprox` function"
   ]
  },
  {
   "cell_type": "code",
   "execution_count": 13,
   "metadata": {
    "scrolled": true
   },
   "outputs": [
    {
     "name": "stdout",
     "output_type": "stream",
     "text": [
      "search: \u001b[0m\u001b[1mi\u001b[22m\u001b[0m\u001b[1ms\u001b[22m\u001b[0m\u001b[1ma\u001b[22m\u001b[0m\u001b[1mp\u001b[22m\u001b[0m\u001b[1mp\u001b[22m\u001b[0m\u001b[1mr\u001b[22m\u001b[0m\u001b[1mo\u001b[22m\u001b[0m\u001b[1mx\u001b[22m\n",
      "\n"
     ]
    },
    {
     "data": {
      "text/latex": [
       "\\begin{verbatim}\n",
       "isapprox(x, y; rtol::Real=atol>0 ? 0 : √eps, atol::Real=0, nans::Bool=false, norm::Function)\n",
       "\\end{verbatim}\n",
       "Inexact equality comparison: \\texttt{true} if \\texttt{norm(x-y) <= max(atol, rtol*max(norm(x), norm(y)))}. The default \\texttt{atol} is zero and the default \\texttt{rtol} depends on the types of \\texttt{x} and \\texttt{y}. The keyword argument \\texttt{nans} determines whether or not NaN values are considered equal (defaults to false).\n",
       "\n",
       "For real or complex floating-point values, if an \\texttt{atol > 0} is not specified, \\texttt{rtol} defaults to the square root of \\href{@ref}{\\texttt{eps}} of the type of \\texttt{x} or \\texttt{y}, whichever is bigger (least precise). This corresponds to requiring equality of about half of the significand digits. Otherwise, e.g. for integer arguments or if an \\texttt{atol > 0} is supplied, \\texttt{rtol} defaults to zero.\n",
       "\n",
       "\\texttt{x} and \\texttt{y} may also be arrays of numbers, in which case \\texttt{norm} defaults to \\texttt{vecnorm} but may be changed by passing a \\texttt{norm::Function} keyword argument. (For numbers, \\texttt{norm} is the same thing as \\texttt{abs}.) When \\texttt{x} and \\texttt{y} are arrays, if \\texttt{norm(x-y)} is not finite (i.e. \\texttt{±Inf} or \\texttt{NaN}), the comparison falls back to checking whether all elements of \\texttt{x} and \\texttt{y} are approximately equal component-wise.\n",
       "\n",
       "The binary operator \\texttt{≈} is equivalent to \\texttt{isapprox} with the default arguments, and \\texttt{x ≉ y} is equivalent to \\texttt{!isapprox(x,y)}.\n",
       "\n",
       "Note that \\texttt{x ≈ 0} (i.e., comparing to zero with the default tolerances) is equivalent to \\texttt{x == 0} since the default \\texttt{atol} is \\texttt{0}.  In such cases, you should either supply an appropriate \\texttt{atol} (or use \\texttt{norm(x) ≤ atol}) or rearrange your code (e.g. use \\texttt{x ≈ y} rather than \\texttt{x - y ≈ 0}).   It is not possible to pick a nonzero \\texttt{atol} automatically because it depends on the overall scaling (the \"units\") of your problem: for example, in \\texttt{x - y ≈ 0}, \\texttt{atol=1e-9} is an absurdly small tolerance if \\texttt{x} is the \\href{https://en.wikipedia.org/wiki/Earth_radius}{radius of the Earth} in meters, but an absurdly large tolerance if \\texttt{x} is the \\href{https://en.wikipedia.org/wiki/Bohr_radius}{radius of a Hydrogen atom} in meters.\n",
       "\n",
       "\\section{Examples}\n",
       "\\begin{verbatim}\n",
       "julia> 0.1 ≈ (0.1 - 1e-10)\n",
       "true\n",
       "\n",
       "julia> isapprox(10, 11; atol = 2)\n",
       "true\n",
       "\n",
       "julia> isapprox([10.0^9, 1.0], [10.0^9, 2.0])\n",
       "true\n",
       "\n",
       "julia> 1e-10 ≈ 0\n",
       "false\n",
       "\n",
       "julia> isapprox(1e-10, 0, atol=1e-8)\n",
       "true\n",
       "\\end{verbatim}\n"
      ],
      "text/markdown": [
       "```\n",
       "isapprox(x, y; rtol::Real=atol>0 ? 0 : √eps, atol::Real=0, nans::Bool=false, norm::Function)\n",
       "```\n",
       "\n",
       "Inexact equality comparison: `true` if `norm(x-y) <= max(atol, rtol*max(norm(x), norm(y)))`. The default `atol` is zero and the default `rtol` depends on the types of `x` and `y`. The keyword argument `nans` determines whether or not NaN values are considered equal (defaults to false).\n",
       "\n",
       "For real or complex floating-point values, if an `atol > 0` is not specified, `rtol` defaults to the square root of [`eps`](@ref) of the type of `x` or `y`, whichever is bigger (least precise). This corresponds to requiring equality of about half of the significand digits. Otherwise, e.g. for integer arguments or if an `atol > 0` is supplied, `rtol` defaults to zero.\n",
       "\n",
       "`x` and `y` may also be arrays of numbers, in which case `norm` defaults to `vecnorm` but may be changed by passing a `norm::Function` keyword argument. (For numbers, `norm` is the same thing as `abs`.) When `x` and `y` are arrays, if `norm(x-y)` is not finite (i.e. `±Inf` or `NaN`), the comparison falls back to checking whether all elements of `x` and `y` are approximately equal component-wise.\n",
       "\n",
       "The binary operator `≈` is equivalent to `isapprox` with the default arguments, and `x ≉ y` is equivalent to `!isapprox(x,y)`.\n",
       "\n",
       "Note that `x ≈ 0` (i.e., comparing to zero with the default tolerances) is equivalent to `x == 0` since the default `atol` is `0`.  In such cases, you should either supply an appropriate `atol` (or use `norm(x) ≤ atol`) or rearrange your code (e.g. use `x ≈ y` rather than `x - y ≈ 0`).   It is not possible to pick a nonzero `atol` automatically because it depends on the overall scaling (the \"units\") of your problem: for example, in `x - y ≈ 0`, `atol=1e-9` is an absurdly small tolerance if `x` is the [radius of the Earth](https://en.wikipedia.org/wiki/Earth_radius) in meters, but an absurdly large tolerance if `x` is the [radius of a Hydrogen atom](https://en.wikipedia.org/wiki/Bohr_radius) in meters.\n",
       "\n",
       "# Examples\n",
       "\n",
       "```jldoctest\n",
       "julia> 0.1 ≈ (0.1 - 1e-10)\n",
       "true\n",
       "\n",
       "julia> isapprox(10, 11; atol = 2)\n",
       "true\n",
       "\n",
       "julia> isapprox([10.0^9, 1.0], [10.0^9, 2.0])\n",
       "true\n",
       "\n",
       "julia> 1e-10 ≈ 0\n",
       "false\n",
       "\n",
       "julia> isapprox(1e-10, 0, atol=1e-8)\n",
       "true\n",
       "```\n"
      ],
      "text/plain": [
       "\u001b[36m  isapprox(x, y; rtol::Real=atol>0 ? 0 : √eps, atol::Real=0, nans::Bool=false, norm::Function)\u001b[39m\n",
       "\n",
       "  Inexact equality comparison: \u001b[36mtrue\u001b[39m if \u001b[36mnorm(x-y) <= max(atol,\n",
       "  rtol*max(norm(x), norm(y)))\u001b[39m. The default \u001b[36matol\u001b[39m is zero and the default \u001b[36mrtol\u001b[39m\n",
       "  depends on the types of \u001b[36mx\u001b[39m and \u001b[36my\u001b[39m. The keyword argument \u001b[36mnans\u001b[39m determines\n",
       "  whether or not NaN values are considered equal (defaults to false).\n",
       "\n",
       "  For real or complex floating-point values, if an \u001b[36matol > 0\u001b[39m is not specified,\n",
       "  \u001b[36mrtol\u001b[39m defaults to the square root of \u001b[36meps\u001b[39m of the type of \u001b[36mx\u001b[39m or \u001b[36my\u001b[39m, whichever is\n",
       "  bigger (least precise). This corresponds to requiring equality of about half\n",
       "  of the significand digits. Otherwise, e.g. for integer arguments or if an\n",
       "  \u001b[36matol > 0\u001b[39m is supplied, \u001b[36mrtol\u001b[39m defaults to zero.\n",
       "\n",
       "  \u001b[36mx\u001b[39m and \u001b[36my\u001b[39m may also be arrays of numbers, in which case \u001b[36mnorm\u001b[39m defaults to\n",
       "  \u001b[36mvecnorm\u001b[39m but may be changed by passing a \u001b[36mnorm::Function\u001b[39m keyword argument.\n",
       "  (For numbers, \u001b[36mnorm\u001b[39m is the same thing as \u001b[36mabs\u001b[39m.) When \u001b[36mx\u001b[39m and \u001b[36my\u001b[39m are arrays, if\n",
       "  \u001b[36mnorm(x-y)\u001b[39m is not finite (i.e. \u001b[36m±Inf\u001b[39m or \u001b[36mNaN\u001b[39m), the comparison falls back to\n",
       "  checking whether all elements of \u001b[36mx\u001b[39m and \u001b[36my\u001b[39m are approximately equal\n",
       "  component-wise.\n",
       "\n",
       "  The binary operator \u001b[36m≈\u001b[39m is equivalent to \u001b[36misapprox\u001b[39m with the default arguments,\n",
       "  and \u001b[36mx ≉ y\u001b[39m is equivalent to \u001b[36m!isapprox(x,y)\u001b[39m.\n",
       "\n",
       "  Note that \u001b[36mx ≈ 0\u001b[39m (i.e., comparing to zero with the default tolerances) is\n",
       "  equivalent to \u001b[36mx == 0\u001b[39m since the default \u001b[36matol\u001b[39m is \u001b[36m0\u001b[39m. In such cases, you should\n",
       "  either supply an appropriate \u001b[36matol\u001b[39m (or use \u001b[36mnorm(x) ≤ atol\u001b[39m) or rearrange your\n",
       "  code (e.g. use \u001b[36mx ≈ y\u001b[39m rather than \u001b[36mx - y ≈ 0\u001b[39m). It is not possible to pick a\n",
       "  nonzero \u001b[36matol\u001b[39m automatically because it depends on the overall scaling (the\n",
       "  \"units\") of your problem: for example, in \u001b[36mx - y ≈ 0\u001b[39m, \u001b[36matol=1e-9\u001b[39m is an\n",
       "  absurdly small tolerance if \u001b[36mx\u001b[39m is the radius of the Earth\n",
       "  (https://en.wikipedia.org/wiki/Earth_radius) in meters, but an absurdly\n",
       "  large tolerance if \u001b[36mx\u001b[39m is the radius of a Hydrogen atom\n",
       "  (https://en.wikipedia.org/wiki/Bohr_radius) in meters.\n",
       "\n",
       "\u001b[1m  Examples\u001b[22m\n",
       "\u001b[1m  ≡≡≡≡≡≡≡≡≡≡\u001b[22m\n",
       "\n",
       "\u001b[36m  julia> 0.1 ≈ (0.1 - 1e-10)\u001b[39m\n",
       "\u001b[36m  true\u001b[39m\n",
       "\u001b[36m  \u001b[39m\n",
       "\u001b[36m  julia> isapprox(10, 11; atol = 2)\u001b[39m\n",
       "\u001b[36m  true\u001b[39m\n",
       "\u001b[36m  \u001b[39m\n",
       "\u001b[36m  julia> isapprox([10.0^9, 1.0], [10.0^9, 2.0])\u001b[39m\n",
       "\u001b[36m  true\u001b[39m\n",
       "\u001b[36m  \u001b[39m\n",
       "\u001b[36m  julia> 1e-10 ≈ 0\u001b[39m\n",
       "\u001b[36m  false\u001b[39m\n",
       "\u001b[36m  \u001b[39m\n",
       "\u001b[36m  julia> isapprox(1e-10, 0, atol=1e-8)\u001b[39m\n",
       "\u001b[36m  true\u001b[39m"
      ]
     },
     "execution_count": 13,
     "metadata": {},
     "output_type": "execute_result"
    }
   ],
   "source": [
    "?isapprox"
   ]
  },
  {
   "cell_type": "markdown",
   "metadata": {},
   "source": [
    "We can now benchmark the C code directly from Julia:"
   ]
  },
  {
   "cell_type": "code",
   "execution_count": 14,
   "metadata": {
    "scrolled": false
   },
   "outputs": [
    {
     "data": {
      "text/plain": [
       "BenchmarkTools.Trial: \n",
       "  memory estimate:  0 bytes\n",
       "  allocs estimate:  0\n",
       "  --------------\n",
       "  minimum time:     13.560 ms (0.00% GC)\n",
       "  median time:      13.604 ms (0.00% GC)\n",
       "  mean time:        13.636 ms (0.00% GC)\n",
       "  maximum time:     15.157 ms (0.00% GC)\n",
       "  --------------\n",
       "  samples:          367\n",
       "  evals/sample:     1"
      ]
     },
     "execution_count": 14,
     "metadata": {},
     "output_type": "execute_result"
    }
   ],
   "source": [
    "c_bench = @benchmark c_sum($a)"
   ]
  },
  {
   "cell_type": "code",
   "execution_count": 15,
   "metadata": {
    "scrolled": false
   },
   "outputs": [
    {
     "name": "stdout",
     "output_type": "stream",
     "text": [
      "C: Fastest time was 13.560436 msec\n"
     ]
    }
   ],
   "source": [
    "println(\"C: Fastest time was $(minimum(c_bench.times) / 1e6) msec\")"
   ]
  },
  {
   "cell_type": "code",
   "execution_count": 16,
   "metadata": {
    "scrolled": true
   },
   "outputs": [
    {
     "data": {
      "text/plain": [
       "Dict{Any,Any} with 1 entry:\n",
       "  \"C\" => 13.5604"
      ]
     },
     "execution_count": 16,
     "metadata": {},
     "output_type": "execute_result"
    }
   ],
   "source": [
    "d = Dict()  # a \"dictionary\", i.e. an associative array\n",
    "d[\"C\"] = minimum(c_bench.times) / 1e6  # in milliseconds\n",
    "d"
   ]
  },
  {
   "cell_type": "code",
   "execution_count": 17,
   "metadata": {
    "scrolled": true
   },
   "outputs": [
    {
     "data": {
      "text/plain": [
       "Plots.GRBackend()"
      ]
     },
     "execution_count": 17,
     "metadata": {},
     "output_type": "execute_result"
    }
   ],
   "source": [
    "using Plots\n",
    "gr()"
   ]
  },
  {
   "cell_type": "code",
   "execution_count": 18,
   "metadata": {},
   "outputs": [
    {
     "data": {
      "image/svg+xml": [
       "<?xml version=\"1.0\" encoding=\"utf-8\"?>\n",
       "<svg xmlns=\"http://www.w3.org/2000/svg\" xmlns:xlink=\"http://www.w3.org/1999/xlink\" width=\"600\" height=\"400\" viewBox=\"0 0 2400 1600\">\n",
       "<defs>\n",
       "  <clipPath id=\"clip7200\">\n",
       "    <rect x=\"0\" y=\"0\" width=\"2000\" height=\"2000\"/>\n",
       "  </clipPath>\n",
       "</defs>\n",
       "<defs>\n",
       "  <clipPath id=\"clip7201\">\n",
       "    <rect x=\"0\" y=\"0\" width=\"2400\" height=\"1600\"/>\n",
       "  </clipPath>\n",
       "</defs>\n",
       "<polygon clip-path=\"url(#clip7201)\" points=\"\n",
       "0,1600 2400,1600 2400,0 0,0 \n",
       "  \" fill=\"#ffffff\" fill-rule=\"evenodd\" fill-opacity=\"1\"/>\n",
       "<defs>\n",
       "  <clipPath id=\"clip7202\">\n",
       "    <rect x=\"480\" y=\"0\" width=\"1681\" height=\"1600\"/>\n",
       "  </clipPath>\n",
       "</defs>\n",
       "<polygon clip-path=\"url(#clip7201)\" points=\"\n",
       "211.005,1440.48 2321.26,1440.48 2321.26,47.2441 211.005,47.2441 \n",
       "  \" fill=\"#ffffff\" fill-rule=\"evenodd\" fill-opacity=\"1\"/>\n",
       "<defs>\n",
       "  <clipPath id=\"clip7203\">\n",
       "    <rect x=\"211\" y=\"47\" width=\"2111\" height=\"1394\"/>\n",
       "  </clipPath>\n",
       "</defs>\n",
       "<polyline clip-path=\"url(#clip7203)\" style=\"stroke:#000000; stroke-width:2; stroke-opacity:0.1; fill:none\" points=\"\n",
       "  341.874,1440.48 341.874,47.2441 \n",
       "  \"/>\n",
       "<polyline clip-path=\"url(#clip7203)\" style=\"stroke:#000000; stroke-width:2; stroke-opacity:0.1; fill:none\" points=\"\n",
       "  752.381,1440.48 752.381,47.2441 \n",
       "  \"/>\n",
       "<polyline clip-path=\"url(#clip7203)\" style=\"stroke:#000000; stroke-width:2; stroke-opacity:0.1; fill:none\" points=\"\n",
       "  1162.89,1440.48 1162.89,47.2441 \n",
       "  \"/>\n",
       "<polyline clip-path=\"url(#clip7203)\" style=\"stroke:#000000; stroke-width:2; stroke-opacity:0.1; fill:none\" points=\"\n",
       "  1573.39,1440.48 1573.39,47.2441 \n",
       "  \"/>\n",
       "<polyline clip-path=\"url(#clip7203)\" style=\"stroke:#000000; stroke-width:2; stroke-opacity:0.1; fill:none\" points=\"\n",
       "  1983.9,1440.48 1983.9,47.2441 \n",
       "  \"/>\n",
       "<polyline clip-path=\"url(#clip7203)\" style=\"stroke:#000000; stroke-width:2; stroke-opacity:0.1; fill:none\" points=\"\n",
       "  211.005,1401.05 2321.26,1401.05 \n",
       "  \"/>\n",
       "<polyline clip-path=\"url(#clip7203)\" style=\"stroke:#000000; stroke-width:2; stroke-opacity:0.1; fill:none\" points=\"\n",
       "  211.005,1088.1 2321.26,1088.1 \n",
       "  \"/>\n",
       "<polyline clip-path=\"url(#clip7203)\" style=\"stroke:#000000; stroke-width:2; stroke-opacity:0.1; fill:none\" points=\"\n",
       "  211.005,775.158 2321.26,775.158 \n",
       "  \"/>\n",
       "<polyline clip-path=\"url(#clip7203)\" style=\"stroke:#000000; stroke-width:2; stroke-opacity:0.1; fill:none\" points=\"\n",
       "  211.005,462.211 2321.26,462.211 \n",
       "  \"/>\n",
       "<polyline clip-path=\"url(#clip7203)\" style=\"stroke:#000000; stroke-width:2; stroke-opacity:0.1; fill:none\" points=\"\n",
       "  211.005,149.265 2321.26,149.265 \n",
       "  \"/>\n",
       "<polyline clip-path=\"url(#clip7201)\" style=\"stroke:#000000; stroke-width:4; stroke-opacity:1; fill:none\" points=\"\n",
       "  211.005,1440.48 2321.26,1440.48 \n",
       "  \"/>\n",
       "<polyline clip-path=\"url(#clip7201)\" style=\"stroke:#000000; stroke-width:4; stroke-opacity:1; fill:none\" points=\"\n",
       "  211.005,1440.48 211.005,47.2441 \n",
       "  \"/>\n",
       "<polyline clip-path=\"url(#clip7201)\" style=\"stroke:#000000; stroke-width:4; stroke-opacity:1; fill:none\" points=\"\n",
       "  341.874,1440.48 341.874,1419.58 \n",
       "  \"/>\n",
       "<polyline clip-path=\"url(#clip7201)\" style=\"stroke:#000000; stroke-width:4; stroke-opacity:1; fill:none\" points=\"\n",
       "  752.381,1440.48 752.381,1419.58 \n",
       "  \"/>\n",
       "<polyline clip-path=\"url(#clip7201)\" style=\"stroke:#000000; stroke-width:4; stroke-opacity:1; fill:none\" points=\"\n",
       "  1162.89,1440.48 1162.89,1419.58 \n",
       "  \"/>\n",
       "<polyline clip-path=\"url(#clip7201)\" style=\"stroke:#000000; stroke-width:4; stroke-opacity:1; fill:none\" points=\"\n",
       "  1573.39,1440.48 1573.39,1419.58 \n",
       "  \"/>\n",
       "<polyline clip-path=\"url(#clip7201)\" style=\"stroke:#000000; stroke-width:4; stroke-opacity:1; fill:none\" points=\"\n",
       "  1983.9,1440.48 1983.9,1419.58 \n",
       "  \"/>\n",
       "<polyline clip-path=\"url(#clip7201)\" style=\"stroke:#000000; stroke-width:4; stroke-opacity:1; fill:none\" points=\"\n",
       "  211.005,1401.05 242.659,1401.05 \n",
       "  \"/>\n",
       "<polyline clip-path=\"url(#clip7201)\" style=\"stroke:#000000; stroke-width:4; stroke-opacity:1; fill:none\" points=\"\n",
       "  211.005,1088.1 242.659,1088.1 \n",
       "  \"/>\n",
       "<polyline clip-path=\"url(#clip7201)\" style=\"stroke:#000000; stroke-width:4; stroke-opacity:1; fill:none\" points=\"\n",
       "  211.005,775.158 242.659,775.158 \n",
       "  \"/>\n",
       "<polyline clip-path=\"url(#clip7201)\" style=\"stroke:#000000; stroke-width:4; stroke-opacity:1; fill:none\" points=\"\n",
       "  211.005,462.211 242.659,462.211 \n",
       "  \"/>\n",
       "<polyline clip-path=\"url(#clip7201)\" style=\"stroke:#000000; stroke-width:4; stroke-opacity:1; fill:none\" points=\"\n",
       "  211.005,149.265 242.659,149.265 \n",
       "  \"/>\n",
       "<g clip-path=\"url(#clip7201)\">\n",
       "<text style=\"fill:#000000; fill-opacity:1; font-family:Arial,Helvetica Neue,Helvetica,sans-serif; font-size:48px; text-anchor:middle;\" transform=\"rotate(0, 341.874, 1494.48)\" x=\"341.874\" y=\"1494.48\">13.56</text>\n",
       "</g>\n",
       "<g clip-path=\"url(#clip7201)\">\n",
       "<text style=\"fill:#000000; fill-opacity:1; font-family:Arial,Helvetica Neue,Helvetica,sans-serif; font-size:48px; text-anchor:middle;\" transform=\"rotate(0, 752.381, 1494.48)\" x=\"752.381\" y=\"1494.48\">13.59</text>\n",
       "</g>\n",
       "<g clip-path=\"url(#clip7201)\">\n",
       "<text style=\"fill:#000000; fill-opacity:1; font-family:Arial,Helvetica Neue,Helvetica,sans-serif; font-size:48px; text-anchor:middle;\" transform=\"rotate(0, 1162.89, 1494.48)\" x=\"1162.89\" y=\"1494.48\">13.62</text>\n",
       "</g>\n",
       "<g clip-path=\"url(#clip7201)\">\n",
       "<text style=\"fill:#000000; fill-opacity:1; font-family:Arial,Helvetica Neue,Helvetica,sans-serif; font-size:48px; text-anchor:middle;\" transform=\"rotate(0, 1573.39, 1494.48)\" x=\"1573.39\" y=\"1494.48\">13.65</text>\n",
       "</g>\n",
       "<g clip-path=\"url(#clip7201)\">\n",
       "<text style=\"fill:#000000; fill-opacity:1; font-family:Arial,Helvetica Neue,Helvetica,sans-serif; font-size:48px; text-anchor:middle;\" transform=\"rotate(0, 1983.9, 1494.48)\" x=\"1983.9\" y=\"1494.48\">13.68</text>\n",
       "</g>\n",
       "<g clip-path=\"url(#clip7201)\">\n",
       "<text style=\"fill:#000000; fill-opacity:1; font-family:Arial,Helvetica Neue,Helvetica,sans-serif; font-size:48px; text-anchor:end;\" transform=\"rotate(0, 187.005, 1418.55)\" x=\"187.005\" y=\"1418.55\">0</text>\n",
       "</g>\n",
       "<g clip-path=\"url(#clip7201)\">\n",
       "<text style=\"fill:#000000; fill-opacity:1; font-family:Arial,Helvetica Neue,Helvetica,sans-serif; font-size:48px; text-anchor:end;\" transform=\"rotate(0, 187.005, 1105.6)\" x=\"187.005\" y=\"1105.6\">10</text>\n",
       "</g>\n",
       "<g clip-path=\"url(#clip7201)\">\n",
       "<text style=\"fill:#000000; fill-opacity:1; font-family:Arial,Helvetica Neue,Helvetica,sans-serif; font-size:48px; text-anchor:end;\" transform=\"rotate(0, 187.005, 792.658)\" x=\"187.005\" y=\"792.658\">20</text>\n",
       "</g>\n",
       "<g clip-path=\"url(#clip7201)\">\n",
       "<text style=\"fill:#000000; fill-opacity:1; font-family:Arial,Helvetica Neue,Helvetica,sans-serif; font-size:48px; text-anchor:end;\" transform=\"rotate(0, 187.005, 479.711)\" x=\"187.005\" y=\"479.711\">30</text>\n",
       "</g>\n",
       "<g clip-path=\"url(#clip7201)\">\n",
       "<text style=\"fill:#000000; fill-opacity:1; font-family:Arial,Helvetica Neue,Helvetica,sans-serif; font-size:48px; text-anchor:end;\" transform=\"rotate(0, 187.005, 166.765)\" x=\"187.005\" y=\"166.765\">40</text>\n",
       "</g>\n",
       "<g clip-path=\"url(#clip7201)\">\n",
       "<text style=\"fill:#000000; fill-opacity:1; font-family:Arial,Helvetica Neue,Helvetica,sans-serif; font-size:66px; text-anchor:middle;\" transform=\"rotate(0, 1266.13, 1590.4)\" x=\"1266.13\" y=\"1590.4\">milliseconds</text>\n",
       "</g>\n",
       "<g clip-path=\"url(#clip7201)\">\n",
       "<text style=\"fill:#000000; fill-opacity:1; font-family:Arial,Helvetica Neue,Helvetica,sans-serif; font-size:66px; text-anchor:middle;\" transform=\"rotate(-90, 57.6, 743.863)\" x=\"57.6\" y=\"743.863\">count</text>\n",
       "</g>\n",
       "<polygon clip-path=\"url(#clip7203)\" points=\"\n",
       "341.874,1338.46 341.874,1401.05 410.292,1401.05 410.292,1338.46 341.874,1338.46 341.874,1338.46 \n",
       "  \" fill=\"#009af9\" fill-rule=\"evenodd\" fill-opacity=\"1\"/>\n",
       "<polyline clip-path=\"url(#clip7203)\" style=\"stroke:#000000; stroke-width:4; stroke-opacity:1; fill:none\" points=\"\n",
       "  341.874,1338.46 341.874,1401.05 410.292,1401.05 410.292,1338.46 341.874,1338.46 \n",
       "  \"/>\n",
       "<polygon clip-path=\"url(#clip7203)\" points=\"\n",
       "410.292,1275.87 410.292,1401.05 478.71,1401.05 478.71,1275.87 410.292,1275.87 410.292,1275.87 \n",
       "  \" fill=\"#009af9\" fill-rule=\"evenodd\" fill-opacity=\"1\"/>\n",
       "<polyline clip-path=\"url(#clip7203)\" style=\"stroke:#000000; stroke-width:4; stroke-opacity:1; fill:none\" points=\"\n",
       "  410.292,1275.87 410.292,1401.05 478.71,1401.05 478.71,1275.87 410.292,1275.87 \n",
       "  \"/>\n",
       "<polygon clip-path=\"url(#clip7203)\" points=\"\n",
       "478.71,931.631 478.71,1401.05 547.128,1401.05 547.128,931.631 478.71,931.631 478.71,931.631 \n",
       "  \" fill=\"#009af9\" fill-rule=\"evenodd\" fill-opacity=\"1\"/>\n",
       "<polyline clip-path=\"url(#clip7203)\" style=\"stroke:#000000; stroke-width:4; stroke-opacity:1; fill:none\" points=\"\n",
       "  478.71,931.631 478.71,1401.05 547.128,1401.05 547.128,931.631 478.71,931.631 \n",
       "  \"/>\n",
       "<polygon clip-path=\"url(#clip7203)\" points=\"\n",
       "547.128,556.095 547.128,1401.05 615.545,1401.05 615.545,556.095 547.128,556.095 547.128,556.095 \n",
       "  \" fill=\"#009af9\" fill-rule=\"evenodd\" fill-opacity=\"1\"/>\n",
       "<polyline clip-path=\"url(#clip7203)\" style=\"stroke:#000000; stroke-width:4; stroke-opacity:1; fill:none\" points=\"\n",
       "  547.128,556.095 547.128,1401.05 615.545,1401.05 615.545,556.095 547.128,556.095 \n",
       "  \"/>\n",
       "<polygon clip-path=\"url(#clip7203)\" points=\"\n",
       "615.545,806.453 615.545,1401.05 683.963,1401.05 683.963,806.453 615.545,806.453 615.545,806.453 \n",
       "  \" fill=\"#009af9\" fill-rule=\"evenodd\" fill-opacity=\"1\"/>\n",
       "<polyline clip-path=\"url(#clip7203)\" style=\"stroke:#000000; stroke-width:4; stroke-opacity:1; fill:none\" points=\"\n",
       "  615.545,806.453 615.545,1401.05 683.963,1401.05 683.963,806.453 615.545,806.453 \n",
       "  \"/>\n",
       "<polygon clip-path=\"url(#clip7203)\" points=\"\n",
       "683.963,86.6754 683.963,1401.05 752.381,1401.05 752.381,86.6754 683.963,86.6754 683.963,86.6754 \n",
       "  \" fill=\"#009af9\" fill-rule=\"evenodd\" fill-opacity=\"1\"/>\n",
       "<polyline clip-path=\"url(#clip7203)\" style=\"stroke:#000000; stroke-width:4; stroke-opacity:1; fill:none\" points=\"\n",
       "  683.963,86.6754 683.963,1401.05 752.381,1401.05 752.381,86.6754 683.963,86.6754 \n",
       "  \"/>\n",
       "<polygon clip-path=\"url(#clip7203)\" points=\"\n",
       "752.381,430.917 752.381,1401.05 820.799,1401.05 820.799,430.917 752.381,430.917 752.381,430.917 \n",
       "  \" fill=\"#009af9\" fill-rule=\"evenodd\" fill-opacity=\"1\"/>\n",
       "<polyline clip-path=\"url(#clip7203)\" style=\"stroke:#000000; stroke-width:4; stroke-opacity:1; fill:none\" points=\"\n",
       "  752.381,430.917 752.381,1401.05 820.799,1401.05 820.799,430.917 752.381,430.917 \n",
       "  \"/>\n",
       "<polygon clip-path=\"url(#clip7203)\" points=\"\n",
       "820.799,712.569 820.799,1401.05 889.216,1401.05 889.216,712.569 820.799,712.569 820.799,712.569 \n",
       "  \" fill=\"#009af9\" fill-rule=\"evenodd\" fill-opacity=\"1\"/>\n",
       "<polyline clip-path=\"url(#clip7203)\" style=\"stroke:#000000; stroke-width:4; stroke-opacity:1; fill:none\" points=\"\n",
       "  820.799,712.569 820.799,1401.05 889.216,1401.05 889.216,712.569 820.799,712.569 \n",
       "  \"/>\n",
       "<polygon clip-path=\"url(#clip7203)\" points=\"\n",
       "889.216,618.685 889.216,1401.05 957.634,1401.05 957.634,618.685 889.216,618.685 889.216,618.685 \n",
       "  \" fill=\"#009af9\" fill-rule=\"evenodd\" fill-opacity=\"1\"/>\n",
       "<polyline clip-path=\"url(#clip7203)\" style=\"stroke:#000000; stroke-width:4; stroke-opacity:1; fill:none\" points=\"\n",
       "  889.216,618.685 889.216,1401.05 957.634,1401.05 957.634,618.685 889.216,618.685 \n",
       "  \"/>\n",
       "<polygon clip-path=\"url(#clip7203)\" points=\"\n",
       "957.634,806.453 957.634,1401.05 1026.05,1401.05 1026.05,806.453 957.634,806.453 957.634,806.453 \n",
       "  \" fill=\"#009af9\" fill-rule=\"evenodd\" fill-opacity=\"1\"/>\n",
       "<polyline clip-path=\"url(#clip7203)\" style=\"stroke:#000000; stroke-width:4; stroke-opacity:1; fill:none\" points=\"\n",
       "  957.634,806.453 957.634,1401.05 1026.05,1401.05 1026.05,806.453 957.634,806.453 \n",
       "  \"/>\n",
       "<polygon clip-path=\"url(#clip7203)\" points=\"\n",
       "1026.05,1088.1 1026.05,1401.05 1094.47,1401.05 1094.47,1088.1 1026.05,1088.1 1026.05,1088.1 \n",
       "  \" fill=\"#009af9\" fill-rule=\"evenodd\" fill-opacity=\"1\"/>\n",
       "<polyline clip-path=\"url(#clip7203)\" style=\"stroke:#000000; stroke-width:4; stroke-opacity:1; fill:none\" points=\"\n",
       "  1026.05,1088.1 1026.05,1401.05 1094.47,1401.05 1094.47,1088.1 1026.05,1088.1 \n",
       "  \"/>\n",
       "<polygon clip-path=\"url(#clip7203)\" points=\"\n",
       "1094.47,1088.1 1094.47,1401.05 1162.89,1401.05 1162.89,1088.1 1094.47,1088.1 1094.47,1088.1 \n",
       "  \" fill=\"#009af9\" fill-rule=\"evenodd\" fill-opacity=\"1\"/>\n",
       "<polyline clip-path=\"url(#clip7203)\" style=\"stroke:#000000; stroke-width:4; stroke-opacity:1; fill:none\" points=\"\n",
       "  1094.47,1088.1 1094.47,1401.05 1162.89,1401.05 1162.89,1088.1 1094.47,1088.1 \n",
       "  \"/>\n",
       "<polygon clip-path=\"url(#clip7203)\" points=\"\n",
       "1162.89,931.631 1162.89,1401.05 1231.3,1401.05 1231.3,931.631 1162.89,931.631 1162.89,931.631 \n",
       "  \" fill=\"#009af9\" fill-rule=\"evenodd\" fill-opacity=\"1\"/>\n",
       "<polyline clip-path=\"url(#clip7203)\" style=\"stroke:#000000; stroke-width:4; stroke-opacity:1; fill:none\" points=\"\n",
       "  1162.89,931.631 1162.89,1401.05 1231.3,1401.05 1231.3,931.631 1162.89,931.631 \n",
       "  \"/>\n",
       "<polygon clip-path=\"url(#clip7203)\" points=\"\n",
       "1231.3,1025.52 1231.3,1401.05 1299.72,1401.05 1299.72,1025.52 1231.3,1025.52 1231.3,1025.52 \n",
       "  \" fill=\"#009af9\" fill-rule=\"evenodd\" fill-opacity=\"1\"/>\n",
       "<polyline clip-path=\"url(#clip7203)\" style=\"stroke:#000000; stroke-width:4; stroke-opacity:1; fill:none\" points=\"\n",
       "  1231.3,1025.52 1231.3,1401.05 1299.72,1401.05 1299.72,1025.52 1231.3,1025.52 \n",
       "  \"/>\n",
       "<polygon clip-path=\"url(#clip7203)\" points=\"\n",
       "1299.72,931.631 1299.72,1401.05 1368.14,1401.05 1368.14,931.631 1299.72,931.631 1299.72,931.631 \n",
       "  \" fill=\"#009af9\" fill-rule=\"evenodd\" fill-opacity=\"1\"/>\n",
       "<polyline clip-path=\"url(#clip7203)\" style=\"stroke:#000000; stroke-width:4; stroke-opacity:1; fill:none\" points=\"\n",
       "  1299.72,931.631 1299.72,1401.05 1368.14,1401.05 1368.14,931.631 1299.72,931.631 \n",
       "  \"/>\n",
       "<polygon clip-path=\"url(#clip7203)\" points=\"\n",
       "1368.14,931.631 1368.14,1401.05 1436.56,1401.05 1436.56,931.631 1368.14,931.631 1368.14,931.631 \n",
       "  \" fill=\"#009af9\" fill-rule=\"evenodd\" fill-opacity=\"1\"/>\n",
       "<polyline clip-path=\"url(#clip7203)\" style=\"stroke:#000000; stroke-width:4; stroke-opacity:1; fill:none\" points=\"\n",
       "  1368.14,931.631 1368.14,1401.05 1436.56,1401.05 1436.56,931.631 1368.14,931.631 \n",
       "  \"/>\n",
       "<polygon clip-path=\"url(#clip7203)\" points=\"\n",
       "1436.56,1150.69 1436.56,1401.05 1504.98,1401.05 1504.98,1150.69 1436.56,1150.69 1436.56,1150.69 \n",
       "  \" fill=\"#009af9\" fill-rule=\"evenodd\" fill-opacity=\"1\"/>\n",
       "<polyline clip-path=\"url(#clip7203)\" style=\"stroke:#000000; stroke-width:4; stroke-opacity:1; fill:none\" points=\"\n",
       "  1436.56,1150.69 1436.56,1401.05 1504.98,1401.05 1504.98,1150.69 1436.56,1150.69 \n",
       "  \"/>\n",
       "<polygon clip-path=\"url(#clip7203)\" points=\"\n",
       "1504.98,1181.99 1504.98,1401.05 1573.39,1401.05 1573.39,1181.99 1504.98,1181.99 1504.98,1181.99 \n",
       "  \" fill=\"#009af9\" fill-rule=\"evenodd\" fill-opacity=\"1\"/>\n",
       "<polyline clip-path=\"url(#clip7203)\" style=\"stroke:#000000; stroke-width:4; stroke-opacity:1; fill:none\" points=\"\n",
       "  1504.98,1181.99 1504.98,1401.05 1573.39,1401.05 1573.39,1181.99 1504.98,1181.99 \n",
       "  \"/>\n",
       "<polygon clip-path=\"url(#clip7203)\" points=\"\n",
       "1573.39,1275.87 1573.39,1401.05 1641.81,1401.05 1641.81,1275.87 1573.39,1275.87 1573.39,1275.87 \n",
       "  \" fill=\"#009af9\" fill-rule=\"evenodd\" fill-opacity=\"1\"/>\n",
       "<polyline clip-path=\"url(#clip7203)\" style=\"stroke:#000000; stroke-width:4; stroke-opacity:1; fill:none\" points=\"\n",
       "  1573.39,1275.87 1573.39,1401.05 1641.81,1401.05 1641.81,1275.87 1573.39,1275.87 \n",
       "  \"/>\n",
       "<polygon clip-path=\"url(#clip7203)\" points=\"\n",
       "1641.81,1181.99 1641.81,1401.05 1710.23,1401.05 1710.23,1181.99 1641.81,1181.99 1641.81,1181.99 \n",
       "  \" fill=\"#009af9\" fill-rule=\"evenodd\" fill-opacity=\"1\"/>\n",
       "<polyline clip-path=\"url(#clip7203)\" style=\"stroke:#000000; stroke-width:4; stroke-opacity:1; fill:none\" points=\"\n",
       "  1641.81,1181.99 1641.81,1401.05 1710.23,1401.05 1710.23,1181.99 1641.81,1181.99 \n",
       "  \"/>\n",
       "<polygon clip-path=\"url(#clip7203)\" points=\"\n",
       "1710.23,1213.28 1710.23,1401.05 1778.65,1401.05 1778.65,1213.28 1710.23,1213.28 1710.23,1213.28 \n",
       "  \" fill=\"#009af9\" fill-rule=\"evenodd\" fill-opacity=\"1\"/>\n",
       "<polyline clip-path=\"url(#clip7203)\" style=\"stroke:#000000; stroke-width:4; stroke-opacity:1; fill:none\" points=\"\n",
       "  1710.23,1213.28 1710.23,1401.05 1778.65,1401.05 1778.65,1213.28 1710.23,1213.28 \n",
       "  \"/>\n",
       "<polygon clip-path=\"url(#clip7203)\" points=\"\n",
       "1778.65,1244.58 1778.65,1401.05 1847.06,1401.05 1847.06,1244.58 1778.65,1244.58 1778.65,1244.58 \n",
       "  \" fill=\"#009af9\" fill-rule=\"evenodd\" fill-opacity=\"1\"/>\n",
       "<polyline clip-path=\"url(#clip7203)\" style=\"stroke:#000000; stroke-width:4; stroke-opacity:1; fill:none\" points=\"\n",
       "  1778.65,1244.58 1778.65,1401.05 1847.06,1401.05 1847.06,1244.58 1778.65,1244.58 \n",
       "  \"/>\n",
       "<polygon clip-path=\"url(#clip7203)\" points=\"\n",
       "1847.06,1213.28 1847.06,1401.05 1915.48,1401.05 1915.48,1213.28 1847.06,1213.28 1847.06,1213.28 \n",
       "  \" fill=\"#009af9\" fill-rule=\"evenodd\" fill-opacity=\"1\"/>\n",
       "<polyline clip-path=\"url(#clip7203)\" style=\"stroke:#000000; stroke-width:4; stroke-opacity:1; fill:none\" points=\"\n",
       "  1847.06,1213.28 1847.06,1401.05 1915.48,1401.05 1915.48,1213.28 1847.06,1213.28 \n",
       "  \"/>\n",
       "<polygon clip-path=\"url(#clip7203)\" points=\"\n",
       "1915.48,1369.76 1915.48,1401.05 1983.9,1401.05 1983.9,1369.76 1915.48,1369.76 1915.48,1369.76 \n",
       "  \" fill=\"#009af9\" fill-rule=\"evenodd\" fill-opacity=\"1\"/>\n",
       "<polyline clip-path=\"url(#clip7203)\" style=\"stroke:#000000; stroke-width:4; stroke-opacity:1; fill:none\" points=\"\n",
       "  1915.48,1369.76 1915.48,1401.05 1983.9,1401.05 1983.9,1369.76 1915.48,1369.76 \n",
       "  \"/>\n",
       "<polygon clip-path=\"url(#clip7203)\" points=\"\n",
       "1983.9,1275.87 1983.9,1401.05 2052.32,1401.05 2052.32,1275.87 1983.9,1275.87 1983.9,1275.87 \n",
       "  \" fill=\"#009af9\" fill-rule=\"evenodd\" fill-opacity=\"1\"/>\n",
       "<polyline clip-path=\"url(#clip7203)\" style=\"stroke:#000000; stroke-width:4; stroke-opacity:1; fill:none\" points=\"\n",
       "  1983.9,1275.87 1983.9,1401.05 2052.32,1401.05 2052.32,1275.87 1983.9,1275.87 \n",
       "  \"/>\n",
       "<polygon clip-path=\"url(#clip7203)\" points=\"\n",
       "2052.32,1338.46 2052.32,1401.05 2120.74,1401.05 2120.74,1338.46 2052.32,1338.46 2052.32,1338.46 \n",
       "  \" fill=\"#009af9\" fill-rule=\"evenodd\" fill-opacity=\"1\"/>\n",
       "<polyline clip-path=\"url(#clip7203)\" style=\"stroke:#000000; stroke-width:4; stroke-opacity:1; fill:none\" points=\"\n",
       "  2052.32,1338.46 2052.32,1401.05 2120.74,1401.05 2120.74,1338.46 2052.32,1338.46 \n",
       "  \"/>\n",
       "<polygon clip-path=\"url(#clip7203)\" points=\"\n",
       "2120.74,1244.58 2120.74,1401.05 2189.15,1401.05 2189.15,1244.58 2120.74,1244.58 2120.74,1244.58 \n",
       "  \" fill=\"#009af9\" fill-rule=\"evenodd\" fill-opacity=\"1\"/>\n",
       "<polyline clip-path=\"url(#clip7203)\" style=\"stroke:#000000; stroke-width:4; stroke-opacity:1; fill:none\" points=\"\n",
       "  2120.74,1244.58 2120.74,1401.05 2189.15,1401.05 2189.15,1244.58 2120.74,1244.58 \n",
       "  \"/>\n",
       "<polygon clip-path=\"url(#clip7203)\" points=\"\n",
       "2189.15,1338.46 2189.15,1401.05 2257.57,1401.05 2257.57,1338.46 2189.15,1338.46 2189.15,1338.46 \n",
       "  \" fill=\"#009af9\" fill-rule=\"evenodd\" fill-opacity=\"1\"/>\n",
       "<polyline clip-path=\"url(#clip7203)\" style=\"stroke:#000000; stroke-width:4; stroke-opacity:1; fill:none\" points=\"\n",
       "  2189.15,1338.46 2189.15,1401.05 2257.57,1401.05 2257.57,1338.46 2189.15,1338.46 \n",
       "  \"/>\n",
       "<polygon clip-path=\"url(#clip7203)\" points=\"\n",
       "2257.57,1338.46 2257.57,1401.05 2325.99,1401.05 2325.99,1338.46 2257.57,1338.46 2257.57,1338.46 \n",
       "  \" fill=\"#009af9\" fill-rule=\"evenodd\" fill-opacity=\"1\"/>\n",
       "<polyline clip-path=\"url(#clip7203)\" style=\"stroke:#000000; stroke-width:4; stroke-opacity:1; fill:none\" points=\"\n",
       "  2257.57,1338.46 2257.57,1401.05 2325.99,1401.05 2325.99,1338.46 2257.57,1338.46 \n",
       "  \"/>\n",
       "<polygon clip-path=\"url(#clip7203)\" points=\"\n",
       "2325.99,1369.76 2325.99,1401.05 2394.41,1401.05 2394.41,1369.76 2325.99,1369.76 2325.99,1369.76 \n",
       "  \" fill=\"#009af9\" fill-rule=\"evenodd\" fill-opacity=\"1\"/>\n",
       "<polyline clip-path=\"url(#clip7203)\" style=\"stroke:#000000; stroke-width:4; stroke-opacity:1; fill:none\" points=\"\n",
       "  2325.99,1369.76 2325.99,1401.05 2394.41,1401.05 2394.41,1369.76 2325.99,1369.76 \n",
       "  \"/>\n",
       "<polygon clip-path=\"url(#clip7203)\" points=\"\n",
       "2394.41,1338.46 2394.41,1401.05 2462.82,1401.05 2462.82,1338.46 2394.41,1338.46 2394.41,1338.46 \n",
       "  \" fill=\"#009af9\" fill-rule=\"evenodd\" fill-opacity=\"1\"/>\n",
       "<polyline clip-path=\"url(#clip7203)\" style=\"stroke:#000000; stroke-width:4; stroke-opacity:1; fill:none\" points=\"\n",
       "  2394.41,1338.46 2394.41,1401.05 2462.82,1401.05 2462.82,1338.46 2394.41,1338.46 \n",
       "  \"/>\n",
       "<polygon clip-path=\"url(#clip7203)\" points=\"\n",
       "2462.82,1369.76 2462.82,1401.05 2531.24,1401.05 2531.24,1369.76 2462.82,1369.76 2462.82,1369.76 \n",
       "  \" fill=\"#009af9\" fill-rule=\"evenodd\" fill-opacity=\"1\"/>\n",
       "<polyline clip-path=\"url(#clip7203)\" style=\"stroke:#000000; stroke-width:4; stroke-opacity:1; fill:none\" points=\"\n",
       "  2462.82,1369.76 2462.82,1401.05 2531.24,1401.05 2531.24,1369.76 2462.82,1369.76 \n",
       "  \"/>\n",
       "<polygon clip-path=\"url(#clip7203)\" points=\"\n",
       "2531.24,1338.46 2531.24,1401.05 2599.66,1401.05 2599.66,1338.46 2531.24,1338.46 2531.24,1338.46 \n",
       "  \" fill=\"#009af9\" fill-rule=\"evenodd\" fill-opacity=\"1\"/>\n",
       "<polyline clip-path=\"url(#clip7203)\" style=\"stroke:#000000; stroke-width:4; stroke-opacity:1; fill:none\" points=\"\n",
       "  2531.24,1338.46 2531.24,1401.05 2599.66,1401.05 2599.66,1338.46 2531.24,1338.46 \n",
       "  \"/>\n",
       "<polygon clip-path=\"url(#clip7203)\" points=\"\n",
       "2599.66,1369.76 2599.66,1401.05 2668.08,1401.05 2668.08,1369.76 2599.66,1369.76 2599.66,1369.76 \n",
       "  \" fill=\"#009af9\" fill-rule=\"evenodd\" fill-opacity=\"1\"/>\n",
       "<polyline clip-path=\"url(#clip7203)\" style=\"stroke:#000000; stroke-width:4; stroke-opacity:1; fill:none\" points=\"\n",
       "  2599.66,1369.76 2599.66,1401.05 2668.08,1401.05 2668.08,1369.76 2599.66,1369.76 \n",
       "  \"/>\n",
       "<polygon clip-path=\"url(#clip7203)\" points=\"\n",
       "2668.08,1401.05 2668.08,1401.05 2736.5,1401.05 2736.5,1401.05 2668.08,1401.05 2668.08,1401.05 \n",
       "  \" fill=\"#009af9\" fill-rule=\"evenodd\" fill-opacity=\"1\"/>\n",
       "<polyline clip-path=\"url(#clip7203)\" style=\"stroke:#000000; stroke-width:4; stroke-opacity:1; fill:none\" points=\"\n",
       "  2668.08,1401.05 2668.08,1401.05 2736.5,1401.05 2668.08,1401.05 \n",
       "  \"/>\n",
       "<polygon clip-path=\"url(#clip7203)\" points=\"\n",
       "2736.5,1338.46 2736.5,1401.05 2804.91,1401.05 2804.91,1338.46 2736.5,1338.46 2736.5,1338.46 \n",
       "  \" fill=\"#009af9\" fill-rule=\"evenodd\" fill-opacity=\"1\"/>\n",
       "<polyline clip-path=\"url(#clip7203)\" style=\"stroke:#000000; stroke-width:4; stroke-opacity:1; fill:none\" points=\"\n",
       "  2736.5,1338.46 2736.5,1401.05 2804.91,1401.05 2804.91,1338.46 2736.5,1338.46 \n",
       "  \"/>\n",
       "<polygon clip-path=\"url(#clip7203)\" points=\"\n",
       "2804.91,1401.05 2804.91,1401.05 2873.33,1401.05 2873.33,1401.05 2804.91,1401.05 2804.91,1401.05 \n",
       "  \" fill=\"#009af9\" fill-rule=\"evenodd\" fill-opacity=\"1\"/>\n",
       "<polyline clip-path=\"url(#clip7203)\" style=\"stroke:#000000; stroke-width:4; stroke-opacity:1; fill:none\" points=\"\n",
       "  2804.91,1401.05 2804.91,1401.05 2873.33,1401.05 2804.91,1401.05 \n",
       "  \"/>\n",
       "<polygon clip-path=\"url(#clip7203)\" points=\"\n",
       "2873.33,1307.17 2873.33,1401.05 2941.75,1401.05 2941.75,1307.17 2873.33,1307.17 2873.33,1307.17 \n",
       "  \" fill=\"#009af9\" fill-rule=\"evenodd\" fill-opacity=\"1\"/>\n",
       "<polyline clip-path=\"url(#clip7203)\" style=\"stroke:#000000; stroke-width:4; stroke-opacity:1; fill:none\" points=\"\n",
       "  2873.33,1307.17 2873.33,1401.05 2941.75,1401.05 2941.75,1307.17 2873.33,1307.17 \n",
       "  \"/>\n",
       "<polygon clip-path=\"url(#clip7203)\" points=\"\n",
       "2941.75,1369.76 2941.75,1401.05 3010.17,1401.05 3010.17,1369.76 2941.75,1369.76 2941.75,1369.76 \n",
       "  \" fill=\"#009af9\" fill-rule=\"evenodd\" fill-opacity=\"1\"/>\n",
       "<polyline clip-path=\"url(#clip7203)\" style=\"stroke:#000000; stroke-width:4; stroke-opacity:1; fill:none\" points=\"\n",
       "  2941.75,1369.76 2941.75,1401.05 3010.17,1401.05 3010.17,1369.76 2941.75,1369.76 \n",
       "  \"/>\n",
       "<polygon clip-path=\"url(#clip7203)\" points=\"\n",
       "3010.17,1401.05 3010.17,1401.05 3078.58,1401.05 3078.58,1401.05 3010.17,1401.05 3010.17,1401.05 \n",
       "  \" fill=\"#009af9\" fill-rule=\"evenodd\" fill-opacity=\"1\"/>\n",
       "<polyline clip-path=\"url(#clip7203)\" style=\"stroke:#000000; stroke-width:4; stroke-opacity:1; fill:none\" points=\"\n",
       "  3010.17,1401.05 3010.17,1401.05 3078.58,1401.05 3010.17,1401.05 \n",
       "  \"/>\n",
       "<polygon clip-path=\"url(#clip7203)\" points=\"\n",
       "3078.58,1401.05 3078.58,1401.05 3147,1401.05 3147,1401.05 3078.58,1401.05 3078.58,1401.05 \n",
       "  \" fill=\"#009af9\" fill-rule=\"evenodd\" fill-opacity=\"1\"/>\n",
       "<polyline clip-path=\"url(#clip7203)\" style=\"stroke:#000000; stroke-width:4; stroke-opacity:1; fill:none\" points=\"\n",
       "  3078.58,1401.05 3078.58,1401.05 3147,1401.05 3078.58,1401.05 \n",
       "  \"/>\n",
       "<polygon clip-path=\"url(#clip7203)\" points=\"\n",
       "3147,1401.05 3147,1401.05 3215.42,1401.05 3215.42,1401.05 3147,1401.05 3147,1401.05 \n",
       "  \" fill=\"#009af9\" fill-rule=\"evenodd\" fill-opacity=\"1\"/>\n",
       "<polyline clip-path=\"url(#clip7203)\" style=\"stroke:#000000; stroke-width:4; stroke-opacity:1; fill:none\" points=\"\n",
       "  3147,1401.05 3147,1401.05 3215.42,1401.05 3147,1401.05 \n",
       "  \"/>\n",
       "<polygon clip-path=\"url(#clip7203)\" points=\"\n",
       "3215.42,1401.05 3215.42,1401.05 3283.84,1401.05 3283.84,1401.05 3215.42,1401.05 3215.42,1401.05 \n",
       "  \" fill=\"#009af9\" fill-rule=\"evenodd\" fill-opacity=\"1\"/>\n",
       "<polyline clip-path=\"url(#clip7203)\" style=\"stroke:#000000; stroke-width:4; stroke-opacity:1; fill:none\" points=\"\n",
       "  3215.42,1401.05 3215.42,1401.05 3283.84,1401.05 3215.42,1401.05 \n",
       "  \"/>\n",
       "<polygon clip-path=\"url(#clip7203)\" points=\"\n",
       "3283.84,1369.76 3283.84,1401.05 3352.25,1401.05 3352.25,1369.76 3283.84,1369.76 3283.84,1369.76 \n",
       "  \" fill=\"#009af9\" fill-rule=\"evenodd\" fill-opacity=\"1\"/>\n",
       "<polyline clip-path=\"url(#clip7203)\" style=\"stroke:#000000; stroke-width:4; stroke-opacity:1; fill:none\" points=\"\n",
       "  3283.84,1369.76 3283.84,1401.05 3352.25,1401.05 3352.25,1369.76 3283.84,1369.76 \n",
       "  \"/>\n",
       "<polygon clip-path=\"url(#clip7203)\" points=\"\n",
       "3352.25,1401.05 3352.25,1401.05 3420.67,1401.05 3420.67,1401.05 3352.25,1401.05 3352.25,1401.05 \n",
       "  \" fill=\"#009af9\" fill-rule=\"evenodd\" fill-opacity=\"1\"/>\n",
       "<polyline clip-path=\"url(#clip7203)\" style=\"stroke:#000000; stroke-width:4; stroke-opacity:1; fill:none\" points=\"\n",
       "  3352.25,1401.05 3352.25,1401.05 3420.67,1401.05 3352.25,1401.05 \n",
       "  \"/>\n",
       "<polygon clip-path=\"url(#clip7203)\" points=\"\n",
       "3420.67,1401.05 3420.67,1401.05 3489.09,1401.05 3489.09,1401.05 3420.67,1401.05 3420.67,1401.05 \n",
       "  \" fill=\"#009af9\" fill-rule=\"evenodd\" fill-opacity=\"1\"/>\n",
       "<polyline clip-path=\"url(#clip7203)\" style=\"stroke:#000000; stroke-width:4; stroke-opacity:1; fill:none\" points=\"\n",
       "  3420.67,1401.05 3420.67,1401.05 3489.09,1401.05 3420.67,1401.05 \n",
       "  \"/>\n",
       "<polygon clip-path=\"url(#clip7203)\" points=\"\n",
       "3489.09,1401.05 3489.09,1401.05 3557.51,1401.05 3557.51,1401.05 3489.09,1401.05 3489.09,1401.05 \n",
       "  \" fill=\"#009af9\" fill-rule=\"evenodd\" fill-opacity=\"1\"/>\n",
       "<polyline clip-path=\"url(#clip7203)\" style=\"stroke:#000000; stroke-width:4; stroke-opacity:1; fill:none\" points=\"\n",
       "  3489.09,1401.05 3489.09,1401.05 3557.51,1401.05 3489.09,1401.05 \n",
       "  \"/>\n",
       "<polygon clip-path=\"url(#clip7203)\" points=\"\n",
       "3557.51,1401.05 3557.51,1401.05 3625.93,1401.05 3625.93,1401.05 3557.51,1401.05 3557.51,1401.05 \n",
       "  \" fill=\"#009af9\" fill-rule=\"evenodd\" fill-opacity=\"1\"/>\n",
       "<polyline clip-path=\"url(#clip7203)\" style=\"stroke:#000000; stroke-width:4; stroke-opacity:1; fill:none\" points=\"\n",
       "  3557.51,1401.05 3557.51,1401.05 3625.93,1401.05 3557.51,1401.05 \n",
       "  \"/>\n",
       "<polygon clip-path=\"url(#clip7203)\" points=\"\n",
       "3625.93,1338.46 3625.93,1401.05 3694.34,1401.05 3694.34,1338.46 3625.93,1338.46 3625.93,1338.46 \n",
       "  \" fill=\"#009af9\" fill-rule=\"evenodd\" fill-opacity=\"1\"/>\n",
       "<polyline clip-path=\"url(#clip7203)\" style=\"stroke:#000000; stroke-width:4; stroke-opacity:1; fill:none\" points=\"\n",
       "  3625.93,1338.46 3625.93,1401.05 3694.34,1401.05 3694.34,1338.46 3625.93,1338.46 \n",
       "  \"/>\n",
       "<polygon clip-path=\"url(#clip7203)\" points=\"\n",
       "3694.34,1401.05 3694.34,1401.05 3762.76,1401.05 3762.76,1401.05 3694.34,1401.05 3694.34,1401.05 \n",
       "  \" fill=\"#009af9\" fill-rule=\"evenodd\" fill-opacity=\"1\"/>\n",
       "<polyline clip-path=\"url(#clip7203)\" style=\"stroke:#000000; stroke-width:4; stroke-opacity:1; fill:none\" points=\"\n",
       "  3694.34,1401.05 3694.34,1401.05 3762.76,1401.05 3694.34,1401.05 \n",
       "  \"/>\n",
       "<polygon clip-path=\"url(#clip7203)\" points=\"\n",
       "3762.76,1401.05 3762.76,1401.05 3831.18,1401.05 3831.18,1401.05 3762.76,1401.05 3762.76,1401.05 \n",
       "  \" fill=\"#009af9\" fill-rule=\"evenodd\" fill-opacity=\"1\"/>\n",
       "<polyline clip-path=\"url(#clip7203)\" style=\"stroke:#000000; stroke-width:4; stroke-opacity:1; fill:none\" points=\"\n",
       "  3762.76,1401.05 3762.76,1401.05 3831.18,1401.05 3762.76,1401.05 \n",
       "  \"/>\n",
       "<polygon clip-path=\"url(#clip7203)\" points=\"\n",
       "3831.18,1401.05 3831.18,1401.05 3899.6,1401.05 3899.6,1401.05 3831.18,1401.05 3831.18,1401.05 \n",
       "  \" fill=\"#009af9\" fill-rule=\"evenodd\" fill-opacity=\"1\"/>\n",
       "<polyline clip-path=\"url(#clip7203)\" style=\"stroke:#000000; stroke-width:4; stroke-opacity:1; fill:none\" points=\"\n",
       "  3831.18,1401.05 3831.18,1401.05 3899.6,1401.05 3831.18,1401.05 \n",
       "  \"/>\n",
       "<polygon clip-path=\"url(#clip7203)\" points=\"\n",
       "3899.6,1401.05 3899.6,1401.05 3968.01,1401.05 3968.01,1401.05 3899.6,1401.05 3899.6,1401.05 \n",
       "  \" fill=\"#009af9\" fill-rule=\"evenodd\" fill-opacity=\"1\"/>\n",
       "<polyline clip-path=\"url(#clip7203)\" style=\"stroke:#000000; stroke-width:4; stroke-opacity:1; fill:none\" points=\"\n",
       "  3899.6,1401.05 3899.6,1401.05 3968.01,1401.05 3899.6,1401.05 \n",
       "  \"/>\n",
       "<polygon clip-path=\"url(#clip7203)\" points=\"\n",
       "3968.01,1401.05 3968.01,1401.05 4036.43,1401.05 4036.43,1401.05 3968.01,1401.05 3968.01,1401.05 \n",
       "  \" fill=\"#009af9\" fill-rule=\"evenodd\" fill-opacity=\"1\"/>\n",
       "<polyline clip-path=\"url(#clip7203)\" style=\"stroke:#000000; stroke-width:4; stroke-opacity:1; fill:none\" points=\"\n",
       "  3968.01,1401.05 3968.01,1401.05 4036.43,1401.05 3968.01,1401.05 \n",
       "  \"/>\n",
       "<polygon clip-path=\"url(#clip7203)\" points=\"\n",
       "4036.43,1401.05 4036.43,1401.05 4104.85,1401.05 4104.85,1401.05 4036.43,1401.05 4036.43,1401.05 \n",
       "  \" fill=\"#009af9\" fill-rule=\"evenodd\" fill-opacity=\"1\"/>\n",
       "<polyline clip-path=\"url(#clip7203)\" style=\"stroke:#000000; stroke-width:4; stroke-opacity:1; fill:none\" points=\"\n",
       "  4036.43,1401.05 4036.43,1401.05 4104.85,1401.05 4036.43,1401.05 \n",
       "  \"/>\n",
       "<polygon clip-path=\"url(#clip7203)\" points=\"\n",
       "4104.85,1401.05 4104.85,1401.05 4173.27,1401.05 4173.27,1401.05 4104.85,1401.05 4104.85,1401.05 \n",
       "  \" fill=\"#009af9\" fill-rule=\"evenodd\" fill-opacity=\"1\"/>\n",
       "<polyline clip-path=\"url(#clip7203)\" style=\"stroke:#000000; stroke-width:4; stroke-opacity:1; fill:none\" points=\"\n",
       "  4104.85,1401.05 4104.85,1401.05 4173.27,1401.05 4104.85,1401.05 \n",
       "  \"/>\n",
       "<polygon clip-path=\"url(#clip7203)\" points=\"\n",
       "4173.27,1401.05 4173.27,1401.05 4241.69,1401.05 4241.69,1401.05 4173.27,1401.05 4173.27,1401.05 \n",
       "  \" fill=\"#009af9\" fill-rule=\"evenodd\" fill-opacity=\"1\"/>\n",
       "<polyline clip-path=\"url(#clip7203)\" style=\"stroke:#000000; stroke-width:4; stroke-opacity:1; fill:none\" points=\"\n",
       "  4173.27,1401.05 4173.27,1401.05 4241.69,1401.05 4173.27,1401.05 \n",
       "  \"/>\n",
       "<polygon clip-path=\"url(#clip7203)\" points=\"\n",
       "4241.69,1401.05 4241.69,1401.05 4310.1,1401.05 4310.1,1401.05 4241.69,1401.05 4241.69,1401.05 \n",
       "  \" fill=\"#009af9\" fill-rule=\"evenodd\" fill-opacity=\"1\"/>\n",
       "<polyline clip-path=\"url(#clip7203)\" style=\"stroke:#000000; stroke-width:4; stroke-opacity:1; fill:none\" points=\"\n",
       "  4241.69,1401.05 4241.69,1401.05 4310.1,1401.05 4241.69,1401.05 \n",
       "  \"/>\n",
       "<polygon clip-path=\"url(#clip7203)\" points=\"\n",
       "4310.1,1401.05 4310.1,1401.05 4378.52,1401.05 4378.52,1401.05 4310.1,1401.05 4310.1,1401.05 \n",
       "  \" fill=\"#009af9\" fill-rule=\"evenodd\" fill-opacity=\"1\"/>\n",
       "<polyline clip-path=\"url(#clip7203)\" style=\"stroke:#000000; stroke-width:4; stroke-opacity:1; fill:none\" points=\"\n",
       "  4310.1,1401.05 4310.1,1401.05 4378.52,1401.05 4310.1,1401.05 \n",
       "  \"/>\n",
       "<polygon clip-path=\"url(#clip7203)\" points=\"\n",
       "4378.52,1401.05 4378.52,1401.05 4446.94,1401.05 4446.94,1401.05 4378.52,1401.05 4378.52,1401.05 \n",
       "  \" fill=\"#009af9\" fill-rule=\"evenodd\" fill-opacity=\"1\"/>\n",
       "<polyline clip-path=\"url(#clip7203)\" style=\"stroke:#000000; stroke-width:4; stroke-opacity:1; fill:none\" points=\"\n",
       "  4378.52,1401.05 4378.52,1401.05 4446.94,1401.05 4378.52,1401.05 \n",
       "  \"/>\n",
       "<polygon clip-path=\"url(#clip7203)\" points=\"\n",
       "4446.94,1401.05 4446.94,1401.05 4515.36,1401.05 4515.36,1401.05 4446.94,1401.05 4446.94,1401.05 \n",
       "  \" fill=\"#009af9\" fill-rule=\"evenodd\" fill-opacity=\"1\"/>\n",
       "<polyline clip-path=\"url(#clip7203)\" style=\"stroke:#000000; stroke-width:4; stroke-opacity:1; fill:none\" points=\"\n",
       "  4446.94,1401.05 4446.94,1401.05 4515.36,1401.05 4446.94,1401.05 \n",
       "  \"/>\n",
       "<polygon clip-path=\"url(#clip7203)\" points=\"\n",
       "4515.36,1401.05 4515.36,1401.05 4583.77,1401.05 4583.77,1401.05 4515.36,1401.05 4515.36,1401.05 \n",
       "  \" fill=\"#009af9\" fill-rule=\"evenodd\" fill-opacity=\"1\"/>\n",
       "<polyline clip-path=\"url(#clip7203)\" style=\"stroke:#000000; stroke-width:4; stroke-opacity:1; fill:none\" points=\"\n",
       "  4515.36,1401.05 4515.36,1401.05 4583.77,1401.05 4515.36,1401.05 \n",
       "  \"/>\n",
       "<polygon clip-path=\"url(#clip7203)\" points=\"\n",
       "4583.77,1401.05 4583.77,1401.05 4652.19,1401.05 4652.19,1401.05 4583.77,1401.05 4583.77,1401.05 \n",
       "  \" fill=\"#009af9\" fill-rule=\"evenodd\" fill-opacity=\"1\"/>\n",
       "<polyline clip-path=\"url(#clip7203)\" style=\"stroke:#000000; stroke-width:4; stroke-opacity:1; fill:none\" points=\"\n",
       "  4583.77,1401.05 4583.77,1401.05 4652.19,1401.05 4583.77,1401.05 \n",
       "  \"/>\n",
       "<polygon clip-path=\"url(#clip7203)\" points=\"\n",
       "4652.19,1401.05 4652.19,1401.05 4720.61,1401.05 4720.61,1401.05 4652.19,1401.05 4652.19,1401.05 \n",
       "  \" fill=\"#009af9\" fill-rule=\"evenodd\" fill-opacity=\"1\"/>\n",
       "<polyline clip-path=\"url(#clip7203)\" style=\"stroke:#000000; stroke-width:4; stroke-opacity:1; fill:none\" points=\"\n",
       "  4652.19,1401.05 4652.19,1401.05 4720.61,1401.05 4652.19,1401.05 \n",
       "  \"/>\n",
       "<polygon clip-path=\"url(#clip7203)\" points=\"\n",
       "4720.61,1369.76 4720.61,1401.05 4789.03,1401.05 4789.03,1369.76 4720.61,1369.76 4720.61,1369.76 \n",
       "  \" fill=\"#009af9\" fill-rule=\"evenodd\" fill-opacity=\"1\"/>\n",
       "<polyline clip-path=\"url(#clip7203)\" style=\"stroke:#000000; stroke-width:4; stroke-opacity:1; fill:none\" points=\"\n",
       "  4720.61,1369.76 4720.61,1401.05 4789.03,1401.05 4789.03,1369.76 4720.61,1369.76 \n",
       "  \"/>\n",
       "<polygon clip-path=\"url(#clip7203)\" points=\"\n",
       "4789.03,1401.05 4789.03,1401.05 4857.44,1401.05 4857.44,1401.05 4789.03,1401.05 4789.03,1401.05 \n",
       "  \" fill=\"#009af9\" fill-rule=\"evenodd\" fill-opacity=\"1\"/>\n",
       "<polyline clip-path=\"url(#clip7203)\" style=\"stroke:#000000; stroke-width:4; stroke-opacity:1; fill:none\" points=\"\n",
       "  4789.03,1401.05 4789.03,1401.05 4857.44,1401.05 4789.03,1401.05 \n",
       "  \"/>\n",
       "<polygon clip-path=\"url(#clip7203)\" points=\"\n",
       "4857.44,1401.05 4857.44,1401.05 4925.86,1401.05 4925.86,1401.05 4857.44,1401.05 4857.44,1401.05 \n",
       "  \" fill=\"#009af9\" fill-rule=\"evenodd\" fill-opacity=\"1\"/>\n",
       "<polyline clip-path=\"url(#clip7203)\" style=\"stroke:#000000; stroke-width:4; stroke-opacity:1; fill:none\" points=\"\n",
       "  4857.44,1401.05 4857.44,1401.05 4925.86,1401.05 4857.44,1401.05 \n",
       "  \"/>\n",
       "<polygon clip-path=\"url(#clip7203)\" points=\"\n",
       "4925.86,1401.05 4925.86,1401.05 4994.28,1401.05 4994.28,1401.05 4925.86,1401.05 4925.86,1401.05 \n",
       "  \" fill=\"#009af9\" fill-rule=\"evenodd\" fill-opacity=\"1\"/>\n",
       "<polyline clip-path=\"url(#clip7203)\" style=\"stroke:#000000; stroke-width:4; stroke-opacity:1; fill:none\" points=\"\n",
       "  4925.86,1401.05 4925.86,1401.05 4994.28,1401.05 4925.86,1401.05 \n",
       "  \"/>\n",
       "<polygon clip-path=\"url(#clip7203)\" points=\"\n",
       "4994.28,1401.05 4994.28,1401.05 5062.7,1401.05 5062.7,1401.05 4994.28,1401.05 4994.28,1401.05 \n",
       "  \" fill=\"#009af9\" fill-rule=\"evenodd\" fill-opacity=\"1\"/>\n",
       "<polyline clip-path=\"url(#clip7203)\" style=\"stroke:#000000; stroke-width:4; stroke-opacity:1; fill:none\" points=\"\n",
       "  4994.28,1401.05 4994.28,1401.05 5062.7,1401.05 4994.28,1401.05 \n",
       "  \"/>\n",
       "<polygon clip-path=\"url(#clip7203)\" points=\"\n",
       "5062.7,1401.05 5062.7,1401.05 5131.12,1401.05 5131.12,1401.05 5062.7,1401.05 5062.7,1401.05 \n",
       "  \" fill=\"#009af9\" fill-rule=\"evenodd\" fill-opacity=\"1\"/>\n",
       "<polyline clip-path=\"url(#clip7203)\" style=\"stroke:#000000; stroke-width:4; stroke-opacity:1; fill:none\" points=\"\n",
       "  5062.7,1401.05 5062.7,1401.05 5131.12,1401.05 5062.7,1401.05 \n",
       "  \"/>\n",
       "<polygon clip-path=\"url(#clip7203)\" points=\"\n",
       "5131.12,1401.05 5131.12,1401.05 5199.53,1401.05 5199.53,1401.05 5131.12,1401.05 5131.12,1401.05 \n",
       "  \" fill=\"#009af9\" fill-rule=\"evenodd\" fill-opacity=\"1\"/>\n",
       "<polyline clip-path=\"url(#clip7203)\" style=\"stroke:#000000; stroke-width:4; stroke-opacity:1; fill:none\" points=\"\n",
       "  5131.12,1401.05 5131.12,1401.05 5199.53,1401.05 5131.12,1401.05 \n",
       "  \"/>\n",
       "<polygon clip-path=\"url(#clip7203)\" points=\"\n",
       "5199.53,1401.05 5199.53,1401.05 5267.95,1401.05 5267.95,1401.05 5199.53,1401.05 5199.53,1401.05 \n",
       "  \" fill=\"#009af9\" fill-rule=\"evenodd\" fill-opacity=\"1\"/>\n",
       "<polyline clip-path=\"url(#clip7203)\" style=\"stroke:#000000; stroke-width:4; stroke-opacity:1; fill:none\" points=\"\n",
       "  5199.53,1401.05 5199.53,1401.05 5267.95,1401.05 5199.53,1401.05 \n",
       "  \"/>\n",
       "<polygon clip-path=\"url(#clip7203)\" points=\"\n",
       "5267.95,1401.05 5267.95,1401.05 5336.37,1401.05 5336.37,1401.05 5267.95,1401.05 5267.95,1401.05 \n",
       "  \" fill=\"#009af9\" fill-rule=\"evenodd\" fill-opacity=\"1\"/>\n",
       "<polyline clip-path=\"url(#clip7203)\" style=\"stroke:#000000; stroke-width:4; stroke-opacity:1; fill:none\" points=\"\n",
       "  5267.95,1401.05 5267.95,1401.05 5336.37,1401.05 5267.95,1401.05 \n",
       "  \"/>\n",
       "<polygon clip-path=\"url(#clip7203)\" points=\"\n",
       "5336.37,1401.05 5336.37,1401.05 5404.79,1401.05 5404.79,1401.05 5336.37,1401.05 5336.37,1401.05 \n",
       "  \" fill=\"#009af9\" fill-rule=\"evenodd\" fill-opacity=\"1\"/>\n",
       "<polyline clip-path=\"url(#clip7203)\" style=\"stroke:#000000; stroke-width:4; stroke-opacity:1; fill:none\" points=\"\n",
       "  5336.37,1401.05 5336.37,1401.05 5404.79,1401.05 5336.37,1401.05 \n",
       "  \"/>\n",
       "<polygon clip-path=\"url(#clip7203)\" points=\"\n",
       "5404.79,1369.76 5404.79,1401.05 5473.2,1401.05 5473.2,1369.76 5404.79,1369.76 5404.79,1369.76 \n",
       "  \" fill=\"#009af9\" fill-rule=\"evenodd\" fill-opacity=\"1\"/>\n",
       "<polyline clip-path=\"url(#clip7203)\" style=\"stroke:#000000; stroke-width:4; stroke-opacity:1; fill:none\" points=\"\n",
       "  5404.79,1369.76 5404.79,1401.05 5473.2,1401.05 5473.2,1369.76 5404.79,1369.76 \n",
       "  \"/>\n",
       "<polygon clip-path=\"url(#clip7203)\" points=\"\n",
       "5473.2,1401.05 5473.2,1401.05 5541.62,1401.05 5541.62,1401.05 5473.2,1401.05 5473.2,1401.05 \n",
       "  \" fill=\"#009af9\" fill-rule=\"evenodd\" fill-opacity=\"1\"/>\n",
       "<polyline clip-path=\"url(#clip7203)\" style=\"stroke:#000000; stroke-width:4; stroke-opacity:1; fill:none\" points=\"\n",
       "  5473.2,1401.05 5473.2,1401.05 5541.62,1401.05 5473.2,1401.05 \n",
       "  \"/>\n",
       "<polygon clip-path=\"url(#clip7203)\" points=\"\n",
       "5541.62,1401.05 5541.62,1401.05 5610.04,1401.05 5610.04,1401.05 5541.62,1401.05 5541.62,1401.05 \n",
       "  \" fill=\"#009af9\" fill-rule=\"evenodd\" fill-opacity=\"1\"/>\n",
       "<polyline clip-path=\"url(#clip7203)\" style=\"stroke:#000000; stroke-width:4; stroke-opacity:1; fill:none\" points=\"\n",
       "  5541.62,1401.05 5541.62,1401.05 5610.04,1401.05 5541.62,1401.05 \n",
       "  \"/>\n",
       "<polygon clip-path=\"url(#clip7203)\" points=\"\n",
       "5610.04,1401.05 5610.04,1401.05 5678.46,1401.05 5678.46,1401.05 5610.04,1401.05 5610.04,1401.05 \n",
       "  \" fill=\"#009af9\" fill-rule=\"evenodd\" fill-opacity=\"1\"/>\n",
       "<polyline clip-path=\"url(#clip7203)\" style=\"stroke:#000000; stroke-width:4; stroke-opacity:1; fill:none\" points=\"\n",
       "  5610.04,1401.05 5610.04,1401.05 5678.46,1401.05 5610.04,1401.05 \n",
       "  \"/>\n",
       "<polygon clip-path=\"url(#clip7203)\" points=\"\n",
       "5678.46,1401.05 5678.46,1401.05 5746.88,1401.05 5746.88,1401.05 5678.46,1401.05 5678.46,1401.05 \n",
       "  \" fill=\"#009af9\" fill-rule=\"evenodd\" fill-opacity=\"1\"/>\n",
       "<polyline clip-path=\"url(#clip7203)\" style=\"stroke:#000000; stroke-width:4; stroke-opacity:1; fill:none\" points=\"\n",
       "  5678.46,1401.05 5678.46,1401.05 5746.88,1401.05 5678.46,1401.05 \n",
       "  \"/>\n",
       "<polygon clip-path=\"url(#clip7203)\" points=\"\n",
       "5746.88,1401.05 5746.88,1401.05 5815.29,1401.05 5815.29,1401.05 5746.88,1401.05 5746.88,1401.05 \n",
       "  \" fill=\"#009af9\" fill-rule=\"evenodd\" fill-opacity=\"1\"/>\n",
       "<polyline clip-path=\"url(#clip7203)\" style=\"stroke:#000000; stroke-width:4; stroke-opacity:1; fill:none\" points=\"\n",
       "  5746.88,1401.05 5746.88,1401.05 5815.29,1401.05 5746.88,1401.05 \n",
       "  \"/>\n",
       "<polygon clip-path=\"url(#clip7203)\" points=\"\n",
       "5815.29,1401.05 5815.29,1401.05 5883.71,1401.05 5883.71,1401.05 5815.29,1401.05 5815.29,1401.05 \n",
       "  \" fill=\"#009af9\" fill-rule=\"evenodd\" fill-opacity=\"1\"/>\n",
       "<polyline clip-path=\"url(#clip7203)\" style=\"stroke:#000000; stroke-width:4; stroke-opacity:1; fill:none\" points=\"\n",
       "  5815.29,1401.05 5815.29,1401.05 5883.71,1401.05 5815.29,1401.05 \n",
       "  \"/>\n",
       "<polygon clip-path=\"url(#clip7203)\" points=\"\n",
       "5883.71,1401.05 5883.71,1401.05 5952.13,1401.05 5952.13,1401.05 5883.71,1401.05 5883.71,1401.05 \n",
       "  \" fill=\"#009af9\" fill-rule=\"evenodd\" fill-opacity=\"1\"/>\n",
       "<polyline clip-path=\"url(#clip7203)\" style=\"stroke:#000000; stroke-width:4; stroke-opacity:1; fill:none\" points=\"\n",
       "  5883.71,1401.05 5883.71,1401.05 5952.13,1401.05 5883.71,1401.05 \n",
       "  \"/>\n",
       "<polygon clip-path=\"url(#clip7203)\" points=\"\n",
       "5952.13,1401.05 5952.13,1401.05 6020.55,1401.05 6020.55,1401.05 5952.13,1401.05 5952.13,1401.05 \n",
       "  \" fill=\"#009af9\" fill-rule=\"evenodd\" fill-opacity=\"1\"/>\n",
       "<polyline clip-path=\"url(#clip7203)\" style=\"stroke:#000000; stroke-width:4; stroke-opacity:1; fill:none\" points=\"\n",
       "  5952.13,1401.05 5952.13,1401.05 6020.55,1401.05 5952.13,1401.05 \n",
       "  \"/>\n",
       "<polygon clip-path=\"url(#clip7203)\" points=\"\n",
       "6020.55,1401.05 6020.55,1401.05 6088.96,1401.05 6088.96,1401.05 6020.55,1401.05 6020.55,1401.05 \n",
       "  \" fill=\"#009af9\" fill-rule=\"evenodd\" fill-opacity=\"1\"/>\n",
       "<polyline clip-path=\"url(#clip7203)\" style=\"stroke:#000000; stroke-width:4; stroke-opacity:1; fill:none\" points=\"\n",
       "  6020.55,1401.05 6020.55,1401.05 6088.96,1401.05 6020.55,1401.05 \n",
       "  \"/>\n",
       "<polygon clip-path=\"url(#clip7203)\" points=\"\n",
       "6088.96,1401.05 6088.96,1401.05 6157.38,1401.05 6157.38,1401.05 6088.96,1401.05 6088.96,1401.05 \n",
       "  \" fill=\"#009af9\" fill-rule=\"evenodd\" fill-opacity=\"1\"/>\n",
       "<polyline clip-path=\"url(#clip7203)\" style=\"stroke:#000000; stroke-width:4; stroke-opacity:1; fill:none\" points=\"\n",
       "  6088.96,1401.05 6088.96,1401.05 6157.38,1401.05 6088.96,1401.05 \n",
       "  \"/>\n",
       "<polygon clip-path=\"url(#clip7203)\" points=\"\n",
       "6157.38,1401.05 6157.38,1401.05 6225.8,1401.05 6225.8,1401.05 6157.38,1401.05 6157.38,1401.05 \n",
       "  \" fill=\"#009af9\" fill-rule=\"evenodd\" fill-opacity=\"1\"/>\n",
       "<polyline clip-path=\"url(#clip7203)\" style=\"stroke:#000000; stroke-width:4; stroke-opacity:1; fill:none\" points=\"\n",
       "  6157.38,1401.05 6157.38,1401.05 6225.8,1401.05 6157.38,1401.05 \n",
       "  \"/>\n",
       "<polygon clip-path=\"url(#clip7203)\" points=\"\n",
       "6225.8,1369.76 6225.8,1401.05 6294.22,1401.05 6294.22,1369.76 6225.8,1369.76 6225.8,1369.76 \n",
       "  \" fill=\"#009af9\" fill-rule=\"evenodd\" fill-opacity=\"1\"/>\n",
       "<polyline clip-path=\"url(#clip7203)\" style=\"stroke:#000000; stroke-width:4; stroke-opacity:1; fill:none\" points=\"\n",
       "  6225.8,1369.76 6225.8,1401.05 6294.22,1401.05 6294.22,1369.76 6225.8,1369.76 \n",
       "  \"/>\n",
       "<polygon clip-path=\"url(#clip7203)\" points=\"\n",
       "6294.22,1401.05 6294.22,1401.05 6362.63,1401.05 6362.63,1401.05 6294.22,1401.05 6294.22,1401.05 \n",
       "  \" fill=\"#009af9\" fill-rule=\"evenodd\" fill-opacity=\"1\"/>\n",
       "<polyline clip-path=\"url(#clip7203)\" style=\"stroke:#000000; stroke-width:4; stroke-opacity:1; fill:none\" points=\"\n",
       "  6294.22,1401.05 6294.22,1401.05 6362.63,1401.05 6294.22,1401.05 \n",
       "  \"/>\n",
       "<polygon clip-path=\"url(#clip7203)\" points=\"\n",
       "6362.63,1401.05 6362.63,1401.05 6431.05,1401.05 6431.05,1401.05 6362.63,1401.05 6362.63,1401.05 \n",
       "  \" fill=\"#009af9\" fill-rule=\"evenodd\" fill-opacity=\"1\"/>\n",
       "<polyline clip-path=\"url(#clip7203)\" style=\"stroke:#000000; stroke-width:4; stroke-opacity:1; fill:none\" points=\"\n",
       "  6362.63,1401.05 6362.63,1401.05 6431.05,1401.05 6362.63,1401.05 \n",
       "  \"/>\n",
       "<polygon clip-path=\"url(#clip7203)\" points=\"\n",
       "6431.05,1401.05 6431.05,1401.05 6499.47,1401.05 6499.47,1401.05 6431.05,1401.05 6431.05,1401.05 \n",
       "  \" fill=\"#009af9\" fill-rule=\"evenodd\" fill-opacity=\"1\"/>\n",
       "<polyline clip-path=\"url(#clip7203)\" style=\"stroke:#000000; stroke-width:4; stroke-opacity:1; fill:none\" points=\"\n",
       "  6431.05,1401.05 6431.05,1401.05 6499.47,1401.05 6431.05,1401.05 \n",
       "  \"/>\n",
       "<polygon clip-path=\"url(#clip7203)\" points=\"\n",
       "6499.47,1401.05 6499.47,1401.05 6567.89,1401.05 6567.89,1401.05 6499.47,1401.05 6499.47,1401.05 \n",
       "  \" fill=\"#009af9\" fill-rule=\"evenodd\" fill-opacity=\"1\"/>\n",
       "<polyline clip-path=\"url(#clip7203)\" style=\"stroke:#000000; stroke-width:4; stroke-opacity:1; fill:none\" points=\"\n",
       "  6499.47,1401.05 6499.47,1401.05 6567.89,1401.05 6499.47,1401.05 \n",
       "  \"/>\n",
       "<polygon clip-path=\"url(#clip7203)\" points=\"\n",
       "6567.89,1401.05 6567.89,1401.05 6636.31,1401.05 6636.31,1401.05 6567.89,1401.05 6567.89,1401.05 \n",
       "  \" fill=\"#009af9\" fill-rule=\"evenodd\" fill-opacity=\"1\"/>\n",
       "<polyline clip-path=\"url(#clip7203)\" style=\"stroke:#000000; stroke-width:4; stroke-opacity:1; fill:none\" points=\"\n",
       "  6567.89,1401.05 6567.89,1401.05 6636.31,1401.05 6567.89,1401.05 \n",
       "  \"/>\n",
       "<polygon clip-path=\"url(#clip7203)\" points=\"\n",
       "6636.31,1401.05 6636.31,1401.05 6704.72,1401.05 6704.72,1401.05 6636.31,1401.05 6636.31,1401.05 \n",
       "  \" fill=\"#009af9\" fill-rule=\"evenodd\" fill-opacity=\"1\"/>\n",
       "<polyline clip-path=\"url(#clip7203)\" style=\"stroke:#000000; stroke-width:4; stroke-opacity:1; fill:none\" points=\"\n",
       "  6636.31,1401.05 6636.31,1401.05 6704.72,1401.05 6636.31,1401.05 \n",
       "  \"/>\n",
       "<polygon clip-path=\"url(#clip7203)\" points=\"\n",
       "6704.72,1401.05 6704.72,1401.05 6773.14,1401.05 6773.14,1401.05 6704.72,1401.05 6704.72,1401.05 \n",
       "  \" fill=\"#009af9\" fill-rule=\"evenodd\" fill-opacity=\"1\"/>\n",
       "<polyline clip-path=\"url(#clip7203)\" style=\"stroke:#000000; stroke-width:4; stroke-opacity:1; fill:none\" points=\"\n",
       "  6704.72,1401.05 6704.72,1401.05 6773.14,1401.05 6704.72,1401.05 \n",
       "  \"/>\n",
       "<polygon clip-path=\"url(#clip7203)\" points=\"\n",
       "6773.14,1401.05 6773.14,1401.05 6841.56,1401.05 6841.56,1401.05 6773.14,1401.05 6773.14,1401.05 \n",
       "  \" fill=\"#009af9\" fill-rule=\"evenodd\" fill-opacity=\"1\"/>\n",
       "<polyline clip-path=\"url(#clip7203)\" style=\"stroke:#000000; stroke-width:4; stroke-opacity:1; fill:none\" points=\"\n",
       "  6773.14,1401.05 6773.14,1401.05 6841.56,1401.05 6773.14,1401.05 \n",
       "  \"/>\n",
       "<polygon clip-path=\"url(#clip7203)\" points=\"\n",
       "6841.56,1401.05 6841.56,1401.05 6909.98,1401.05 6909.98,1401.05 6841.56,1401.05 6841.56,1401.05 \n",
       "  \" fill=\"#009af9\" fill-rule=\"evenodd\" fill-opacity=\"1\"/>\n",
       "<polyline clip-path=\"url(#clip7203)\" style=\"stroke:#000000; stroke-width:4; stroke-opacity:1; fill:none\" points=\"\n",
       "  6841.56,1401.05 6841.56,1401.05 6909.98,1401.05 6841.56,1401.05 \n",
       "  \"/>\n",
       "<polygon clip-path=\"url(#clip7203)\" points=\"\n",
       "6909.98,1401.05 6909.98,1401.05 6978.39,1401.05 6978.39,1401.05 6909.98,1401.05 6909.98,1401.05 \n",
       "  \" fill=\"#009af9\" fill-rule=\"evenodd\" fill-opacity=\"1\"/>\n",
       "<polyline clip-path=\"url(#clip7203)\" style=\"stroke:#000000; stroke-width:4; stroke-opacity:1; fill:none\" points=\"\n",
       "  6909.98,1401.05 6909.98,1401.05 6978.39,1401.05 6909.98,1401.05 \n",
       "  \"/>\n",
       "<polygon clip-path=\"url(#clip7203)\" points=\"\n",
       "6978.39,1401.05 6978.39,1401.05 7046.81,1401.05 7046.81,1401.05 6978.39,1401.05 6978.39,1401.05 \n",
       "  \" fill=\"#009af9\" fill-rule=\"evenodd\" fill-opacity=\"1\"/>\n",
       "<polyline clip-path=\"url(#clip7203)\" style=\"stroke:#000000; stroke-width:4; stroke-opacity:1; fill:none\" points=\"\n",
       "  6978.39,1401.05 6978.39,1401.05 7046.81,1401.05 6978.39,1401.05 \n",
       "  \"/>\n",
       "<polygon clip-path=\"url(#clip7203)\" points=\"\n",
       "7046.81,1401.05 7046.81,1401.05 7115.23,1401.05 7115.23,1401.05 7046.81,1401.05 7046.81,1401.05 \n",
       "  \" fill=\"#009af9\" fill-rule=\"evenodd\" fill-opacity=\"1\"/>\n",
       "<polyline clip-path=\"url(#clip7203)\" style=\"stroke:#000000; stroke-width:4; stroke-opacity:1; fill:none\" points=\"\n",
       "  7046.81,1401.05 7046.81,1401.05 7115.23,1401.05 7046.81,1401.05 \n",
       "  \"/>\n",
       "<polygon clip-path=\"url(#clip7203)\" points=\"\n",
       "7115.23,1401.05 7115.23,1401.05 7183.65,1401.05 7183.65,1401.05 7115.23,1401.05 7115.23,1401.05 \n",
       "  \" fill=\"#009af9\" fill-rule=\"evenodd\" fill-opacity=\"1\"/>\n",
       "<polyline clip-path=\"url(#clip7203)\" style=\"stroke:#000000; stroke-width:4; stroke-opacity:1; fill:none\" points=\"\n",
       "  7115.23,1401.05 7115.23,1401.05 7183.65,1401.05 7115.23,1401.05 \n",
       "  \"/>\n",
       "<polygon clip-path=\"url(#clip7203)\" points=\"\n",
       "7183.65,1401.05 7183.65,1401.05 7252.07,1401.05 7252.07,1401.05 7183.65,1401.05 7183.65,1401.05 \n",
       "  \" fill=\"#009af9\" fill-rule=\"evenodd\" fill-opacity=\"1\"/>\n",
       "<polyline clip-path=\"url(#clip7203)\" style=\"stroke:#000000; stroke-width:4; stroke-opacity:1; fill:none\" points=\"\n",
       "  7183.65,1401.05 7183.65,1401.05 7252.07,1401.05 7183.65,1401.05 \n",
       "  \"/>\n",
       "<polygon clip-path=\"url(#clip7203)\" points=\"\n",
       "7252.07,1401.05 7252.07,1401.05 7320.48,1401.05 7320.48,1401.05 7252.07,1401.05 7252.07,1401.05 \n",
       "  \" fill=\"#009af9\" fill-rule=\"evenodd\" fill-opacity=\"1\"/>\n",
       "<polyline clip-path=\"url(#clip7203)\" style=\"stroke:#000000; stroke-width:4; stroke-opacity:1; fill:none\" points=\"\n",
       "  7252.07,1401.05 7252.07,1401.05 7320.48,1401.05 7252.07,1401.05 \n",
       "  \"/>\n",
       "<polygon clip-path=\"url(#clip7203)\" points=\"\n",
       "7320.48,1401.05 7320.48,1401.05 7388.9,1401.05 7388.9,1401.05 7320.48,1401.05 7320.48,1401.05 \n",
       "  \" fill=\"#009af9\" fill-rule=\"evenodd\" fill-opacity=\"1\"/>\n",
       "<polyline clip-path=\"url(#clip7203)\" style=\"stroke:#000000; stroke-width:4; stroke-opacity:1; fill:none\" points=\"\n",
       "  7320.48,1401.05 7320.48,1401.05 7388.9,1401.05 7320.48,1401.05 \n",
       "  \"/>\n",
       "<polygon clip-path=\"url(#clip7203)\" points=\"\n",
       "7388.9,1401.05 7388.9,1401.05 7457.32,1401.05 7457.32,1401.05 7388.9,1401.05 7388.9,1401.05 \n",
       "  \" fill=\"#009af9\" fill-rule=\"evenodd\" fill-opacity=\"1\"/>\n",
       "<polyline clip-path=\"url(#clip7203)\" style=\"stroke:#000000; stroke-width:4; stroke-opacity:1; fill:none\" points=\"\n",
       "  7388.9,1401.05 7388.9,1401.05 7457.32,1401.05 7388.9,1401.05 \n",
       "  \"/>\n",
       "<polygon clip-path=\"url(#clip7203)\" points=\"\n",
       "7457.32,1401.05 7457.32,1401.05 7525.74,1401.05 7525.74,1401.05 7457.32,1401.05 7457.32,1401.05 \n",
       "  \" fill=\"#009af9\" fill-rule=\"evenodd\" fill-opacity=\"1\"/>\n",
       "<polyline clip-path=\"url(#clip7203)\" style=\"stroke:#000000; stroke-width:4; stroke-opacity:1; fill:none\" points=\"\n",
       "  7457.32,1401.05 7457.32,1401.05 7525.74,1401.05 7457.32,1401.05 \n",
       "  \"/>\n",
       "<polygon clip-path=\"url(#clip7203)\" points=\"\n",
       "7525.74,1401.05 7525.74,1401.05 7594.15,1401.05 7594.15,1401.05 7525.74,1401.05 7525.74,1401.05 \n",
       "  \" fill=\"#009af9\" fill-rule=\"evenodd\" fill-opacity=\"1\"/>\n",
       "<polyline clip-path=\"url(#clip7203)\" style=\"stroke:#000000; stroke-width:4; stroke-opacity:1; fill:none\" points=\"\n",
       "  7525.74,1401.05 7525.74,1401.05 7594.15,1401.05 7525.74,1401.05 \n",
       "  \"/>\n",
       "<polygon clip-path=\"url(#clip7203)\" points=\"\n",
       "7594.15,1401.05 7594.15,1401.05 7662.57,1401.05 7662.57,1401.05 7594.15,1401.05 7594.15,1401.05 \n",
       "  \" fill=\"#009af9\" fill-rule=\"evenodd\" fill-opacity=\"1\"/>\n",
       "<polyline clip-path=\"url(#clip7203)\" style=\"stroke:#000000; stroke-width:4; stroke-opacity:1; fill:none\" points=\"\n",
       "  7594.15,1401.05 7594.15,1401.05 7662.57,1401.05 7594.15,1401.05 \n",
       "  \"/>\n",
       "<polygon clip-path=\"url(#clip7203)\" points=\"\n",
       "7662.57,1401.05 7662.57,1401.05 7730.99,1401.05 7730.99,1401.05 7662.57,1401.05 7662.57,1401.05 \n",
       "  \" fill=\"#009af9\" fill-rule=\"evenodd\" fill-opacity=\"1\"/>\n",
       "<polyline clip-path=\"url(#clip7203)\" style=\"stroke:#000000; stroke-width:4; stroke-opacity:1; fill:none\" points=\"\n",
       "  7662.57,1401.05 7662.57,1401.05 7730.99,1401.05 7662.57,1401.05 \n",
       "  \"/>\n",
       "<polygon clip-path=\"url(#clip7203)\" points=\"\n",
       "7730.99,1401.05 7730.99,1401.05 7799.41,1401.05 7799.41,1401.05 7730.99,1401.05 7730.99,1401.05 \n",
       "  \" fill=\"#009af9\" fill-rule=\"evenodd\" fill-opacity=\"1\"/>\n",
       "<polyline clip-path=\"url(#clip7203)\" style=\"stroke:#000000; stroke-width:4; stroke-opacity:1; fill:none\" points=\"\n",
       "  7730.99,1401.05 7730.99,1401.05 7799.41,1401.05 7730.99,1401.05 \n",
       "  \"/>\n",
       "<polygon clip-path=\"url(#clip7203)\" points=\"\n",
       "7799.41,1401.05 7799.41,1401.05 7867.82,1401.05 7867.82,1401.05 7799.41,1401.05 7799.41,1401.05 \n",
       "  \" fill=\"#009af9\" fill-rule=\"evenodd\" fill-opacity=\"1\"/>\n",
       "<polyline clip-path=\"url(#clip7203)\" style=\"stroke:#000000; stroke-width:4; stroke-opacity:1; fill:none\" points=\"\n",
       "  7799.41,1401.05 7799.41,1401.05 7867.82,1401.05 7799.41,1401.05 \n",
       "  \"/>\n",
       "<polygon clip-path=\"url(#clip7203)\" points=\"\n",
       "7867.82,1401.05 7867.82,1401.05 7936.24,1401.05 7936.24,1401.05 7867.82,1401.05 7867.82,1401.05 \n",
       "  \" fill=\"#009af9\" fill-rule=\"evenodd\" fill-opacity=\"1\"/>\n",
       "<polyline clip-path=\"url(#clip7203)\" style=\"stroke:#000000; stroke-width:4; stroke-opacity:1; fill:none\" points=\"\n",
       "  7867.82,1401.05 7867.82,1401.05 7936.24,1401.05 7867.82,1401.05 \n",
       "  \"/>\n",
       "<polygon clip-path=\"url(#clip7203)\" points=\"\n",
       "7936.24,1401.05 7936.24,1401.05 8004.66,1401.05 8004.66,1401.05 7936.24,1401.05 7936.24,1401.05 \n",
       "  \" fill=\"#009af9\" fill-rule=\"evenodd\" fill-opacity=\"1\"/>\n",
       "<polyline clip-path=\"url(#clip7203)\" style=\"stroke:#000000; stroke-width:4; stroke-opacity:1; fill:none\" points=\"\n",
       "  7936.24,1401.05 7936.24,1401.05 8004.66,1401.05 7936.24,1401.05 \n",
       "  \"/>\n",
       "<polygon clip-path=\"url(#clip7203)\" points=\"\n",
       "8004.66,1401.05 8004.66,1401.05 8073.08,1401.05 8073.08,1401.05 8004.66,1401.05 8004.66,1401.05 \n",
       "  \" fill=\"#009af9\" fill-rule=\"evenodd\" fill-opacity=\"1\"/>\n",
       "<polyline clip-path=\"url(#clip7203)\" style=\"stroke:#000000; stroke-width:4; stroke-opacity:1; fill:none\" points=\"\n",
       "  8004.66,1401.05 8004.66,1401.05 8073.08,1401.05 8004.66,1401.05 \n",
       "  \"/>\n",
       "<polygon clip-path=\"url(#clip7203)\" points=\"\n",
       "8073.08,1401.05 8073.08,1401.05 8141.5,1401.05 8141.5,1401.05 8073.08,1401.05 8073.08,1401.05 \n",
       "  \" fill=\"#009af9\" fill-rule=\"evenodd\" fill-opacity=\"1\"/>\n",
       "<polyline clip-path=\"url(#clip7203)\" style=\"stroke:#000000; stroke-width:4; stroke-opacity:1; fill:none\" points=\"\n",
       "  8073.08,1401.05 8073.08,1401.05 8141.5,1401.05 8073.08,1401.05 \n",
       "  \"/>\n",
       "<polygon clip-path=\"url(#clip7203)\" points=\"\n",
       "8141.5,1401.05 8141.5,1401.05 8209.91,1401.05 8209.91,1401.05 8141.5,1401.05 8141.5,1401.05 \n",
       "  \" fill=\"#009af9\" fill-rule=\"evenodd\" fill-opacity=\"1\"/>\n",
       "<polyline clip-path=\"url(#clip7203)\" style=\"stroke:#000000; stroke-width:4; stroke-opacity:1; fill:none\" points=\"\n",
       "  8141.5,1401.05 8141.5,1401.05 8209.91,1401.05 8141.5,1401.05 \n",
       "  \"/>\n",
       "<polygon clip-path=\"url(#clip7203)\" points=\"\n",
       "8209.91,1401.05 8209.91,1401.05 8278.33,1401.05 8278.33,1401.05 8209.91,1401.05 8209.91,1401.05 \n",
       "  \" fill=\"#009af9\" fill-rule=\"evenodd\" fill-opacity=\"1\"/>\n",
       "<polyline clip-path=\"url(#clip7203)\" style=\"stroke:#000000; stroke-width:4; stroke-opacity:1; fill:none\" points=\"\n",
       "  8209.91,1401.05 8209.91,1401.05 8278.33,1401.05 8209.91,1401.05 \n",
       "  \"/>\n",
       "<polygon clip-path=\"url(#clip7203)\" points=\"\n",
       "8278.33,1401.05 8278.33,1401.05 8346.75,1401.05 8346.75,1401.05 8278.33,1401.05 8278.33,1401.05 \n",
       "  \" fill=\"#009af9\" fill-rule=\"evenodd\" fill-opacity=\"1\"/>\n",
       "<polyline clip-path=\"url(#clip7203)\" style=\"stroke:#000000; stroke-width:4; stroke-opacity:1; fill:none\" points=\"\n",
       "  8278.33,1401.05 8278.33,1401.05 8346.75,1401.05 8278.33,1401.05 \n",
       "  \"/>\n",
       "<polygon clip-path=\"url(#clip7203)\" points=\"\n",
       "8346.75,1401.05 8346.75,1401.05 8415.17,1401.05 8415.17,1401.05 8346.75,1401.05 8346.75,1401.05 \n",
       "  \" fill=\"#009af9\" fill-rule=\"evenodd\" fill-opacity=\"1\"/>\n",
       "<polyline clip-path=\"url(#clip7203)\" style=\"stroke:#000000; stroke-width:4; stroke-opacity:1; fill:none\" points=\"\n",
       "  8346.75,1401.05 8346.75,1401.05 8415.17,1401.05 8346.75,1401.05 \n",
       "  \"/>\n",
       "<polygon clip-path=\"url(#clip7203)\" points=\"\n",
       "8415.17,1401.05 8415.17,1401.05 8483.58,1401.05 8483.58,1401.05 8415.17,1401.05 8415.17,1401.05 \n",
       "  \" fill=\"#009af9\" fill-rule=\"evenodd\" fill-opacity=\"1\"/>\n",
       "<polyline clip-path=\"url(#clip7203)\" style=\"stroke:#000000; stroke-width:4; stroke-opacity:1; fill:none\" points=\"\n",
       "  8415.17,1401.05 8415.17,1401.05 8483.58,1401.05 8415.17,1401.05 \n",
       "  \"/>\n",
       "<polygon clip-path=\"url(#clip7203)\" points=\"\n",
       "8483.58,1401.05 8483.58,1401.05 8552,1401.05 8552,1401.05 8483.58,1401.05 8483.58,1401.05 \n",
       "  \" fill=\"#009af9\" fill-rule=\"evenodd\" fill-opacity=\"1\"/>\n",
       "<polyline clip-path=\"url(#clip7203)\" style=\"stroke:#000000; stroke-width:4; stroke-opacity:1; fill:none\" points=\"\n",
       "  8483.58,1401.05 8483.58,1401.05 8552,1401.05 8483.58,1401.05 \n",
       "  \"/>\n",
       "<polygon clip-path=\"url(#clip7203)\" points=\"\n",
       "8552,1401.05 8552,1401.05 8620.42,1401.05 8620.42,1401.05 8552,1401.05 8552,1401.05 \n",
       "  \" fill=\"#009af9\" fill-rule=\"evenodd\" fill-opacity=\"1\"/>\n",
       "<polyline clip-path=\"url(#clip7203)\" style=\"stroke:#000000; stroke-width:4; stroke-opacity:1; fill:none\" points=\"\n",
       "  8552,1401.05 8552,1401.05 8620.42,1401.05 8552,1401.05 \n",
       "  \"/>\n",
       "<polygon clip-path=\"url(#clip7203)\" points=\"\n",
       "8620.42,1401.05 8620.42,1401.05 8688.84,1401.05 8688.84,1401.05 8620.42,1401.05 8620.42,1401.05 \n",
       "  \" fill=\"#009af9\" fill-rule=\"evenodd\" fill-opacity=\"1\"/>\n",
       "<polyline clip-path=\"url(#clip7203)\" style=\"stroke:#000000; stroke-width:4; stroke-opacity:1; fill:none\" points=\"\n",
       "  8620.42,1401.05 8620.42,1401.05 8688.84,1401.05 8620.42,1401.05 \n",
       "  \"/>\n",
       "<polygon clip-path=\"url(#clip7203)\" points=\"\n",
       "8688.84,1401.05 8688.84,1401.05 8757.26,1401.05 8757.26,1401.05 8688.84,1401.05 8688.84,1401.05 \n",
       "  \" fill=\"#009af9\" fill-rule=\"evenodd\" fill-opacity=\"1\"/>\n",
       "<polyline clip-path=\"url(#clip7203)\" style=\"stroke:#000000; stroke-width:4; stroke-opacity:1; fill:none\" points=\"\n",
       "  8688.84,1401.05 8688.84,1401.05 8757.26,1401.05 8688.84,1401.05 \n",
       "  \"/>\n",
       "<polygon clip-path=\"url(#clip7203)\" points=\"\n",
       "8757.26,1401.05 8757.26,1401.05 8825.67,1401.05 8825.67,1401.05 8757.26,1401.05 8757.26,1401.05 \n",
       "  \" fill=\"#009af9\" fill-rule=\"evenodd\" fill-opacity=\"1\"/>\n",
       "<polyline clip-path=\"url(#clip7203)\" style=\"stroke:#000000; stroke-width:4; stroke-opacity:1; fill:none\" points=\"\n",
       "  8757.26,1401.05 8757.26,1401.05 8825.67,1401.05 8757.26,1401.05 \n",
       "  \"/>\n",
       "<polygon clip-path=\"url(#clip7203)\" points=\"\n",
       "8825.67,1401.05 8825.67,1401.05 8894.09,1401.05 8894.09,1401.05 8825.67,1401.05 8825.67,1401.05 \n",
       "  \" fill=\"#009af9\" fill-rule=\"evenodd\" fill-opacity=\"1\"/>\n",
       "<polyline clip-path=\"url(#clip7203)\" style=\"stroke:#000000; stroke-width:4; stroke-opacity:1; fill:none\" points=\"\n",
       "  8825.67,1401.05 8825.67,1401.05 8894.09,1401.05 8825.67,1401.05 \n",
       "  \"/>\n",
       "<polygon clip-path=\"url(#clip7203)\" points=\"\n",
       "8894.09,1401.05 8894.09,1401.05 8962.51,1401.05 8962.51,1401.05 8894.09,1401.05 8894.09,1401.05 \n",
       "  \" fill=\"#009af9\" fill-rule=\"evenodd\" fill-opacity=\"1\"/>\n",
       "<polyline clip-path=\"url(#clip7203)\" style=\"stroke:#000000; stroke-width:4; stroke-opacity:1; fill:none\" points=\"\n",
       "  8894.09,1401.05 8894.09,1401.05 8962.51,1401.05 8894.09,1401.05 \n",
       "  \"/>\n",
       "<polygon clip-path=\"url(#clip7203)\" points=\"\n",
       "8962.51,1401.05 8962.51,1401.05 9030.93,1401.05 9030.93,1401.05 8962.51,1401.05 8962.51,1401.05 \n",
       "  \" fill=\"#009af9\" fill-rule=\"evenodd\" fill-opacity=\"1\"/>\n",
       "<polyline clip-path=\"url(#clip7203)\" style=\"stroke:#000000; stroke-width:4; stroke-opacity:1; fill:none\" points=\"\n",
       "  8962.51,1401.05 8962.51,1401.05 9030.93,1401.05 8962.51,1401.05 \n",
       "  \"/>\n",
       "<polygon clip-path=\"url(#clip7203)\" points=\"\n",
       "9030.93,1401.05 9030.93,1401.05 9099.34,1401.05 9099.34,1401.05 9030.93,1401.05 9030.93,1401.05 \n",
       "  \" fill=\"#009af9\" fill-rule=\"evenodd\" fill-opacity=\"1\"/>\n",
       "<polyline clip-path=\"url(#clip7203)\" style=\"stroke:#000000; stroke-width:4; stroke-opacity:1; fill:none\" points=\"\n",
       "  9030.93,1401.05 9030.93,1401.05 9099.34,1401.05 9030.93,1401.05 \n",
       "  \"/>\n",
       "<polygon clip-path=\"url(#clip7203)\" points=\"\n",
       "9099.34,1401.05 9099.34,1401.05 9167.76,1401.05 9167.76,1401.05 9099.34,1401.05 9099.34,1401.05 \n",
       "  \" fill=\"#009af9\" fill-rule=\"evenodd\" fill-opacity=\"1\"/>\n",
       "<polyline clip-path=\"url(#clip7203)\" style=\"stroke:#000000; stroke-width:4; stroke-opacity:1; fill:none\" points=\"\n",
       "  9099.34,1401.05 9099.34,1401.05 9167.76,1401.05 9099.34,1401.05 \n",
       "  \"/>\n",
       "<polygon clip-path=\"url(#clip7203)\" points=\"\n",
       "9167.76,1369.76 9167.76,1401.05 9236.18,1401.05 9236.18,1369.76 9167.76,1369.76 9167.76,1369.76 \n",
       "  \" fill=\"#009af9\" fill-rule=\"evenodd\" fill-opacity=\"1\"/>\n",
       "<polyline clip-path=\"url(#clip7203)\" style=\"stroke:#000000; stroke-width:4; stroke-opacity:1; fill:none\" points=\"\n",
       "  9167.76,1369.76 9167.76,1401.05 9236.18,1401.05 9236.18,1369.76 9167.76,1369.76 \n",
       "  \"/>\n",
       "<polygon clip-path=\"url(#clip7203)\" points=\"\n",
       "9236.18,1401.05 9236.18,1401.05 9304.6,1401.05 9304.6,1401.05 9236.18,1401.05 9236.18,1401.05 \n",
       "  \" fill=\"#009af9\" fill-rule=\"evenodd\" fill-opacity=\"1\"/>\n",
       "<polyline clip-path=\"url(#clip7203)\" style=\"stroke:#000000; stroke-width:4; stroke-opacity:1; fill:none\" points=\"\n",
       "  9236.18,1401.05 9236.18,1401.05 9304.6,1401.05 9236.18,1401.05 \n",
       "  \"/>\n",
       "<polygon clip-path=\"url(#clip7203)\" points=\"\n",
       "9304.6,1401.05 9304.6,1401.05 9373.01,1401.05 9373.01,1401.05 9304.6,1401.05 9304.6,1401.05 \n",
       "  \" fill=\"#009af9\" fill-rule=\"evenodd\" fill-opacity=\"1\"/>\n",
       "<polyline clip-path=\"url(#clip7203)\" style=\"stroke:#000000; stroke-width:4; stroke-opacity:1; fill:none\" points=\"\n",
       "  9304.6,1401.05 9304.6,1401.05 9373.01,1401.05 9304.6,1401.05 \n",
       "  \"/>\n",
       "<polygon clip-path=\"url(#clip7203)\" points=\"\n",
       "9373.01,1401.05 9373.01,1401.05 9441.43,1401.05 9441.43,1401.05 9373.01,1401.05 9373.01,1401.05 \n",
       "  \" fill=\"#009af9\" fill-rule=\"evenodd\" fill-opacity=\"1\"/>\n",
       "<polyline clip-path=\"url(#clip7203)\" style=\"stroke:#000000; stroke-width:4; stroke-opacity:1; fill:none\" points=\"\n",
       "  9373.01,1401.05 9373.01,1401.05 9441.43,1401.05 9373.01,1401.05 \n",
       "  \"/>\n",
       "<polygon clip-path=\"url(#clip7203)\" points=\"\n",
       "9441.43,1401.05 9441.43,1401.05 9509.85,1401.05 9509.85,1401.05 9441.43,1401.05 9441.43,1401.05 \n",
       "  \" fill=\"#009af9\" fill-rule=\"evenodd\" fill-opacity=\"1\"/>\n",
       "<polyline clip-path=\"url(#clip7203)\" style=\"stroke:#000000; stroke-width:4; stroke-opacity:1; fill:none\" points=\"\n",
       "  9441.43,1401.05 9441.43,1401.05 9509.85,1401.05 9441.43,1401.05 \n",
       "  \"/>\n",
       "<polygon clip-path=\"url(#clip7203)\" points=\"\n",
       "9509.85,1401.05 9509.85,1401.05 9578.27,1401.05 9578.27,1401.05 9509.85,1401.05 9509.85,1401.05 \n",
       "  \" fill=\"#009af9\" fill-rule=\"evenodd\" fill-opacity=\"1\"/>\n",
       "<polyline clip-path=\"url(#clip7203)\" style=\"stroke:#000000; stroke-width:4; stroke-opacity:1; fill:none\" points=\"\n",
       "  9509.85,1401.05 9509.85,1401.05 9578.27,1401.05 9509.85,1401.05 \n",
       "  \"/>\n",
       "<polygon clip-path=\"url(#clip7203)\" points=\"\n",
       "9578.27,1401.05 9578.27,1401.05 9646.69,1401.05 9646.69,1401.05 9578.27,1401.05 9578.27,1401.05 \n",
       "  \" fill=\"#009af9\" fill-rule=\"evenodd\" fill-opacity=\"1\"/>\n",
       "<polyline clip-path=\"url(#clip7203)\" style=\"stroke:#000000; stroke-width:4; stroke-opacity:1; fill:none\" points=\"\n",
       "  9578.27,1401.05 9578.27,1401.05 9646.69,1401.05 9578.27,1401.05 \n",
       "  \"/>\n",
       "<polygon clip-path=\"url(#clip7203)\" points=\"\n",
       "9646.69,1401.05 9646.69,1401.05 9715.1,1401.05 9715.1,1401.05 9646.69,1401.05 9646.69,1401.05 \n",
       "  \" fill=\"#009af9\" fill-rule=\"evenodd\" fill-opacity=\"1\"/>\n",
       "<polyline clip-path=\"url(#clip7203)\" style=\"stroke:#000000; stroke-width:4; stroke-opacity:1; fill:none\" points=\"\n",
       "  9646.69,1401.05 9646.69,1401.05 9715.1,1401.05 9646.69,1401.05 \n",
       "  \"/>\n",
       "<polygon clip-path=\"url(#clip7203)\" points=\"\n",
       "9715.1,1401.05 9715.1,1401.05 9783.52,1401.05 9783.52,1401.05 9715.1,1401.05 9715.1,1401.05 \n",
       "  \" fill=\"#009af9\" fill-rule=\"evenodd\" fill-opacity=\"1\"/>\n",
       "<polyline clip-path=\"url(#clip7203)\" style=\"stroke:#000000; stroke-width:4; stroke-opacity:1; fill:none\" points=\"\n",
       "  9715.1,1401.05 9715.1,1401.05 9783.52,1401.05 9715.1,1401.05 \n",
       "  \"/>\n",
       "<polygon clip-path=\"url(#clip7203)\" points=\"\n",
       "9783.52,1401.05 9783.52,1401.05 9851.94,1401.05 9851.94,1401.05 9783.52,1401.05 9783.52,1401.05 \n",
       "  \" fill=\"#009af9\" fill-rule=\"evenodd\" fill-opacity=\"1\"/>\n",
       "<polyline clip-path=\"url(#clip7203)\" style=\"stroke:#000000; stroke-width:4; stroke-opacity:1; fill:none\" points=\"\n",
       "  9783.52,1401.05 9783.52,1401.05 9851.94,1401.05 9783.52,1401.05 \n",
       "  \"/>\n",
       "<polygon clip-path=\"url(#clip7203)\" points=\"\n",
       "9851.94,1401.05 9851.94,1401.05 9920.36,1401.05 9920.36,1401.05 9851.94,1401.05 9851.94,1401.05 \n",
       "  \" fill=\"#009af9\" fill-rule=\"evenodd\" fill-opacity=\"1\"/>\n",
       "<polyline clip-path=\"url(#clip7203)\" style=\"stroke:#000000; stroke-width:4; stroke-opacity:1; fill:none\" points=\"\n",
       "  9851.94,1401.05 9851.94,1401.05 9920.36,1401.05 9851.94,1401.05 \n",
       "  \"/>\n",
       "<polygon clip-path=\"url(#clip7203)\" points=\"\n",
       "9920.36,1401.05 9920.36,1401.05 9988.77,1401.05 9988.77,1401.05 9920.36,1401.05 9920.36,1401.05 \n",
       "  \" fill=\"#009af9\" fill-rule=\"evenodd\" fill-opacity=\"1\"/>\n",
       "<polyline clip-path=\"url(#clip7203)\" style=\"stroke:#000000; stroke-width:4; stroke-opacity:1; fill:none\" points=\"\n",
       "  9920.36,1401.05 9920.36,1401.05 9988.77,1401.05 9920.36,1401.05 \n",
       "  \"/>\n",
       "<polygon clip-path=\"url(#clip7203)\" points=\"\n",
       "9988.77,1401.05 9988.77,1401.05 10057.2,1401.05 10057.2,1401.05 9988.77,1401.05 9988.77,1401.05 \n",
       "  \" fill=\"#009af9\" fill-rule=\"evenodd\" fill-opacity=\"1\"/>\n",
       "<polyline clip-path=\"url(#clip7203)\" style=\"stroke:#000000; stroke-width:4; stroke-opacity:1; fill:none\" points=\"\n",
       "  9988.77,1401.05 9988.77,1401.05 10057.2,1401.05 9988.77,1401.05 \n",
       "  \"/>\n",
       "<polygon clip-path=\"url(#clip7203)\" points=\"\n",
       "10057.2,1401.05 10057.2,1401.05 10125.6,1401.05 10125.6,1401.05 10057.2,1401.05 10057.2,1401.05 \n",
       "  \" fill=\"#009af9\" fill-rule=\"evenodd\" fill-opacity=\"1\"/>\n",
       "<polyline clip-path=\"url(#clip7203)\" style=\"stroke:#000000; stroke-width:4; stroke-opacity:1; fill:none\" points=\"\n",
       "  10057.2,1401.05 10057.2,1401.05 10125.6,1401.05 10057.2,1401.05 \n",
       "  \"/>\n",
       "<polygon clip-path=\"url(#clip7203)\" points=\"\n",
       "10125.6,1401.05 10125.6,1401.05 10194,1401.05 10194,1401.05 10125.6,1401.05 10125.6,1401.05 \n",
       "  \" fill=\"#009af9\" fill-rule=\"evenodd\" fill-opacity=\"1\"/>\n",
       "<polyline clip-path=\"url(#clip7203)\" style=\"stroke:#000000; stroke-width:4; stroke-opacity:1; fill:none\" points=\"\n",
       "  10125.6,1401.05 10125.6,1401.05 10194,1401.05 10125.6,1401.05 \n",
       "  \"/>\n",
       "<polygon clip-path=\"url(#clip7203)\" points=\"\n",
       "10194,1401.05 10194,1401.05 10262.4,1401.05 10262.4,1401.05 10194,1401.05 10194,1401.05 \n",
       "  \" fill=\"#009af9\" fill-rule=\"evenodd\" fill-opacity=\"1\"/>\n",
       "<polyline clip-path=\"url(#clip7203)\" style=\"stroke:#000000; stroke-width:4; stroke-opacity:1; fill:none\" points=\"\n",
       "  10194,1401.05 10194,1401.05 10262.4,1401.05 10194,1401.05 \n",
       "  \"/>\n",
       "<polygon clip-path=\"url(#clip7203)\" points=\"\n",
       "10262.4,1401.05 10262.4,1401.05 10330.9,1401.05 10330.9,1401.05 10262.4,1401.05 10262.4,1401.05 \n",
       "  \" fill=\"#009af9\" fill-rule=\"evenodd\" fill-opacity=\"1\"/>\n",
       "<polyline clip-path=\"url(#clip7203)\" style=\"stroke:#000000; stroke-width:4; stroke-opacity:1; fill:none\" points=\"\n",
       "  10262.4,1401.05 10262.4,1401.05 10330.9,1401.05 10262.4,1401.05 \n",
       "  \"/>\n",
       "<polygon clip-path=\"url(#clip7203)\" points=\"\n",
       "10330.9,1401.05 10330.9,1401.05 10399.3,1401.05 10399.3,1401.05 10330.9,1401.05 10330.9,1401.05 \n",
       "  \" fill=\"#009af9\" fill-rule=\"evenodd\" fill-opacity=\"1\"/>\n",
       "<polyline clip-path=\"url(#clip7203)\" style=\"stroke:#000000; stroke-width:4; stroke-opacity:1; fill:none\" points=\"\n",
       "  10330.9,1401.05 10330.9,1401.05 10399.3,1401.05 10330.9,1401.05 \n",
       "  \"/>\n",
       "<polygon clip-path=\"url(#clip7203)\" points=\"\n",
       "10399.3,1401.05 10399.3,1401.05 10467.7,1401.05 10467.7,1401.05 10399.3,1401.05 10399.3,1401.05 \n",
       "  \" fill=\"#009af9\" fill-rule=\"evenodd\" fill-opacity=\"1\"/>\n",
       "<polyline clip-path=\"url(#clip7203)\" style=\"stroke:#000000; stroke-width:4; stroke-opacity:1; fill:none\" points=\"\n",
       "  10399.3,1401.05 10399.3,1401.05 10467.7,1401.05 10399.3,1401.05 \n",
       "  \"/>\n",
       "<polygon clip-path=\"url(#clip7203)\" points=\"\n",
       "10467.7,1401.05 10467.7,1401.05 10536.1,1401.05 10536.1,1401.05 10467.7,1401.05 10467.7,1401.05 \n",
       "  \" fill=\"#009af9\" fill-rule=\"evenodd\" fill-opacity=\"1\"/>\n",
       "<polyline clip-path=\"url(#clip7203)\" style=\"stroke:#000000; stroke-width:4; stroke-opacity:1; fill:none\" points=\"\n",
       "  10467.7,1401.05 10467.7,1401.05 10536.1,1401.05 10467.7,1401.05 \n",
       "  \"/>\n",
       "<polygon clip-path=\"url(#clip7203)\" points=\"\n",
       "10536.1,1401.05 10536.1,1401.05 10604.5,1401.05 10604.5,1401.05 10536.1,1401.05 10536.1,1401.05 \n",
       "  \" fill=\"#009af9\" fill-rule=\"evenodd\" fill-opacity=\"1\"/>\n",
       "<polyline clip-path=\"url(#clip7203)\" style=\"stroke:#000000; stroke-width:4; stroke-opacity:1; fill:none\" points=\"\n",
       "  10536.1,1401.05 10536.1,1401.05 10604.5,1401.05 10536.1,1401.05 \n",
       "  \"/>\n",
       "<polygon clip-path=\"url(#clip7203)\" points=\"\n",
       "10604.5,1401.05 10604.5,1401.05 10673,1401.05 10673,1401.05 10604.5,1401.05 10604.5,1401.05 \n",
       "  \" fill=\"#009af9\" fill-rule=\"evenodd\" fill-opacity=\"1\"/>\n",
       "<polyline clip-path=\"url(#clip7203)\" style=\"stroke:#000000; stroke-width:4; stroke-opacity:1; fill:none\" points=\"\n",
       "  10604.5,1401.05 10604.5,1401.05 10673,1401.05 10604.5,1401.05 \n",
       "  \"/>\n",
       "<polygon clip-path=\"url(#clip7203)\" points=\"\n",
       "10673,1401.05 10673,1401.05 10741.4,1401.05 10741.4,1401.05 10673,1401.05 10673,1401.05 \n",
       "  \" fill=\"#009af9\" fill-rule=\"evenodd\" fill-opacity=\"1\"/>\n",
       "<polyline clip-path=\"url(#clip7203)\" style=\"stroke:#000000; stroke-width:4; stroke-opacity:1; fill:none\" points=\"\n",
       "  10673,1401.05 10673,1401.05 10741.4,1401.05 10673,1401.05 \n",
       "  \"/>\n",
       "<polygon clip-path=\"url(#clip7203)\" points=\"\n",
       "10741.4,1401.05 10741.4,1401.05 10809.8,1401.05 10809.8,1401.05 10741.4,1401.05 10741.4,1401.05 \n",
       "  \" fill=\"#009af9\" fill-rule=\"evenodd\" fill-opacity=\"1\"/>\n",
       "<polyline clip-path=\"url(#clip7203)\" style=\"stroke:#000000; stroke-width:4; stroke-opacity:1; fill:none\" points=\"\n",
       "  10741.4,1401.05 10741.4,1401.05 10809.8,1401.05 10741.4,1401.05 \n",
       "  \"/>\n",
       "<polygon clip-path=\"url(#clip7203)\" points=\"\n",
       "10809.8,1401.05 10809.8,1401.05 10878.2,1401.05 10878.2,1401.05 10809.8,1401.05 10809.8,1401.05 \n",
       "  \" fill=\"#009af9\" fill-rule=\"evenodd\" fill-opacity=\"1\"/>\n",
       "<polyline clip-path=\"url(#clip7203)\" style=\"stroke:#000000; stroke-width:4; stroke-opacity:1; fill:none\" points=\"\n",
       "  10809.8,1401.05 10809.8,1401.05 10878.2,1401.05 10809.8,1401.05 \n",
       "  \"/>\n",
       "<polygon clip-path=\"url(#clip7203)\" points=\"\n",
       "10878.2,1401.05 10878.2,1401.05 10946.6,1401.05 10946.6,1401.05 10878.2,1401.05 10878.2,1401.05 \n",
       "  \" fill=\"#009af9\" fill-rule=\"evenodd\" fill-opacity=\"1\"/>\n",
       "<polyline clip-path=\"url(#clip7203)\" style=\"stroke:#000000; stroke-width:4; stroke-opacity:1; fill:none\" points=\"\n",
       "  10878.2,1401.05 10878.2,1401.05 10946.6,1401.05 10878.2,1401.05 \n",
       "  \"/>\n",
       "<polygon clip-path=\"url(#clip7203)\" points=\"\n",
       "10946.6,1401.05 10946.6,1401.05 11015,1401.05 11015,1401.05 10946.6,1401.05 10946.6,1401.05 \n",
       "  \" fill=\"#009af9\" fill-rule=\"evenodd\" fill-opacity=\"1\"/>\n",
       "<polyline clip-path=\"url(#clip7203)\" style=\"stroke:#000000; stroke-width:4; stroke-opacity:1; fill:none\" points=\"\n",
       "  10946.6,1401.05 10946.6,1401.05 11015,1401.05 10946.6,1401.05 \n",
       "  \"/>\n",
       "<polygon clip-path=\"url(#clip7203)\" points=\"\n",
       "11015,1401.05 11015,1401.05 11083.5,1401.05 11083.5,1401.05 11015,1401.05 11015,1401.05 \n",
       "  \" fill=\"#009af9\" fill-rule=\"evenodd\" fill-opacity=\"1\"/>\n",
       "<polyline clip-path=\"url(#clip7203)\" style=\"stroke:#000000; stroke-width:4; stroke-opacity:1; fill:none\" points=\"\n",
       "  11015,1401.05 11015,1401.05 11083.5,1401.05 11015,1401.05 \n",
       "  \"/>\n",
       "<polygon clip-path=\"url(#clip7203)\" points=\"\n",
       "11083.5,1401.05 11083.5,1401.05 11151.9,1401.05 11151.9,1401.05 11083.5,1401.05 11083.5,1401.05 \n",
       "  \" fill=\"#009af9\" fill-rule=\"evenodd\" fill-opacity=\"1\"/>\n",
       "<polyline clip-path=\"url(#clip7203)\" style=\"stroke:#000000; stroke-width:4; stroke-opacity:1; fill:none\" points=\"\n",
       "  11083.5,1401.05 11083.5,1401.05 11151.9,1401.05 11083.5,1401.05 \n",
       "  \"/>\n",
       "<polygon clip-path=\"url(#clip7203)\" points=\"\n",
       "11151.9,1401.05 11151.9,1401.05 11220.3,1401.05 11220.3,1401.05 11151.9,1401.05 11151.9,1401.05 \n",
       "  \" fill=\"#009af9\" fill-rule=\"evenodd\" fill-opacity=\"1\"/>\n",
       "<polyline clip-path=\"url(#clip7203)\" style=\"stroke:#000000; stroke-width:4; stroke-opacity:1; fill:none\" points=\"\n",
       "  11151.9,1401.05 11151.9,1401.05 11220.3,1401.05 11151.9,1401.05 \n",
       "  \"/>\n",
       "<polygon clip-path=\"url(#clip7203)\" points=\"\n",
       "11220.3,1401.05 11220.3,1401.05 11288.7,1401.05 11288.7,1401.05 11220.3,1401.05 11220.3,1401.05 \n",
       "  \" fill=\"#009af9\" fill-rule=\"evenodd\" fill-opacity=\"1\"/>\n",
       "<polyline clip-path=\"url(#clip7203)\" style=\"stroke:#000000; stroke-width:4; stroke-opacity:1; fill:none\" points=\"\n",
       "  11220.3,1401.05 11220.3,1401.05 11288.7,1401.05 11220.3,1401.05 \n",
       "  \"/>\n",
       "<polygon clip-path=\"url(#clip7203)\" points=\"\n",
       "11288.7,1401.05 11288.7,1401.05 11357.1,1401.05 11357.1,1401.05 11288.7,1401.05 11288.7,1401.05 \n",
       "  \" fill=\"#009af9\" fill-rule=\"evenodd\" fill-opacity=\"1\"/>\n",
       "<polyline clip-path=\"url(#clip7203)\" style=\"stroke:#000000; stroke-width:4; stroke-opacity:1; fill:none\" points=\"\n",
       "  11288.7,1401.05 11288.7,1401.05 11357.1,1401.05 11288.7,1401.05 \n",
       "  \"/>\n",
       "<polygon clip-path=\"url(#clip7203)\" points=\"\n",
       "11357.1,1401.05 11357.1,1401.05 11425.5,1401.05 11425.5,1401.05 11357.1,1401.05 11357.1,1401.05 \n",
       "  \" fill=\"#009af9\" fill-rule=\"evenodd\" fill-opacity=\"1\"/>\n",
       "<polyline clip-path=\"url(#clip7203)\" style=\"stroke:#000000; stroke-width:4; stroke-opacity:1; fill:none\" points=\"\n",
       "  11357.1,1401.05 11357.1,1401.05 11425.5,1401.05 11357.1,1401.05 \n",
       "  \"/>\n",
       "<polygon clip-path=\"url(#clip7203)\" points=\"\n",
       "11425.5,1401.05 11425.5,1401.05 11494,1401.05 11494,1401.05 11425.5,1401.05 11425.5,1401.05 \n",
       "  \" fill=\"#009af9\" fill-rule=\"evenodd\" fill-opacity=\"1\"/>\n",
       "<polyline clip-path=\"url(#clip7203)\" style=\"stroke:#000000; stroke-width:4; stroke-opacity:1; fill:none\" points=\"\n",
       "  11425.5,1401.05 11425.5,1401.05 11494,1401.05 11425.5,1401.05 \n",
       "  \"/>\n",
       "<polygon clip-path=\"url(#clip7203)\" points=\"\n",
       "11494,1401.05 11494,1401.05 11562.4,1401.05 11562.4,1401.05 11494,1401.05 11494,1401.05 \n",
       "  \" fill=\"#009af9\" fill-rule=\"evenodd\" fill-opacity=\"1\"/>\n",
       "<polyline clip-path=\"url(#clip7203)\" style=\"stroke:#000000; stroke-width:4; stroke-opacity:1; fill:none\" points=\"\n",
       "  11494,1401.05 11494,1401.05 11562.4,1401.05 11494,1401.05 \n",
       "  \"/>\n",
       "<polygon clip-path=\"url(#clip7203)\" points=\"\n",
       "11562.4,1401.05 11562.4,1401.05 11630.8,1401.05 11630.8,1401.05 11562.4,1401.05 11562.4,1401.05 \n",
       "  \" fill=\"#009af9\" fill-rule=\"evenodd\" fill-opacity=\"1\"/>\n",
       "<polyline clip-path=\"url(#clip7203)\" style=\"stroke:#000000; stroke-width:4; stroke-opacity:1; fill:none\" points=\"\n",
       "  11562.4,1401.05 11562.4,1401.05 11630.8,1401.05 11562.4,1401.05 \n",
       "  \"/>\n",
       "<polygon clip-path=\"url(#clip7203)\" points=\"\n",
       "11630.8,1401.05 11630.8,1401.05 11699.2,1401.05 11699.2,1401.05 11630.8,1401.05 11630.8,1401.05 \n",
       "  \" fill=\"#009af9\" fill-rule=\"evenodd\" fill-opacity=\"1\"/>\n",
       "<polyline clip-path=\"url(#clip7203)\" style=\"stroke:#000000; stroke-width:4; stroke-opacity:1; fill:none\" points=\"\n",
       "  11630.8,1401.05 11630.8,1401.05 11699.2,1401.05 11630.8,1401.05 \n",
       "  \"/>\n",
       "<polygon clip-path=\"url(#clip7203)\" points=\"\n",
       "11699.2,1401.05 11699.2,1401.05 11767.6,1401.05 11767.6,1401.05 11699.2,1401.05 11699.2,1401.05 \n",
       "  \" fill=\"#009af9\" fill-rule=\"evenodd\" fill-opacity=\"1\"/>\n",
       "<polyline clip-path=\"url(#clip7203)\" style=\"stroke:#000000; stroke-width:4; stroke-opacity:1; fill:none\" points=\"\n",
       "  11699.2,1401.05 11699.2,1401.05 11767.6,1401.05 11699.2,1401.05 \n",
       "  \"/>\n",
       "<polygon clip-path=\"url(#clip7203)\" points=\"\n",
       "11767.6,1401.05 11767.6,1401.05 11836.1,1401.05 11836.1,1401.05 11767.6,1401.05 11767.6,1401.05 \n",
       "  \" fill=\"#009af9\" fill-rule=\"evenodd\" fill-opacity=\"1\"/>\n",
       "<polyline clip-path=\"url(#clip7203)\" style=\"stroke:#000000; stroke-width:4; stroke-opacity:1; fill:none\" points=\"\n",
       "  11767.6,1401.05 11767.6,1401.05 11836.1,1401.05 11767.6,1401.05 \n",
       "  \"/>\n",
       "<polygon clip-path=\"url(#clip7203)\" points=\"\n",
       "11836.1,1401.05 11836.1,1401.05 11904.5,1401.05 11904.5,1401.05 11836.1,1401.05 11836.1,1401.05 \n",
       "  \" fill=\"#009af9\" fill-rule=\"evenodd\" fill-opacity=\"1\"/>\n",
       "<polyline clip-path=\"url(#clip7203)\" style=\"stroke:#000000; stroke-width:4; stroke-opacity:1; fill:none\" points=\"\n",
       "  11836.1,1401.05 11836.1,1401.05 11904.5,1401.05 11836.1,1401.05 \n",
       "  \"/>\n",
       "<polygon clip-path=\"url(#clip7203)\" points=\"\n",
       "11904.5,1369.76 11904.5,1401.05 11972.9,1401.05 11972.9,1369.76 11904.5,1369.76 11904.5,1369.76 \n",
       "  \" fill=\"#009af9\" fill-rule=\"evenodd\" fill-opacity=\"1\"/>\n",
       "<polyline clip-path=\"url(#clip7203)\" style=\"stroke:#000000; stroke-width:4; stroke-opacity:1; fill:none\" points=\"\n",
       "  11904.5,1369.76 11904.5,1401.05 11972.9,1401.05 11972.9,1369.76 11904.5,1369.76 \n",
       "  \"/>\n",
       "<polygon clip-path=\"url(#clip7203)\" points=\"\n",
       "11972.9,1401.05 11972.9,1401.05 12041.3,1401.05 12041.3,1401.05 11972.9,1401.05 11972.9,1401.05 \n",
       "  \" fill=\"#009af9\" fill-rule=\"evenodd\" fill-opacity=\"1\"/>\n",
       "<polyline clip-path=\"url(#clip7203)\" style=\"stroke:#000000; stroke-width:4; stroke-opacity:1; fill:none\" points=\"\n",
       "  11972.9,1401.05 11972.9,1401.05 12041.3,1401.05 11972.9,1401.05 \n",
       "  \"/>\n",
       "<polygon clip-path=\"url(#clip7203)\" points=\"\n",
       "12041.3,1401.05 12041.3,1401.05 12109.7,1401.05 12109.7,1401.05 12041.3,1401.05 12041.3,1401.05 \n",
       "  \" fill=\"#009af9\" fill-rule=\"evenodd\" fill-opacity=\"1\"/>\n",
       "<polyline clip-path=\"url(#clip7203)\" style=\"stroke:#000000; stroke-width:4; stroke-opacity:1; fill:none\" points=\"\n",
       "  12041.3,1401.05 12041.3,1401.05 12109.7,1401.05 12041.3,1401.05 \n",
       "  \"/>\n",
       "<polygon clip-path=\"url(#clip7203)\" points=\"\n",
       "12109.7,1401.05 12109.7,1401.05 12178.1,1401.05 12178.1,1401.05 12109.7,1401.05 12109.7,1401.05 \n",
       "  \" fill=\"#009af9\" fill-rule=\"evenodd\" fill-opacity=\"1\"/>\n",
       "<polyline clip-path=\"url(#clip7203)\" style=\"stroke:#000000; stroke-width:4; stroke-opacity:1; fill:none\" points=\"\n",
       "  12109.7,1401.05 12109.7,1401.05 12178.1,1401.05 12109.7,1401.05 \n",
       "  \"/>\n",
       "<polygon clip-path=\"url(#clip7203)\" points=\"\n",
       "12178.1,1401.05 12178.1,1401.05 12246.6,1401.05 12246.6,1401.05 12178.1,1401.05 12178.1,1401.05 \n",
       "  \" fill=\"#009af9\" fill-rule=\"evenodd\" fill-opacity=\"1\"/>\n",
       "<polyline clip-path=\"url(#clip7203)\" style=\"stroke:#000000; stroke-width:4; stroke-opacity:1; fill:none\" points=\"\n",
       "  12178.1,1401.05 12178.1,1401.05 12246.6,1401.05 12178.1,1401.05 \n",
       "  \"/>\n",
       "<polygon clip-path=\"url(#clip7203)\" points=\"\n",
       "12246.6,1401.05 12246.6,1401.05 12315,1401.05 12315,1401.05 12246.6,1401.05 12246.6,1401.05 \n",
       "  \" fill=\"#009af9\" fill-rule=\"evenodd\" fill-opacity=\"1\"/>\n",
       "<polyline clip-path=\"url(#clip7203)\" style=\"stroke:#000000; stroke-width:4; stroke-opacity:1; fill:none\" points=\"\n",
       "  12246.6,1401.05 12246.6,1401.05 12315,1401.05 12246.6,1401.05 \n",
       "  \"/>\n",
       "<polygon clip-path=\"url(#clip7203)\" points=\"\n",
       "12315,1401.05 12315,1401.05 12383.4,1401.05 12383.4,1401.05 12315,1401.05 12315,1401.05 \n",
       "  \" fill=\"#009af9\" fill-rule=\"evenodd\" fill-opacity=\"1\"/>\n",
       "<polyline clip-path=\"url(#clip7203)\" style=\"stroke:#000000; stroke-width:4; stroke-opacity:1; fill:none\" points=\"\n",
       "  12315,1401.05 12315,1401.05 12383.4,1401.05 12315,1401.05 \n",
       "  \"/>\n",
       "<polygon clip-path=\"url(#clip7203)\" points=\"\n",
       "12383.4,1401.05 12383.4,1401.05 12451.8,1401.05 12451.8,1401.05 12383.4,1401.05 12383.4,1401.05 \n",
       "  \" fill=\"#009af9\" fill-rule=\"evenodd\" fill-opacity=\"1\"/>\n",
       "<polyline clip-path=\"url(#clip7203)\" style=\"stroke:#000000; stroke-width:4; stroke-opacity:1; fill:none\" points=\"\n",
       "  12383.4,1401.05 12383.4,1401.05 12451.8,1401.05 12383.4,1401.05 \n",
       "  \"/>\n",
       "<polygon clip-path=\"url(#clip7203)\" points=\"\n",
       "12451.8,1401.05 12451.8,1401.05 12520.2,1401.05 12520.2,1401.05 12451.8,1401.05 12451.8,1401.05 \n",
       "  \" fill=\"#009af9\" fill-rule=\"evenodd\" fill-opacity=\"1\"/>\n",
       "<polyline clip-path=\"url(#clip7203)\" style=\"stroke:#000000; stroke-width:4; stroke-opacity:1; fill:none\" points=\"\n",
       "  12451.8,1401.05 12451.8,1401.05 12520.2,1401.05 12451.8,1401.05 \n",
       "  \"/>\n",
       "<polygon clip-path=\"url(#clip7203)\" points=\"\n",
       "12520.2,1401.05 12520.2,1401.05 12588.6,1401.05 12588.6,1401.05 12520.2,1401.05 12520.2,1401.05 \n",
       "  \" fill=\"#009af9\" fill-rule=\"evenodd\" fill-opacity=\"1\"/>\n",
       "<polyline clip-path=\"url(#clip7203)\" style=\"stroke:#000000; stroke-width:4; stroke-opacity:1; fill:none\" points=\"\n",
       "  12520.2,1401.05 12520.2,1401.05 12588.6,1401.05 12520.2,1401.05 \n",
       "  \"/>\n",
       "<polygon clip-path=\"url(#clip7203)\" points=\"\n",
       "12588.6,1401.05 12588.6,1401.05 12657.1,1401.05 12657.1,1401.05 12588.6,1401.05 12588.6,1401.05 \n",
       "  \" fill=\"#009af9\" fill-rule=\"evenodd\" fill-opacity=\"1\"/>\n",
       "<polyline clip-path=\"url(#clip7203)\" style=\"stroke:#000000; stroke-width:4; stroke-opacity:1; fill:none\" points=\"\n",
       "  12588.6,1401.05 12588.6,1401.05 12657.1,1401.05 12588.6,1401.05 \n",
       "  \"/>\n",
       "<polygon clip-path=\"url(#clip7203)\" points=\"\n",
       "12657.1,1401.05 12657.1,1401.05 12725.5,1401.05 12725.5,1401.05 12657.1,1401.05 12657.1,1401.05 \n",
       "  \" fill=\"#009af9\" fill-rule=\"evenodd\" fill-opacity=\"1\"/>\n",
       "<polyline clip-path=\"url(#clip7203)\" style=\"stroke:#000000; stroke-width:4; stroke-opacity:1; fill:none\" points=\"\n",
       "  12657.1,1401.05 12657.1,1401.05 12725.5,1401.05 12657.1,1401.05 \n",
       "  \"/>\n",
       "<polygon clip-path=\"url(#clip7203)\" points=\"\n",
       "12725.5,1401.05 12725.5,1401.05 12793.9,1401.05 12793.9,1401.05 12725.5,1401.05 12725.5,1401.05 \n",
       "  \" fill=\"#009af9\" fill-rule=\"evenodd\" fill-opacity=\"1\"/>\n",
       "<polyline clip-path=\"url(#clip7203)\" style=\"stroke:#000000; stroke-width:4; stroke-opacity:1; fill:none\" points=\"\n",
       "  12725.5,1401.05 12725.5,1401.05 12793.9,1401.05 12725.5,1401.05 \n",
       "  \"/>\n",
       "<polygon clip-path=\"url(#clip7203)\" points=\"\n",
       "12793.9,1401.05 12793.9,1401.05 12862.3,1401.05 12862.3,1401.05 12793.9,1401.05 12793.9,1401.05 \n",
       "  \" fill=\"#009af9\" fill-rule=\"evenodd\" fill-opacity=\"1\"/>\n",
       "<polyline clip-path=\"url(#clip7203)\" style=\"stroke:#000000; stroke-width:4; stroke-opacity:1; fill:none\" points=\"\n",
       "  12793.9,1401.05 12793.9,1401.05 12862.3,1401.05 12793.9,1401.05 \n",
       "  \"/>\n",
       "<polygon clip-path=\"url(#clip7203)\" points=\"\n",
       "12862.3,1401.05 12862.3,1401.05 12930.7,1401.05 12930.7,1401.05 12862.3,1401.05 12862.3,1401.05 \n",
       "  \" fill=\"#009af9\" fill-rule=\"evenodd\" fill-opacity=\"1\"/>\n",
       "<polyline clip-path=\"url(#clip7203)\" style=\"stroke:#000000; stroke-width:4; stroke-opacity:1; fill:none\" points=\"\n",
       "  12862.3,1401.05 12862.3,1401.05 12930.7,1401.05 12862.3,1401.05 \n",
       "  \"/>\n",
       "<polygon clip-path=\"url(#clip7203)\" points=\"\n",
       "12930.7,1401.05 12930.7,1401.05 12999.2,1401.05 12999.2,1401.05 12930.7,1401.05 12930.7,1401.05 \n",
       "  \" fill=\"#009af9\" fill-rule=\"evenodd\" fill-opacity=\"1\"/>\n",
       "<polyline clip-path=\"url(#clip7203)\" style=\"stroke:#000000; stroke-width:4; stroke-opacity:1; fill:none\" points=\"\n",
       "  12930.7,1401.05 12930.7,1401.05 12999.2,1401.05 12930.7,1401.05 \n",
       "  \"/>\n",
       "<polygon clip-path=\"url(#clip7203)\" points=\"\n",
       "12999.2,1401.05 12999.2,1401.05 13067.6,1401.05 13067.6,1401.05 12999.2,1401.05 12999.2,1401.05 \n",
       "  \" fill=\"#009af9\" fill-rule=\"evenodd\" fill-opacity=\"1\"/>\n",
       "<polyline clip-path=\"url(#clip7203)\" style=\"stroke:#000000; stroke-width:4; stroke-opacity:1; fill:none\" points=\"\n",
       "  12999.2,1401.05 12999.2,1401.05 13067.6,1401.05 12999.2,1401.05 \n",
       "  \"/>\n",
       "<polygon clip-path=\"url(#clip7203)\" points=\"\n",
       "13067.6,1401.05 13067.6,1401.05 13136,1401.05 13136,1401.05 13067.6,1401.05 13067.6,1401.05 \n",
       "  \" fill=\"#009af9\" fill-rule=\"evenodd\" fill-opacity=\"1\"/>\n",
       "<polyline clip-path=\"url(#clip7203)\" style=\"stroke:#000000; stroke-width:4; stroke-opacity:1; fill:none\" points=\"\n",
       "  13067.6,1401.05 13067.6,1401.05 13136,1401.05 13067.6,1401.05 \n",
       "  \"/>\n",
       "<polygon clip-path=\"url(#clip7203)\" points=\"\n",
       "13136,1369.76 13136,1401.05 13204.4,1401.05 13204.4,1369.76 13136,1369.76 13136,1369.76 \n",
       "  \" fill=\"#009af9\" fill-rule=\"evenodd\" fill-opacity=\"1\"/>\n",
       "<polyline clip-path=\"url(#clip7203)\" style=\"stroke:#000000; stroke-width:4; stroke-opacity:1; fill:none\" points=\"\n",
       "  13136,1369.76 13136,1401.05 13204.4,1401.05 13204.4,1369.76 13136,1369.76 \n",
       "  \"/>\n",
       "<polygon clip-path=\"url(#clip7203)\" points=\"\n",
       "13204.4,1401.05 13204.4,1401.05 13272.8,1401.05 13272.8,1401.05 13204.4,1401.05 13204.4,1401.05 \n",
       "  \" fill=\"#009af9\" fill-rule=\"evenodd\" fill-opacity=\"1\"/>\n",
       "<polyline clip-path=\"url(#clip7203)\" style=\"stroke:#000000; stroke-width:4; stroke-opacity:1; fill:none\" points=\"\n",
       "  13204.4,1401.05 13204.4,1401.05 13272.8,1401.05 13204.4,1401.05 \n",
       "  \"/>\n",
       "<polygon clip-path=\"url(#clip7203)\" points=\"\n",
       "13272.8,1401.05 13272.8,1401.05 13341.2,1401.05 13341.2,1401.05 13272.8,1401.05 13272.8,1401.05 \n",
       "  \" fill=\"#009af9\" fill-rule=\"evenodd\" fill-opacity=\"1\"/>\n",
       "<polyline clip-path=\"url(#clip7203)\" style=\"stroke:#000000; stroke-width:4; stroke-opacity:1; fill:none\" points=\"\n",
       "  13272.8,1401.05 13272.8,1401.05 13341.2,1401.05 13272.8,1401.05 \n",
       "  \"/>\n",
       "<polygon clip-path=\"url(#clip7203)\" points=\"\n",
       "13341.2,1401.05 13341.2,1401.05 13409.7,1401.05 13409.7,1401.05 13341.2,1401.05 13341.2,1401.05 \n",
       "  \" fill=\"#009af9\" fill-rule=\"evenodd\" fill-opacity=\"1\"/>\n",
       "<polyline clip-path=\"url(#clip7203)\" style=\"stroke:#000000; stroke-width:4; stroke-opacity:1; fill:none\" points=\"\n",
       "  13341.2,1401.05 13341.2,1401.05 13409.7,1401.05 13341.2,1401.05 \n",
       "  \"/>\n",
       "<polygon clip-path=\"url(#clip7203)\" points=\"\n",
       "13409.7,1401.05 13409.7,1401.05 13478.1,1401.05 13478.1,1401.05 13409.7,1401.05 13409.7,1401.05 \n",
       "  \" fill=\"#009af9\" fill-rule=\"evenodd\" fill-opacity=\"1\"/>\n",
       "<polyline clip-path=\"url(#clip7203)\" style=\"stroke:#000000; stroke-width:4; stroke-opacity:1; fill:none\" points=\"\n",
       "  13409.7,1401.05 13409.7,1401.05 13478.1,1401.05 13409.7,1401.05 \n",
       "  \"/>\n",
       "<polygon clip-path=\"url(#clip7203)\" points=\"\n",
       "13478.1,1401.05 13478.1,1401.05 13546.5,1401.05 13546.5,1401.05 13478.1,1401.05 13478.1,1401.05 \n",
       "  \" fill=\"#009af9\" fill-rule=\"evenodd\" fill-opacity=\"1\"/>\n",
       "<polyline clip-path=\"url(#clip7203)\" style=\"stroke:#000000; stroke-width:4; stroke-opacity:1; fill:none\" points=\"\n",
       "  13478.1,1401.05 13478.1,1401.05 13546.5,1401.05 13478.1,1401.05 \n",
       "  \"/>\n",
       "<polygon clip-path=\"url(#clip7203)\" points=\"\n",
       "13546.5,1401.05 13546.5,1401.05 13614.9,1401.05 13614.9,1401.05 13546.5,1401.05 13546.5,1401.05 \n",
       "  \" fill=\"#009af9\" fill-rule=\"evenodd\" fill-opacity=\"1\"/>\n",
       "<polyline clip-path=\"url(#clip7203)\" style=\"stroke:#000000; stroke-width:4; stroke-opacity:1; fill:none\" points=\"\n",
       "  13546.5,1401.05 13546.5,1401.05 13614.9,1401.05 13546.5,1401.05 \n",
       "  \"/>\n",
       "<polygon clip-path=\"url(#clip7203)\" points=\"\n",
       "13614.9,1401.05 13614.9,1401.05 13683.3,1401.05 13683.3,1401.05 13614.9,1401.05 13614.9,1401.05 \n",
       "  \" fill=\"#009af9\" fill-rule=\"evenodd\" fill-opacity=\"1\"/>\n",
       "<polyline clip-path=\"url(#clip7203)\" style=\"stroke:#000000; stroke-width:4; stroke-opacity:1; fill:none\" points=\"\n",
       "  13614.9,1401.05 13614.9,1401.05 13683.3,1401.05 13614.9,1401.05 \n",
       "  \"/>\n",
       "<polygon clip-path=\"url(#clip7203)\" points=\"\n",
       "13683.3,1401.05 13683.3,1401.05 13751.7,1401.05 13751.7,1401.05 13683.3,1401.05 13683.3,1401.05 \n",
       "  \" fill=\"#009af9\" fill-rule=\"evenodd\" fill-opacity=\"1\"/>\n",
       "<polyline clip-path=\"url(#clip7203)\" style=\"stroke:#000000; stroke-width:4; stroke-opacity:1; fill:none\" points=\"\n",
       "  13683.3,1401.05 13683.3,1401.05 13751.7,1401.05 13683.3,1401.05 \n",
       "  \"/>\n",
       "<polygon clip-path=\"url(#clip7203)\" points=\"\n",
       "13751.7,1401.05 13751.7,1401.05 13820.2,1401.05 13820.2,1401.05 13751.7,1401.05 13751.7,1401.05 \n",
       "  \" fill=\"#009af9\" fill-rule=\"evenodd\" fill-opacity=\"1\"/>\n",
       "<polyline clip-path=\"url(#clip7203)\" style=\"stroke:#000000; stroke-width:4; stroke-opacity:1; fill:none\" points=\"\n",
       "  13751.7,1401.05 13751.7,1401.05 13820.2,1401.05 13751.7,1401.05 \n",
       "  \"/>\n",
       "<polygon clip-path=\"url(#clip7203)\" points=\"\n",
       "13820.2,1401.05 13820.2,1401.05 13888.6,1401.05 13888.6,1401.05 13820.2,1401.05 13820.2,1401.05 \n",
       "  \" fill=\"#009af9\" fill-rule=\"evenodd\" fill-opacity=\"1\"/>\n",
       "<polyline clip-path=\"url(#clip7203)\" style=\"stroke:#000000; stroke-width:4; stroke-opacity:1; fill:none\" points=\"\n",
       "  13820.2,1401.05 13820.2,1401.05 13888.6,1401.05 13820.2,1401.05 \n",
       "  \"/>\n",
       "<polygon clip-path=\"url(#clip7203)\" points=\"\n",
       "13888.6,1401.05 13888.6,1401.05 13957,1401.05 13957,1401.05 13888.6,1401.05 13888.6,1401.05 \n",
       "  \" fill=\"#009af9\" fill-rule=\"evenodd\" fill-opacity=\"1\"/>\n",
       "<polyline clip-path=\"url(#clip7203)\" style=\"stroke:#000000; stroke-width:4; stroke-opacity:1; fill:none\" points=\"\n",
       "  13888.6,1401.05 13888.6,1401.05 13957,1401.05 13888.6,1401.05 \n",
       "  \"/>\n",
       "<polygon clip-path=\"url(#clip7203)\" points=\"\n",
       "13957,1401.05 13957,1401.05 14025.4,1401.05 14025.4,1401.05 13957,1401.05 13957,1401.05 \n",
       "  \" fill=\"#009af9\" fill-rule=\"evenodd\" fill-opacity=\"1\"/>\n",
       "<polyline clip-path=\"url(#clip7203)\" style=\"stroke:#000000; stroke-width:4; stroke-opacity:1; fill:none\" points=\"\n",
       "  13957,1401.05 13957,1401.05 14025.4,1401.05 13957,1401.05 \n",
       "  \"/>\n",
       "<polygon clip-path=\"url(#clip7203)\" points=\"\n",
       "14025.4,1369.76 14025.4,1401.05 14093.8,1401.05 14093.8,1369.76 14025.4,1369.76 14025.4,1369.76 \n",
       "  \" fill=\"#009af9\" fill-rule=\"evenodd\" fill-opacity=\"1\"/>\n",
       "<polyline clip-path=\"url(#clip7203)\" style=\"stroke:#000000; stroke-width:4; stroke-opacity:1; fill:none\" points=\"\n",
       "  14025.4,1369.76 14025.4,1401.05 14093.8,1401.05 14093.8,1369.76 14025.4,1369.76 \n",
       "  \"/>\n",
       "<polygon clip-path=\"url(#clip7203)\" points=\"\n",
       "14093.8,1401.05 14093.8,1401.05 14162.3,1401.05 14162.3,1401.05 14093.8,1401.05 14093.8,1401.05 \n",
       "  \" fill=\"#009af9\" fill-rule=\"evenodd\" fill-opacity=\"1\"/>\n",
       "<polyline clip-path=\"url(#clip7203)\" style=\"stroke:#000000; stroke-width:4; stroke-opacity:1; fill:none\" points=\"\n",
       "  14093.8,1401.05 14093.8,1401.05 14162.3,1401.05 14093.8,1401.05 \n",
       "  \"/>\n",
       "<polygon clip-path=\"url(#clip7203)\" points=\"\n",
       "14162.3,1401.05 14162.3,1401.05 14230.7,1401.05 14230.7,1401.05 14162.3,1401.05 14162.3,1401.05 \n",
       "  \" fill=\"#009af9\" fill-rule=\"evenodd\" fill-opacity=\"1\"/>\n",
       "<polyline clip-path=\"url(#clip7203)\" style=\"stroke:#000000; stroke-width:4; stroke-opacity:1; fill:none\" points=\"\n",
       "  14162.3,1401.05 14162.3,1401.05 14230.7,1401.05 14162.3,1401.05 \n",
       "  \"/>\n",
       "<polygon clip-path=\"url(#clip7203)\" points=\"\n",
       "14230.7,1401.05 14230.7,1401.05 14299.1,1401.05 14299.1,1401.05 14230.7,1401.05 14230.7,1401.05 \n",
       "  \" fill=\"#009af9\" fill-rule=\"evenodd\" fill-opacity=\"1\"/>\n",
       "<polyline clip-path=\"url(#clip7203)\" style=\"stroke:#000000; stroke-width:4; stroke-opacity:1; fill:none\" points=\"\n",
       "  14230.7,1401.05 14230.7,1401.05 14299.1,1401.05 14230.7,1401.05 \n",
       "  \"/>\n",
       "<polygon clip-path=\"url(#clip7203)\" points=\"\n",
       "14299.1,1401.05 14299.1,1401.05 14367.5,1401.05 14367.5,1401.05 14299.1,1401.05 14299.1,1401.05 \n",
       "  \" fill=\"#009af9\" fill-rule=\"evenodd\" fill-opacity=\"1\"/>\n",
       "<polyline clip-path=\"url(#clip7203)\" style=\"stroke:#000000; stroke-width:4; stroke-opacity:1; fill:none\" points=\"\n",
       "  14299.1,1401.05 14299.1,1401.05 14367.5,1401.05 14299.1,1401.05 \n",
       "  \"/>\n",
       "<polygon clip-path=\"url(#clip7203)\" points=\"\n",
       "14367.5,1401.05 14367.5,1401.05 14435.9,1401.05 14435.9,1401.05 14367.5,1401.05 14367.5,1401.05 \n",
       "  \" fill=\"#009af9\" fill-rule=\"evenodd\" fill-opacity=\"1\"/>\n",
       "<polyline clip-path=\"url(#clip7203)\" style=\"stroke:#000000; stroke-width:4; stroke-opacity:1; fill:none\" points=\"\n",
       "  14367.5,1401.05 14367.5,1401.05 14435.9,1401.05 14367.5,1401.05 \n",
       "  \"/>\n",
       "<polygon clip-path=\"url(#clip7203)\" points=\"\n",
       "14435.9,1401.05 14435.9,1401.05 14504.3,1401.05 14504.3,1401.05 14435.9,1401.05 14435.9,1401.05 \n",
       "  \" fill=\"#009af9\" fill-rule=\"evenodd\" fill-opacity=\"1\"/>\n",
       "<polyline clip-path=\"url(#clip7203)\" style=\"stroke:#000000; stroke-width:4; stroke-opacity:1; fill:none\" points=\"\n",
       "  14435.9,1401.05 14435.9,1401.05 14504.3,1401.05 14435.9,1401.05 \n",
       "  \"/>\n",
       "<polygon clip-path=\"url(#clip7203)\" points=\"\n",
       "14504.3,1401.05 14504.3,1401.05 14572.8,1401.05 14572.8,1401.05 14504.3,1401.05 14504.3,1401.05 \n",
       "  \" fill=\"#009af9\" fill-rule=\"evenodd\" fill-opacity=\"1\"/>\n",
       "<polyline clip-path=\"url(#clip7203)\" style=\"stroke:#000000; stroke-width:4; stroke-opacity:1; fill:none\" points=\"\n",
       "  14504.3,1401.05 14504.3,1401.05 14572.8,1401.05 14504.3,1401.05 \n",
       "  \"/>\n",
       "<polygon clip-path=\"url(#clip7203)\" points=\"\n",
       "14572.8,1401.05 14572.8,1401.05 14641.2,1401.05 14641.2,1401.05 14572.8,1401.05 14572.8,1401.05 \n",
       "  \" fill=\"#009af9\" fill-rule=\"evenodd\" fill-opacity=\"1\"/>\n",
       "<polyline clip-path=\"url(#clip7203)\" style=\"stroke:#000000; stroke-width:4; stroke-opacity:1; fill:none\" points=\"\n",
       "  14572.8,1401.05 14572.8,1401.05 14641.2,1401.05 14572.8,1401.05 \n",
       "  \"/>\n",
       "<polygon clip-path=\"url(#clip7203)\" points=\"\n",
       "14641.2,1401.05 14641.2,1401.05 14709.6,1401.05 14709.6,1401.05 14641.2,1401.05 14641.2,1401.05 \n",
       "  \" fill=\"#009af9\" fill-rule=\"evenodd\" fill-opacity=\"1\"/>\n",
       "<polyline clip-path=\"url(#clip7203)\" style=\"stroke:#000000; stroke-width:4; stroke-opacity:1; fill:none\" points=\"\n",
       "  14641.2,1401.05 14641.2,1401.05 14709.6,1401.05 14641.2,1401.05 \n",
       "  \"/>\n",
       "<polygon clip-path=\"url(#clip7203)\" points=\"\n",
       "14709.6,1401.05 14709.6,1401.05 14778,1401.05 14778,1401.05 14709.6,1401.05 14709.6,1401.05 \n",
       "  \" fill=\"#009af9\" fill-rule=\"evenodd\" fill-opacity=\"1\"/>\n",
       "<polyline clip-path=\"url(#clip7203)\" style=\"stroke:#000000; stroke-width:4; stroke-opacity:1; fill:none\" points=\"\n",
       "  14709.6,1401.05 14709.6,1401.05 14778,1401.05 14709.6,1401.05 \n",
       "  \"/>\n",
       "<polygon clip-path=\"url(#clip7203)\" points=\"\n",
       "14778,1401.05 14778,1401.05 14846.4,1401.05 14846.4,1401.05 14778,1401.05 14778,1401.05 \n",
       "  \" fill=\"#009af9\" fill-rule=\"evenodd\" fill-opacity=\"1\"/>\n",
       "<polyline clip-path=\"url(#clip7203)\" style=\"stroke:#000000; stroke-width:4; stroke-opacity:1; fill:none\" points=\"\n",
       "  14778,1401.05 14778,1401.05 14846.4,1401.05 14778,1401.05 \n",
       "  \"/>\n",
       "<polygon clip-path=\"url(#clip7203)\" points=\"\n",
       "14846.4,1401.05 14846.4,1401.05 14914.9,1401.05 14914.9,1401.05 14846.4,1401.05 14846.4,1401.05 \n",
       "  \" fill=\"#009af9\" fill-rule=\"evenodd\" fill-opacity=\"1\"/>\n",
       "<polyline clip-path=\"url(#clip7203)\" style=\"stroke:#000000; stroke-width:4; stroke-opacity:1; fill:none\" points=\"\n",
       "  14846.4,1401.05 14846.4,1401.05 14914.9,1401.05 14846.4,1401.05 \n",
       "  \"/>\n",
       "<polygon clip-path=\"url(#clip7203)\" points=\"\n",
       "14914.9,1401.05 14914.9,1401.05 14983.3,1401.05 14983.3,1401.05 14914.9,1401.05 14914.9,1401.05 \n",
       "  \" fill=\"#009af9\" fill-rule=\"evenodd\" fill-opacity=\"1\"/>\n",
       "<polyline clip-path=\"url(#clip7203)\" style=\"stroke:#000000; stroke-width:4; stroke-opacity:1; fill:none\" points=\"\n",
       "  14914.9,1401.05 14914.9,1401.05 14983.3,1401.05 14914.9,1401.05 \n",
       "  \"/>\n",
       "<polygon clip-path=\"url(#clip7203)\" points=\"\n",
       "14983.3,1401.05 14983.3,1401.05 15051.7,1401.05 15051.7,1401.05 14983.3,1401.05 14983.3,1401.05 \n",
       "  \" fill=\"#009af9\" fill-rule=\"evenodd\" fill-opacity=\"1\"/>\n",
       "<polyline clip-path=\"url(#clip7203)\" style=\"stroke:#000000; stroke-width:4; stroke-opacity:1; fill:none\" points=\"\n",
       "  14983.3,1401.05 14983.3,1401.05 15051.7,1401.05 14983.3,1401.05 \n",
       "  \"/>\n",
       "<polygon clip-path=\"url(#clip7203)\" points=\"\n",
       "15051.7,1401.05 15051.7,1401.05 15120.1,1401.05 15120.1,1401.05 15051.7,1401.05 15051.7,1401.05 \n",
       "  \" fill=\"#009af9\" fill-rule=\"evenodd\" fill-opacity=\"1\"/>\n",
       "<polyline clip-path=\"url(#clip7203)\" style=\"stroke:#000000; stroke-width:4; stroke-opacity:1; fill:none\" points=\"\n",
       "  15051.7,1401.05 15051.7,1401.05 15120.1,1401.05 15051.7,1401.05 \n",
       "  \"/>\n",
       "<polygon clip-path=\"url(#clip7203)\" points=\"\n",
       "15120.1,1401.05 15120.1,1401.05 15188.5,1401.05 15188.5,1401.05 15120.1,1401.05 15120.1,1401.05 \n",
       "  \" fill=\"#009af9\" fill-rule=\"evenodd\" fill-opacity=\"1\"/>\n",
       "<polyline clip-path=\"url(#clip7203)\" style=\"stroke:#000000; stroke-width:4; stroke-opacity:1; fill:none\" points=\"\n",
       "  15120.1,1401.05 15120.1,1401.05 15188.5,1401.05 15120.1,1401.05 \n",
       "  \"/>\n",
       "<polygon clip-path=\"url(#clip7203)\" points=\"\n",
       "15188.5,1401.05 15188.5,1401.05 15256.9,1401.05 15256.9,1401.05 15188.5,1401.05 15188.5,1401.05 \n",
       "  \" fill=\"#009af9\" fill-rule=\"evenodd\" fill-opacity=\"1\"/>\n",
       "<polyline clip-path=\"url(#clip7203)\" style=\"stroke:#000000; stroke-width:4; stroke-opacity:1; fill:none\" points=\"\n",
       "  15188.5,1401.05 15188.5,1401.05 15256.9,1401.05 15188.5,1401.05 \n",
       "  \"/>\n",
       "<polygon clip-path=\"url(#clip7203)\" points=\"\n",
       "15256.9,1401.05 15256.9,1401.05 15325.4,1401.05 15325.4,1401.05 15256.9,1401.05 15256.9,1401.05 \n",
       "  \" fill=\"#009af9\" fill-rule=\"evenodd\" fill-opacity=\"1\"/>\n",
       "<polyline clip-path=\"url(#clip7203)\" style=\"stroke:#000000; stroke-width:4; stroke-opacity:1; fill:none\" points=\"\n",
       "  15256.9,1401.05 15256.9,1401.05 15325.4,1401.05 15256.9,1401.05 \n",
       "  \"/>\n",
       "<polygon clip-path=\"url(#clip7203)\" points=\"\n",
       "15325.4,1401.05 15325.4,1401.05 15393.8,1401.05 15393.8,1401.05 15325.4,1401.05 15325.4,1401.05 \n",
       "  \" fill=\"#009af9\" fill-rule=\"evenodd\" fill-opacity=\"1\"/>\n",
       "<polyline clip-path=\"url(#clip7203)\" style=\"stroke:#000000; stroke-width:4; stroke-opacity:1; fill:none\" points=\"\n",
       "  15325.4,1401.05 15325.4,1401.05 15393.8,1401.05 15325.4,1401.05 \n",
       "  \"/>\n",
       "<polygon clip-path=\"url(#clip7203)\" points=\"\n",
       "15393.8,1401.05 15393.8,1401.05 15462.2,1401.05 15462.2,1401.05 15393.8,1401.05 15393.8,1401.05 \n",
       "  \" fill=\"#009af9\" fill-rule=\"evenodd\" fill-opacity=\"1\"/>\n",
       "<polyline clip-path=\"url(#clip7203)\" style=\"stroke:#000000; stroke-width:4; stroke-opacity:1; fill:none\" points=\"\n",
       "  15393.8,1401.05 15393.8,1401.05 15462.2,1401.05 15393.8,1401.05 \n",
       "  \"/>\n",
       "<polygon clip-path=\"url(#clip7203)\" points=\"\n",
       "15462.2,1401.05 15462.2,1401.05 15530.6,1401.05 15530.6,1401.05 15462.2,1401.05 15462.2,1401.05 \n",
       "  \" fill=\"#009af9\" fill-rule=\"evenodd\" fill-opacity=\"1\"/>\n",
       "<polyline clip-path=\"url(#clip7203)\" style=\"stroke:#000000; stroke-width:4; stroke-opacity:1; fill:none\" points=\"\n",
       "  15462.2,1401.05 15462.2,1401.05 15530.6,1401.05 15462.2,1401.05 \n",
       "  \"/>\n",
       "<polygon clip-path=\"url(#clip7203)\" points=\"\n",
       "15530.6,1401.05 15530.6,1401.05 15599,1401.05 15599,1401.05 15530.6,1401.05 15530.6,1401.05 \n",
       "  \" fill=\"#009af9\" fill-rule=\"evenodd\" fill-opacity=\"1\"/>\n",
       "<polyline clip-path=\"url(#clip7203)\" style=\"stroke:#000000; stroke-width:4; stroke-opacity:1; fill:none\" points=\"\n",
       "  15530.6,1401.05 15530.6,1401.05 15599,1401.05 15530.6,1401.05 \n",
       "  \"/>\n",
       "<polygon clip-path=\"url(#clip7203)\" points=\"\n",
       "15599,1401.05 15599,1401.05 15667.4,1401.05 15667.4,1401.05 15599,1401.05 15599,1401.05 \n",
       "  \" fill=\"#009af9\" fill-rule=\"evenodd\" fill-opacity=\"1\"/>\n",
       "<polyline clip-path=\"url(#clip7203)\" style=\"stroke:#000000; stroke-width:4; stroke-opacity:1; fill:none\" points=\"\n",
       "  15599,1401.05 15599,1401.05 15667.4,1401.05 15599,1401.05 \n",
       "  \"/>\n",
       "<polygon clip-path=\"url(#clip7203)\" points=\"\n",
       "15667.4,1401.05 15667.4,1401.05 15735.9,1401.05 15735.9,1401.05 15667.4,1401.05 15667.4,1401.05 \n",
       "  \" fill=\"#009af9\" fill-rule=\"evenodd\" fill-opacity=\"1\"/>\n",
       "<polyline clip-path=\"url(#clip7203)\" style=\"stroke:#000000; stroke-width:4; stroke-opacity:1; fill:none\" points=\"\n",
       "  15667.4,1401.05 15667.4,1401.05 15735.9,1401.05 15667.4,1401.05 \n",
       "  \"/>\n",
       "<polygon clip-path=\"url(#clip7203)\" points=\"\n",
       "15735.9,1401.05 15735.9,1401.05 15804.3,1401.05 15804.3,1401.05 15735.9,1401.05 15735.9,1401.05 \n",
       "  \" fill=\"#009af9\" fill-rule=\"evenodd\" fill-opacity=\"1\"/>\n",
       "<polyline clip-path=\"url(#clip7203)\" style=\"stroke:#000000; stroke-width:4; stroke-opacity:1; fill:none\" points=\"\n",
       "  15735.9,1401.05 15735.9,1401.05 15804.3,1401.05 15735.9,1401.05 \n",
       "  \"/>\n",
       "<polygon clip-path=\"url(#clip7203)\" points=\"\n",
       "15804.3,1401.05 15804.3,1401.05 15872.7,1401.05 15872.7,1401.05 15804.3,1401.05 15804.3,1401.05 \n",
       "  \" fill=\"#009af9\" fill-rule=\"evenodd\" fill-opacity=\"1\"/>\n",
       "<polyline clip-path=\"url(#clip7203)\" style=\"stroke:#000000; stroke-width:4; stroke-opacity:1; fill:none\" points=\"\n",
       "  15804.3,1401.05 15804.3,1401.05 15872.7,1401.05 15804.3,1401.05 \n",
       "  \"/>\n",
       "<polygon clip-path=\"url(#clip7203)\" points=\"\n",
       "15872.7,1401.05 15872.7,1401.05 15941.1,1401.05 15941.1,1401.05 15872.7,1401.05 15872.7,1401.05 \n",
       "  \" fill=\"#009af9\" fill-rule=\"evenodd\" fill-opacity=\"1\"/>\n",
       "<polyline clip-path=\"url(#clip7203)\" style=\"stroke:#000000; stroke-width:4; stroke-opacity:1; fill:none\" points=\"\n",
       "  15872.7,1401.05 15872.7,1401.05 15941.1,1401.05 15872.7,1401.05 \n",
       "  \"/>\n",
       "<polygon clip-path=\"url(#clip7203)\" points=\"\n",
       "15941.1,1401.05 15941.1,1401.05 16009.5,1401.05 16009.5,1401.05 15941.1,1401.05 15941.1,1401.05 \n",
       "  \" fill=\"#009af9\" fill-rule=\"evenodd\" fill-opacity=\"1\"/>\n",
       "<polyline clip-path=\"url(#clip7203)\" style=\"stroke:#000000; stroke-width:4; stroke-opacity:1; fill:none\" points=\"\n",
       "  15941.1,1401.05 15941.1,1401.05 16009.5,1401.05 15941.1,1401.05 \n",
       "  \"/>\n",
       "<polygon clip-path=\"url(#clip7203)\" points=\"\n",
       "16009.5,1401.05 16009.5,1401.05 16078,1401.05 16078,1401.05 16009.5,1401.05 16009.5,1401.05 \n",
       "  \" fill=\"#009af9\" fill-rule=\"evenodd\" fill-opacity=\"1\"/>\n",
       "<polyline clip-path=\"url(#clip7203)\" style=\"stroke:#000000; stroke-width:4; stroke-opacity:1; fill:none\" points=\"\n",
       "  16009.5,1401.05 16009.5,1401.05 16078,1401.05 16009.5,1401.05 \n",
       "  \"/>\n",
       "<polygon clip-path=\"url(#clip7203)\" points=\"\n",
       "16078,1401.05 16078,1401.05 16146.4,1401.05 16146.4,1401.05 16078,1401.05 16078,1401.05 \n",
       "  \" fill=\"#009af9\" fill-rule=\"evenodd\" fill-opacity=\"1\"/>\n",
       "<polyline clip-path=\"url(#clip7203)\" style=\"stroke:#000000; stroke-width:4; stroke-opacity:1; fill:none\" points=\"\n",
       "  16078,1401.05 16078,1401.05 16146.4,1401.05 16078,1401.05 \n",
       "  \"/>\n",
       "<polygon clip-path=\"url(#clip7203)\" points=\"\n",
       "16146.4,1401.05 16146.4,1401.05 16214.8,1401.05 16214.8,1401.05 16146.4,1401.05 16146.4,1401.05 \n",
       "  \" fill=\"#009af9\" fill-rule=\"evenodd\" fill-opacity=\"1\"/>\n",
       "<polyline clip-path=\"url(#clip7203)\" style=\"stroke:#000000; stroke-width:4; stroke-opacity:1; fill:none\" points=\"\n",
       "  16146.4,1401.05 16146.4,1401.05 16214.8,1401.05 16146.4,1401.05 \n",
       "  \"/>\n",
       "<polygon clip-path=\"url(#clip7203)\" points=\"\n",
       "16214.8,1401.05 16214.8,1401.05 16283.2,1401.05 16283.2,1401.05 16214.8,1401.05 16214.8,1401.05 \n",
       "  \" fill=\"#009af9\" fill-rule=\"evenodd\" fill-opacity=\"1\"/>\n",
       "<polyline clip-path=\"url(#clip7203)\" style=\"stroke:#000000; stroke-width:4; stroke-opacity:1; fill:none\" points=\"\n",
       "  16214.8,1401.05 16214.8,1401.05 16283.2,1401.05 16214.8,1401.05 \n",
       "  \"/>\n",
       "<polygon clip-path=\"url(#clip7203)\" points=\"\n",
       "16283.2,1401.05 16283.2,1401.05 16351.6,1401.05 16351.6,1401.05 16283.2,1401.05 16283.2,1401.05 \n",
       "  \" fill=\"#009af9\" fill-rule=\"evenodd\" fill-opacity=\"1\"/>\n",
       "<polyline clip-path=\"url(#clip7203)\" style=\"stroke:#000000; stroke-width:4; stroke-opacity:1; fill:none\" points=\"\n",
       "  16283.2,1401.05 16283.2,1401.05 16351.6,1401.05 16283.2,1401.05 \n",
       "  \"/>\n",
       "<polygon clip-path=\"url(#clip7203)\" points=\"\n",
       "16351.6,1401.05 16351.6,1401.05 16420,1401.05 16420,1401.05 16351.6,1401.05 16351.6,1401.05 \n",
       "  \" fill=\"#009af9\" fill-rule=\"evenodd\" fill-opacity=\"1\"/>\n",
       "<polyline clip-path=\"url(#clip7203)\" style=\"stroke:#000000; stroke-width:4; stroke-opacity:1; fill:none\" points=\"\n",
       "  16351.6,1401.05 16351.6,1401.05 16420,1401.05 16351.6,1401.05 \n",
       "  \"/>\n",
       "<polygon clip-path=\"url(#clip7203)\" points=\"\n",
       "16420,1401.05 16420,1401.05 16488.5,1401.05 16488.5,1401.05 16420,1401.05 16420,1401.05 \n",
       "  \" fill=\"#009af9\" fill-rule=\"evenodd\" fill-opacity=\"1\"/>\n",
       "<polyline clip-path=\"url(#clip7203)\" style=\"stroke:#000000; stroke-width:4; stroke-opacity:1; fill:none\" points=\"\n",
       "  16420,1401.05 16420,1401.05 16488.5,1401.05 16420,1401.05 \n",
       "  \"/>\n",
       "<polygon clip-path=\"url(#clip7203)\" points=\"\n",
       "16488.5,1401.05 16488.5,1401.05 16556.9,1401.05 16556.9,1401.05 16488.5,1401.05 16488.5,1401.05 \n",
       "  \" fill=\"#009af9\" fill-rule=\"evenodd\" fill-opacity=\"1\"/>\n",
       "<polyline clip-path=\"url(#clip7203)\" style=\"stroke:#000000; stroke-width:4; stroke-opacity:1; fill:none\" points=\"\n",
       "  16488.5,1401.05 16488.5,1401.05 16556.9,1401.05 16488.5,1401.05 \n",
       "  \"/>\n",
       "<polygon clip-path=\"url(#clip7203)\" points=\"\n",
       "16556.9,1401.05 16556.9,1401.05 16625.3,1401.05 16625.3,1401.05 16556.9,1401.05 16556.9,1401.05 \n",
       "  \" fill=\"#009af9\" fill-rule=\"evenodd\" fill-opacity=\"1\"/>\n",
       "<polyline clip-path=\"url(#clip7203)\" style=\"stroke:#000000; stroke-width:4; stroke-opacity:1; fill:none\" points=\"\n",
       "  16556.9,1401.05 16556.9,1401.05 16625.3,1401.05 16556.9,1401.05 \n",
       "  \"/>\n",
       "<polygon clip-path=\"url(#clip7203)\" points=\"\n",
       "16625.3,1401.05 16625.3,1401.05 16693.7,1401.05 16693.7,1401.05 16625.3,1401.05 16625.3,1401.05 \n",
       "  \" fill=\"#009af9\" fill-rule=\"evenodd\" fill-opacity=\"1\"/>\n",
       "<polyline clip-path=\"url(#clip7203)\" style=\"stroke:#000000; stroke-width:4; stroke-opacity:1; fill:none\" points=\"\n",
       "  16625.3,1401.05 16625.3,1401.05 16693.7,1401.05 16625.3,1401.05 \n",
       "  \"/>\n",
       "<polygon clip-path=\"url(#clip7203)\" points=\"\n",
       "16693.7,1401.05 16693.7,1401.05 16762.1,1401.05 16762.1,1401.05 16693.7,1401.05 16693.7,1401.05 \n",
       "  \" fill=\"#009af9\" fill-rule=\"evenodd\" fill-opacity=\"1\"/>\n",
       "<polyline clip-path=\"url(#clip7203)\" style=\"stroke:#000000; stroke-width:4; stroke-opacity:1; fill:none\" points=\"\n",
       "  16693.7,1401.05 16693.7,1401.05 16762.1,1401.05 16693.7,1401.05 \n",
       "  \"/>\n",
       "<polygon clip-path=\"url(#clip7203)\" points=\"\n",
       "16762.1,1401.05 16762.1,1401.05 16830.5,1401.05 16830.5,1401.05 16762.1,1401.05 16762.1,1401.05 \n",
       "  \" fill=\"#009af9\" fill-rule=\"evenodd\" fill-opacity=\"1\"/>\n",
       "<polyline clip-path=\"url(#clip7203)\" style=\"stroke:#000000; stroke-width:4; stroke-opacity:1; fill:none\" points=\"\n",
       "  16762.1,1401.05 16762.1,1401.05 16830.5,1401.05 16762.1,1401.05 \n",
       "  \"/>\n",
       "<polygon clip-path=\"url(#clip7203)\" points=\"\n",
       "16830.5,1401.05 16830.5,1401.05 16899,1401.05 16899,1401.05 16830.5,1401.05 16830.5,1401.05 \n",
       "  \" fill=\"#009af9\" fill-rule=\"evenodd\" fill-opacity=\"1\"/>\n",
       "<polyline clip-path=\"url(#clip7203)\" style=\"stroke:#000000; stroke-width:4; stroke-opacity:1; fill:none\" points=\"\n",
       "  16830.5,1401.05 16830.5,1401.05 16899,1401.05 16830.5,1401.05 \n",
       "  \"/>\n",
       "<polygon clip-path=\"url(#clip7203)\" points=\"\n",
       "16899,1401.05 16899,1401.05 16967.4,1401.05 16967.4,1401.05 16899,1401.05 16899,1401.05 \n",
       "  \" fill=\"#009af9\" fill-rule=\"evenodd\" fill-opacity=\"1\"/>\n",
       "<polyline clip-path=\"url(#clip7203)\" style=\"stroke:#000000; stroke-width:4; stroke-opacity:1; fill:none\" points=\"\n",
       "  16899,1401.05 16899,1401.05 16967.4,1401.05 16899,1401.05 \n",
       "  \"/>\n",
       "<polygon clip-path=\"url(#clip7203)\" points=\"\n",
       "16967.4,1401.05 16967.4,1401.05 17035.8,1401.05 17035.8,1401.05 16967.4,1401.05 16967.4,1401.05 \n",
       "  \" fill=\"#009af9\" fill-rule=\"evenodd\" fill-opacity=\"1\"/>\n",
       "<polyline clip-path=\"url(#clip7203)\" style=\"stroke:#000000; stroke-width:4; stroke-opacity:1; fill:none\" points=\"\n",
       "  16967.4,1401.05 16967.4,1401.05 17035.8,1401.05 16967.4,1401.05 \n",
       "  \"/>\n",
       "<polygon clip-path=\"url(#clip7203)\" points=\"\n",
       "17035.8,1401.05 17035.8,1401.05 17104.2,1401.05 17104.2,1401.05 17035.8,1401.05 17035.8,1401.05 \n",
       "  \" fill=\"#009af9\" fill-rule=\"evenodd\" fill-opacity=\"1\"/>\n",
       "<polyline clip-path=\"url(#clip7203)\" style=\"stroke:#000000; stroke-width:4; stroke-opacity:1; fill:none\" points=\"\n",
       "  17035.8,1401.05 17035.8,1401.05 17104.2,1401.05 17035.8,1401.05 \n",
       "  \"/>\n",
       "<polygon clip-path=\"url(#clip7203)\" points=\"\n",
       "17104.2,1401.05 17104.2,1401.05 17172.6,1401.05 17172.6,1401.05 17104.2,1401.05 17104.2,1401.05 \n",
       "  \" fill=\"#009af9\" fill-rule=\"evenodd\" fill-opacity=\"1\"/>\n",
       "<polyline clip-path=\"url(#clip7203)\" style=\"stroke:#000000; stroke-width:4; stroke-opacity:1; fill:none\" points=\"\n",
       "  17104.2,1401.05 17104.2,1401.05 17172.6,1401.05 17104.2,1401.05 \n",
       "  \"/>\n",
       "<polygon clip-path=\"url(#clip7203)\" points=\"\n",
       "17172.6,1401.05 17172.6,1401.05 17241.1,1401.05 17241.1,1401.05 17172.6,1401.05 17172.6,1401.05 \n",
       "  \" fill=\"#009af9\" fill-rule=\"evenodd\" fill-opacity=\"1\"/>\n",
       "<polyline clip-path=\"url(#clip7203)\" style=\"stroke:#000000; stroke-width:4; stroke-opacity:1; fill:none\" points=\"\n",
       "  17172.6,1401.05 17172.6,1401.05 17241.1,1401.05 17172.6,1401.05 \n",
       "  \"/>\n",
       "<polygon clip-path=\"url(#clip7203)\" points=\"\n",
       "17241.1,1401.05 17241.1,1401.05 17309.5,1401.05 17309.5,1401.05 17241.1,1401.05 17241.1,1401.05 \n",
       "  \" fill=\"#009af9\" fill-rule=\"evenodd\" fill-opacity=\"1\"/>\n",
       "<polyline clip-path=\"url(#clip7203)\" style=\"stroke:#000000; stroke-width:4; stroke-opacity:1; fill:none\" points=\"\n",
       "  17241.1,1401.05 17241.1,1401.05 17309.5,1401.05 17241.1,1401.05 \n",
       "  \"/>\n",
       "<polygon clip-path=\"url(#clip7203)\" points=\"\n",
       "17309.5,1401.05 17309.5,1401.05 17377.9,1401.05 17377.9,1401.05 17309.5,1401.05 17309.5,1401.05 \n",
       "  \" fill=\"#009af9\" fill-rule=\"evenodd\" fill-opacity=\"1\"/>\n",
       "<polyline clip-path=\"url(#clip7203)\" style=\"stroke:#000000; stroke-width:4; stroke-opacity:1; fill:none\" points=\"\n",
       "  17309.5,1401.05 17309.5,1401.05 17377.9,1401.05 17309.5,1401.05 \n",
       "  \"/>\n",
       "<polygon clip-path=\"url(#clip7203)\" points=\"\n",
       "17377.9,1401.05 17377.9,1401.05 17446.3,1401.05 17446.3,1401.05 17377.9,1401.05 17377.9,1401.05 \n",
       "  \" fill=\"#009af9\" fill-rule=\"evenodd\" fill-opacity=\"1\"/>\n",
       "<polyline clip-path=\"url(#clip7203)\" style=\"stroke:#000000; stroke-width:4; stroke-opacity:1; fill:none\" points=\"\n",
       "  17377.9,1401.05 17377.9,1401.05 17446.3,1401.05 17377.9,1401.05 \n",
       "  \"/>\n",
       "<polygon clip-path=\"url(#clip7203)\" points=\"\n",
       "17446.3,1401.05 17446.3,1401.05 17514.7,1401.05 17514.7,1401.05 17446.3,1401.05 17446.3,1401.05 \n",
       "  \" fill=\"#009af9\" fill-rule=\"evenodd\" fill-opacity=\"1\"/>\n",
       "<polyline clip-path=\"url(#clip7203)\" style=\"stroke:#000000; stroke-width:4; stroke-opacity:1; fill:none\" points=\"\n",
       "  17446.3,1401.05 17446.3,1401.05 17514.7,1401.05 17446.3,1401.05 \n",
       "  \"/>\n",
       "<polygon clip-path=\"url(#clip7203)\" points=\"\n",
       "17514.7,1401.05 17514.7,1401.05 17583.1,1401.05 17583.1,1401.05 17514.7,1401.05 17514.7,1401.05 \n",
       "  \" fill=\"#009af9\" fill-rule=\"evenodd\" fill-opacity=\"1\"/>\n",
       "<polyline clip-path=\"url(#clip7203)\" style=\"stroke:#000000; stroke-width:4; stroke-opacity:1; fill:none\" points=\"\n",
       "  17514.7,1401.05 17514.7,1401.05 17583.1,1401.05 17514.7,1401.05 \n",
       "  \"/>\n",
       "<polygon clip-path=\"url(#clip7203)\" points=\"\n",
       "17583.1,1401.05 17583.1,1401.05 17651.6,1401.05 17651.6,1401.05 17583.1,1401.05 17583.1,1401.05 \n",
       "  \" fill=\"#009af9\" fill-rule=\"evenodd\" fill-opacity=\"1\"/>\n",
       "<polyline clip-path=\"url(#clip7203)\" style=\"stroke:#000000; stroke-width:4; stroke-opacity:1; fill:none\" points=\"\n",
       "  17583.1,1401.05 17583.1,1401.05 17651.6,1401.05 17583.1,1401.05 \n",
       "  \"/>\n",
       "<polygon clip-path=\"url(#clip7203)\" points=\"\n",
       "17651.6,1401.05 17651.6,1401.05 17720,1401.05 17720,1401.05 17651.6,1401.05 17651.6,1401.05 \n",
       "  \" fill=\"#009af9\" fill-rule=\"evenodd\" fill-opacity=\"1\"/>\n",
       "<polyline clip-path=\"url(#clip7203)\" style=\"stroke:#000000; stroke-width:4; stroke-opacity:1; fill:none\" points=\"\n",
       "  17651.6,1401.05 17651.6,1401.05 17720,1401.05 17651.6,1401.05 \n",
       "  \"/>\n",
       "<polygon clip-path=\"url(#clip7203)\" points=\"\n",
       "17720,1401.05 17720,1401.05 17788.4,1401.05 17788.4,1401.05 17720,1401.05 17720,1401.05 \n",
       "  \" fill=\"#009af9\" fill-rule=\"evenodd\" fill-opacity=\"1\"/>\n",
       "<polyline clip-path=\"url(#clip7203)\" style=\"stroke:#000000; stroke-width:4; stroke-opacity:1; fill:none\" points=\"\n",
       "  17720,1401.05 17720,1401.05 17788.4,1401.05 17720,1401.05 \n",
       "  \"/>\n",
       "<polygon clip-path=\"url(#clip7203)\" points=\"\n",
       "17788.4,1401.05 17788.4,1401.05 17856.8,1401.05 17856.8,1401.05 17788.4,1401.05 17788.4,1401.05 \n",
       "  \" fill=\"#009af9\" fill-rule=\"evenodd\" fill-opacity=\"1\"/>\n",
       "<polyline clip-path=\"url(#clip7203)\" style=\"stroke:#000000; stroke-width:4; stroke-opacity:1; fill:none\" points=\"\n",
       "  17788.4,1401.05 17788.4,1401.05 17856.8,1401.05 17788.4,1401.05 \n",
       "  \"/>\n",
       "<polygon clip-path=\"url(#clip7203)\" points=\"\n",
       "17856.8,1401.05 17856.8,1401.05 17925.2,1401.05 17925.2,1401.05 17856.8,1401.05 17856.8,1401.05 \n",
       "  \" fill=\"#009af9\" fill-rule=\"evenodd\" fill-opacity=\"1\"/>\n",
       "<polyline clip-path=\"url(#clip7203)\" style=\"stroke:#000000; stroke-width:4; stroke-opacity:1; fill:none\" points=\"\n",
       "  17856.8,1401.05 17856.8,1401.05 17925.2,1401.05 17856.8,1401.05 \n",
       "  \"/>\n",
       "<polygon clip-path=\"url(#clip7203)\" points=\"\n",
       "17925.2,1401.05 17925.2,1401.05 17993.6,1401.05 17993.6,1401.05 17925.2,1401.05 17925.2,1401.05 \n",
       "  \" fill=\"#009af9\" fill-rule=\"evenodd\" fill-opacity=\"1\"/>\n",
       "<polyline clip-path=\"url(#clip7203)\" style=\"stroke:#000000; stroke-width:4; stroke-opacity:1; fill:none\" points=\"\n",
       "  17925.2,1401.05 17925.2,1401.05 17993.6,1401.05 17925.2,1401.05 \n",
       "  \"/>\n",
       "<polygon clip-path=\"url(#clip7203)\" points=\"\n",
       "17993.6,1401.05 17993.6,1401.05 18062.1,1401.05 18062.1,1401.05 17993.6,1401.05 17993.6,1401.05 \n",
       "  \" fill=\"#009af9\" fill-rule=\"evenodd\" fill-opacity=\"1\"/>\n",
       "<polyline clip-path=\"url(#clip7203)\" style=\"stroke:#000000; stroke-width:4; stroke-opacity:1; fill:none\" points=\"\n",
       "  17993.6,1401.05 17993.6,1401.05 18062.1,1401.05 17993.6,1401.05 \n",
       "  \"/>\n",
       "<polygon clip-path=\"url(#clip7203)\" points=\"\n",
       "18062.1,1401.05 18062.1,1401.05 18130.5,1401.05 18130.5,1401.05 18062.1,1401.05 18062.1,1401.05 \n",
       "  \" fill=\"#009af9\" fill-rule=\"evenodd\" fill-opacity=\"1\"/>\n",
       "<polyline clip-path=\"url(#clip7203)\" style=\"stroke:#000000; stroke-width:4; stroke-opacity:1; fill:none\" points=\"\n",
       "  18062.1,1401.05 18062.1,1401.05 18130.5,1401.05 18062.1,1401.05 \n",
       "  \"/>\n",
       "<polygon clip-path=\"url(#clip7203)\" points=\"\n",
       "18130.5,1401.05 18130.5,1401.05 18198.9,1401.05 18198.9,1401.05 18130.5,1401.05 18130.5,1401.05 \n",
       "  \" fill=\"#009af9\" fill-rule=\"evenodd\" fill-opacity=\"1\"/>\n",
       "<polyline clip-path=\"url(#clip7203)\" style=\"stroke:#000000; stroke-width:4; stroke-opacity:1; fill:none\" points=\"\n",
       "  18130.5,1401.05 18130.5,1401.05 18198.9,1401.05 18130.5,1401.05 \n",
       "  \"/>\n",
       "<polygon clip-path=\"url(#clip7203)\" points=\"\n",
       "18198.9,1401.05 18198.9,1401.05 18267.3,1401.05 18267.3,1401.05 18198.9,1401.05 18198.9,1401.05 \n",
       "  \" fill=\"#009af9\" fill-rule=\"evenodd\" fill-opacity=\"1\"/>\n",
       "<polyline clip-path=\"url(#clip7203)\" style=\"stroke:#000000; stroke-width:4; stroke-opacity:1; fill:none\" points=\"\n",
       "  18198.9,1401.05 18198.9,1401.05 18267.3,1401.05 18198.9,1401.05 \n",
       "  \"/>\n",
       "<polygon clip-path=\"url(#clip7203)\" points=\"\n",
       "18267.3,1401.05 18267.3,1401.05 18335.7,1401.05 18335.7,1401.05 18267.3,1401.05 18267.3,1401.05 \n",
       "  \" fill=\"#009af9\" fill-rule=\"evenodd\" fill-opacity=\"1\"/>\n",
       "<polyline clip-path=\"url(#clip7203)\" style=\"stroke:#000000; stroke-width:4; stroke-opacity:1; fill:none\" points=\"\n",
       "  18267.3,1401.05 18267.3,1401.05 18335.7,1401.05 18267.3,1401.05 \n",
       "  \"/>\n",
       "<polygon clip-path=\"url(#clip7203)\" points=\"\n",
       "18335.7,1401.05 18335.7,1401.05 18404.2,1401.05 18404.2,1401.05 18335.7,1401.05 18335.7,1401.05 \n",
       "  \" fill=\"#009af9\" fill-rule=\"evenodd\" fill-opacity=\"1\"/>\n",
       "<polyline clip-path=\"url(#clip7203)\" style=\"stroke:#000000; stroke-width:4; stroke-opacity:1; fill:none\" points=\"\n",
       "  18335.7,1401.05 18335.7,1401.05 18404.2,1401.05 18335.7,1401.05 \n",
       "  \"/>\n",
       "<polygon clip-path=\"url(#clip7203)\" points=\"\n",
       "18404.2,1401.05 18404.2,1401.05 18472.6,1401.05 18472.6,1401.05 18404.2,1401.05 18404.2,1401.05 \n",
       "  \" fill=\"#009af9\" fill-rule=\"evenodd\" fill-opacity=\"1\"/>\n",
       "<polyline clip-path=\"url(#clip7203)\" style=\"stroke:#000000; stroke-width:4; stroke-opacity:1; fill:none\" points=\"\n",
       "  18404.2,1401.05 18404.2,1401.05 18472.6,1401.05 18404.2,1401.05 \n",
       "  \"/>\n",
       "<polygon clip-path=\"url(#clip7203)\" points=\"\n",
       "18472.6,1401.05 18472.6,1401.05 18541,1401.05 18541,1401.05 18472.6,1401.05 18472.6,1401.05 \n",
       "  \" fill=\"#009af9\" fill-rule=\"evenodd\" fill-opacity=\"1\"/>\n",
       "<polyline clip-path=\"url(#clip7203)\" style=\"stroke:#000000; stroke-width:4; stroke-opacity:1; fill:none\" points=\"\n",
       "  18472.6,1401.05 18472.6,1401.05 18541,1401.05 18472.6,1401.05 \n",
       "  \"/>\n",
       "<polygon clip-path=\"url(#clip7203)\" points=\"\n",
       "18541,1401.05 18541,1401.05 18609.4,1401.05 18609.4,1401.05 18541,1401.05 18541,1401.05 \n",
       "  \" fill=\"#009af9\" fill-rule=\"evenodd\" fill-opacity=\"1\"/>\n",
       "<polyline clip-path=\"url(#clip7203)\" style=\"stroke:#000000; stroke-width:4; stroke-opacity:1; fill:none\" points=\"\n",
       "  18541,1401.05 18541,1401.05 18609.4,1401.05 18541,1401.05 \n",
       "  \"/>\n",
       "<polygon clip-path=\"url(#clip7203)\" points=\"\n",
       "18609.4,1401.05 18609.4,1401.05 18677.8,1401.05 18677.8,1401.05 18609.4,1401.05 18609.4,1401.05 \n",
       "  \" fill=\"#009af9\" fill-rule=\"evenodd\" fill-opacity=\"1\"/>\n",
       "<polyline clip-path=\"url(#clip7203)\" style=\"stroke:#000000; stroke-width:4; stroke-opacity:1; fill:none\" points=\"\n",
       "  18609.4,1401.05 18609.4,1401.05 18677.8,1401.05 18609.4,1401.05 \n",
       "  \"/>\n",
       "<polygon clip-path=\"url(#clip7203)\" points=\"\n",
       "18677.8,1401.05 18677.8,1401.05 18746.2,1401.05 18746.2,1401.05 18677.8,1401.05 18677.8,1401.05 \n",
       "  \" fill=\"#009af9\" fill-rule=\"evenodd\" fill-opacity=\"1\"/>\n",
       "<polyline clip-path=\"url(#clip7203)\" style=\"stroke:#000000; stroke-width:4; stroke-opacity:1; fill:none\" points=\"\n",
       "  18677.8,1401.05 18677.8,1401.05 18746.2,1401.05 18677.8,1401.05 \n",
       "  \"/>\n",
       "<polygon clip-path=\"url(#clip7203)\" points=\"\n",
       "18746.2,1401.05 18746.2,1401.05 18814.7,1401.05 18814.7,1401.05 18746.2,1401.05 18746.2,1401.05 \n",
       "  \" fill=\"#009af9\" fill-rule=\"evenodd\" fill-opacity=\"1\"/>\n",
       "<polyline clip-path=\"url(#clip7203)\" style=\"stroke:#000000; stroke-width:4; stroke-opacity:1; fill:none\" points=\"\n",
       "  18746.2,1401.05 18746.2,1401.05 18814.7,1401.05 18746.2,1401.05 \n",
       "  \"/>\n",
       "<polygon clip-path=\"url(#clip7203)\" points=\"\n",
       "18814.7,1401.05 18814.7,1401.05 18883.1,1401.05 18883.1,1401.05 18814.7,1401.05 18814.7,1401.05 \n",
       "  \" fill=\"#009af9\" fill-rule=\"evenodd\" fill-opacity=\"1\"/>\n",
       "<polyline clip-path=\"url(#clip7203)\" style=\"stroke:#000000; stroke-width:4; stroke-opacity:1; fill:none\" points=\"\n",
       "  18814.7,1401.05 18814.7,1401.05 18883.1,1401.05 18814.7,1401.05 \n",
       "  \"/>\n",
       "<polygon clip-path=\"url(#clip7203)\" points=\"\n",
       "18883.1,1401.05 18883.1,1401.05 18951.5,1401.05 18951.5,1401.05 18883.1,1401.05 18883.1,1401.05 \n",
       "  \" fill=\"#009af9\" fill-rule=\"evenodd\" fill-opacity=\"1\"/>\n",
       "<polyline clip-path=\"url(#clip7203)\" style=\"stroke:#000000; stroke-width:4; stroke-opacity:1; fill:none\" points=\"\n",
       "  18883.1,1401.05 18883.1,1401.05 18951.5,1401.05 18883.1,1401.05 \n",
       "  \"/>\n",
       "<polygon clip-path=\"url(#clip7203)\" points=\"\n",
       "18951.5,1401.05 18951.5,1401.05 19019.9,1401.05 19019.9,1401.05 18951.5,1401.05 18951.5,1401.05 \n",
       "  \" fill=\"#009af9\" fill-rule=\"evenodd\" fill-opacity=\"1\"/>\n",
       "<polyline clip-path=\"url(#clip7203)\" style=\"stroke:#000000; stroke-width:4; stroke-opacity:1; fill:none\" points=\"\n",
       "  18951.5,1401.05 18951.5,1401.05 19019.9,1401.05 18951.5,1401.05 \n",
       "  \"/>\n",
       "<polygon clip-path=\"url(#clip7203)\" points=\"\n",
       "19019.9,1401.05 19019.9,1401.05 19088.3,1401.05 19088.3,1401.05 19019.9,1401.05 19019.9,1401.05 \n",
       "  \" fill=\"#009af9\" fill-rule=\"evenodd\" fill-opacity=\"1\"/>\n",
       "<polyline clip-path=\"url(#clip7203)\" style=\"stroke:#000000; stroke-width:4; stroke-opacity:1; fill:none\" points=\"\n",
       "  19019.9,1401.05 19019.9,1401.05 19088.3,1401.05 19019.9,1401.05 \n",
       "  \"/>\n",
       "<polygon clip-path=\"url(#clip7203)\" points=\"\n",
       "19088.3,1401.05 19088.3,1401.05 19156.8,1401.05 19156.8,1401.05 19088.3,1401.05 19088.3,1401.05 \n",
       "  \" fill=\"#009af9\" fill-rule=\"evenodd\" fill-opacity=\"1\"/>\n",
       "<polyline clip-path=\"url(#clip7203)\" style=\"stroke:#000000; stroke-width:4; stroke-opacity:1; fill:none\" points=\"\n",
       "  19088.3,1401.05 19088.3,1401.05 19156.8,1401.05 19088.3,1401.05 \n",
       "  \"/>\n",
       "<polygon clip-path=\"url(#clip7203)\" points=\"\n",
       "19156.8,1401.05 19156.8,1401.05 19225.2,1401.05 19225.2,1401.05 19156.8,1401.05 19156.8,1401.05 \n",
       "  \" fill=\"#009af9\" fill-rule=\"evenodd\" fill-opacity=\"1\"/>\n",
       "<polyline clip-path=\"url(#clip7203)\" style=\"stroke:#000000; stroke-width:4; stroke-opacity:1; fill:none\" points=\"\n",
       "  19156.8,1401.05 19156.8,1401.05 19225.2,1401.05 19156.8,1401.05 \n",
       "  \"/>\n",
       "<polygon clip-path=\"url(#clip7203)\" points=\"\n",
       "19225.2,1401.05 19225.2,1401.05 19293.6,1401.05 19293.6,1401.05 19225.2,1401.05 19225.2,1401.05 \n",
       "  \" fill=\"#009af9\" fill-rule=\"evenodd\" fill-opacity=\"1\"/>\n",
       "<polyline clip-path=\"url(#clip7203)\" style=\"stroke:#000000; stroke-width:4; stroke-opacity:1; fill:none\" points=\"\n",
       "  19225.2,1401.05 19225.2,1401.05 19293.6,1401.05 19225.2,1401.05 \n",
       "  \"/>\n",
       "<polygon clip-path=\"url(#clip7203)\" points=\"\n",
       "19293.6,1401.05 19293.6,1401.05 19362,1401.05 19362,1401.05 19293.6,1401.05 19293.6,1401.05 \n",
       "  \" fill=\"#009af9\" fill-rule=\"evenodd\" fill-opacity=\"1\"/>\n",
       "<polyline clip-path=\"url(#clip7203)\" style=\"stroke:#000000; stroke-width:4; stroke-opacity:1; fill:none\" points=\"\n",
       "  19293.6,1401.05 19293.6,1401.05 19362,1401.05 19293.6,1401.05 \n",
       "  \"/>\n",
       "<polygon clip-path=\"url(#clip7203)\" points=\"\n",
       "19362,1401.05 19362,1401.05 19430.4,1401.05 19430.4,1401.05 19362,1401.05 19362,1401.05 \n",
       "  \" fill=\"#009af9\" fill-rule=\"evenodd\" fill-opacity=\"1\"/>\n",
       "<polyline clip-path=\"url(#clip7203)\" style=\"stroke:#000000; stroke-width:4; stroke-opacity:1; fill:none\" points=\"\n",
       "  19362,1401.05 19362,1401.05 19430.4,1401.05 19362,1401.05 \n",
       "  \"/>\n",
       "<polygon clip-path=\"url(#clip7203)\" points=\"\n",
       "19430.4,1401.05 19430.4,1401.05 19498.8,1401.05 19498.8,1401.05 19430.4,1401.05 19430.4,1401.05 \n",
       "  \" fill=\"#009af9\" fill-rule=\"evenodd\" fill-opacity=\"1\"/>\n",
       "<polyline clip-path=\"url(#clip7203)\" style=\"stroke:#000000; stroke-width:4; stroke-opacity:1; fill:none\" points=\"\n",
       "  19430.4,1401.05 19430.4,1401.05 19498.8,1401.05 19430.4,1401.05 \n",
       "  \"/>\n",
       "<polygon clip-path=\"url(#clip7203)\" points=\"\n",
       "19498.8,1369.76 19498.8,1401.05 19567.3,1401.05 19567.3,1369.76 19498.8,1369.76 19498.8,1369.76 \n",
       "  \" fill=\"#009af9\" fill-rule=\"evenodd\" fill-opacity=\"1\"/>\n",
       "<polyline clip-path=\"url(#clip7203)\" style=\"stroke:#000000; stroke-width:4; stroke-opacity:1; fill:none\" points=\"\n",
       "  19498.8,1369.76 19498.8,1401.05 19567.3,1401.05 19567.3,1369.76 19498.8,1369.76 \n",
       "  \"/>\n",
       "<polygon clip-path=\"url(#clip7203)\" points=\"\n",
       "19567.3,1401.05 19567.3,1401.05 19635.7,1401.05 19635.7,1401.05 19567.3,1401.05 19567.3,1401.05 \n",
       "  \" fill=\"#009af9\" fill-rule=\"evenodd\" fill-opacity=\"1\"/>\n",
       "<polyline clip-path=\"url(#clip7203)\" style=\"stroke:#000000; stroke-width:4; stroke-opacity:1; fill:none\" points=\"\n",
       "  19567.3,1401.05 19567.3,1401.05 19635.7,1401.05 19567.3,1401.05 \n",
       "  \"/>\n",
       "<polygon clip-path=\"url(#clip7203)\" points=\"\n",
       "19635.7,1401.05 19635.7,1401.05 19704.1,1401.05 19704.1,1401.05 19635.7,1401.05 19635.7,1401.05 \n",
       "  \" fill=\"#009af9\" fill-rule=\"evenodd\" fill-opacity=\"1\"/>\n",
       "<polyline clip-path=\"url(#clip7203)\" style=\"stroke:#000000; stroke-width:4; stroke-opacity:1; fill:none\" points=\"\n",
       "  19635.7,1401.05 19635.7,1401.05 19704.1,1401.05 19635.7,1401.05 \n",
       "  \"/>\n",
       "<polygon clip-path=\"url(#clip7203)\" points=\"\n",
       "19704.1,1401.05 19704.1,1401.05 19772.5,1401.05 19772.5,1401.05 19704.1,1401.05 19704.1,1401.05 \n",
       "  \" fill=\"#009af9\" fill-rule=\"evenodd\" fill-opacity=\"1\"/>\n",
       "<polyline clip-path=\"url(#clip7203)\" style=\"stroke:#000000; stroke-width:4; stroke-opacity:1; fill:none\" points=\"\n",
       "  19704.1,1401.05 19704.1,1401.05 19772.5,1401.05 19704.1,1401.05 \n",
       "  \"/>\n",
       "<polygon clip-path=\"url(#clip7203)\" points=\"\n",
       "19772.5,1401.05 19772.5,1401.05 19840.9,1401.05 19840.9,1401.05 19772.5,1401.05 19772.5,1401.05 \n",
       "  \" fill=\"#009af9\" fill-rule=\"evenodd\" fill-opacity=\"1\"/>\n",
       "<polyline clip-path=\"url(#clip7203)\" style=\"stroke:#000000; stroke-width:4; stroke-opacity:1; fill:none\" points=\"\n",
       "  19772.5,1401.05 19772.5,1401.05 19840.9,1401.05 19772.5,1401.05 \n",
       "  \"/>\n",
       "<polygon clip-path=\"url(#clip7203)\" points=\"\n",
       "19840.9,1401.05 19840.9,1401.05 19909.3,1401.05 19909.3,1401.05 19840.9,1401.05 19840.9,1401.05 \n",
       "  \" fill=\"#009af9\" fill-rule=\"evenodd\" fill-opacity=\"1\"/>\n",
       "<polyline clip-path=\"url(#clip7203)\" style=\"stroke:#000000; stroke-width:4; stroke-opacity:1; fill:none\" points=\"\n",
       "  19840.9,1401.05 19840.9,1401.05 19909.3,1401.05 19840.9,1401.05 \n",
       "  \"/>\n",
       "<polygon clip-path=\"url(#clip7203)\" points=\"\n",
       "19909.3,1401.05 19909.3,1401.05 19977.8,1401.05 19977.8,1401.05 19909.3,1401.05 19909.3,1401.05 \n",
       "  \" fill=\"#009af9\" fill-rule=\"evenodd\" fill-opacity=\"1\"/>\n",
       "<polyline clip-path=\"url(#clip7203)\" style=\"stroke:#000000; stroke-width:4; stroke-opacity:1; fill:none\" points=\"\n",
       "  19909.3,1401.05 19909.3,1401.05 19977.8,1401.05 19909.3,1401.05 \n",
       "  \"/>\n",
       "<polygon clip-path=\"url(#clip7203)\" points=\"\n",
       "19977.8,1401.05 19977.8,1401.05 20046.2,1401.05 20046.2,1401.05 19977.8,1401.05 19977.8,1401.05 \n",
       "  \" fill=\"#009af9\" fill-rule=\"evenodd\" fill-opacity=\"1\"/>\n",
       "<polyline clip-path=\"url(#clip7203)\" style=\"stroke:#000000; stroke-width:4; stroke-opacity:1; fill:none\" points=\"\n",
       "  19977.8,1401.05 19977.8,1401.05 20046.2,1401.05 19977.8,1401.05 \n",
       "  \"/>\n",
       "<polygon clip-path=\"url(#clip7203)\" points=\"\n",
       "20046.2,1401.05 20046.2,1401.05 20114.6,1401.05 20114.6,1401.05 20046.2,1401.05 20046.2,1401.05 \n",
       "  \" fill=\"#009af9\" fill-rule=\"evenodd\" fill-opacity=\"1\"/>\n",
       "<polyline clip-path=\"url(#clip7203)\" style=\"stroke:#000000; stroke-width:4; stroke-opacity:1; fill:none\" points=\"\n",
       "  20046.2,1401.05 20046.2,1401.05 20114.6,1401.05 20046.2,1401.05 \n",
       "  \"/>\n",
       "<polygon clip-path=\"url(#clip7203)\" points=\"\n",
       "20114.6,1401.05 20114.6,1401.05 20183,1401.05 20183,1401.05 20114.6,1401.05 20114.6,1401.05 \n",
       "  \" fill=\"#009af9\" fill-rule=\"evenodd\" fill-opacity=\"1\"/>\n",
       "<polyline clip-path=\"url(#clip7203)\" style=\"stroke:#000000; stroke-width:4; stroke-opacity:1; fill:none\" points=\"\n",
       "  20114.6,1401.05 20114.6,1401.05 20183,1401.05 20114.6,1401.05 \n",
       "  \"/>\n",
       "<polygon clip-path=\"url(#clip7203)\" points=\"\n",
       "20183,1401.05 20183,1401.05 20251.4,1401.05 20251.4,1401.05 20183,1401.05 20183,1401.05 \n",
       "  \" fill=\"#009af9\" fill-rule=\"evenodd\" fill-opacity=\"1\"/>\n",
       "<polyline clip-path=\"url(#clip7203)\" style=\"stroke:#000000; stroke-width:4; stroke-opacity:1; fill:none\" points=\"\n",
       "  20183,1401.05 20183,1401.05 20251.4,1401.05 20183,1401.05 \n",
       "  \"/>\n",
       "<polygon clip-path=\"url(#clip7203)\" points=\"\n",
       "20251.4,1401.05 20251.4,1401.05 20319.9,1401.05 20319.9,1401.05 20251.4,1401.05 20251.4,1401.05 \n",
       "  \" fill=\"#009af9\" fill-rule=\"evenodd\" fill-opacity=\"1\"/>\n",
       "<polyline clip-path=\"url(#clip7203)\" style=\"stroke:#000000; stroke-width:4; stroke-opacity:1; fill:none\" points=\"\n",
       "  20251.4,1401.05 20251.4,1401.05 20319.9,1401.05 20251.4,1401.05 \n",
       "  \"/>\n",
       "<polygon clip-path=\"url(#clip7203)\" points=\"\n",
       "20319.9,1401.05 20319.9,1401.05 20388.3,1401.05 20388.3,1401.05 20319.9,1401.05 20319.9,1401.05 \n",
       "  \" fill=\"#009af9\" fill-rule=\"evenodd\" fill-opacity=\"1\"/>\n",
       "<polyline clip-path=\"url(#clip7203)\" style=\"stroke:#000000; stroke-width:4; stroke-opacity:1; fill:none\" points=\"\n",
       "  20319.9,1401.05 20319.9,1401.05 20388.3,1401.05 20319.9,1401.05 \n",
       "  \"/>\n",
       "<polygon clip-path=\"url(#clip7203)\" points=\"\n",
       "20388.3,1401.05 20388.3,1401.05 20456.7,1401.05 20456.7,1401.05 20388.3,1401.05 20388.3,1401.05 \n",
       "  \" fill=\"#009af9\" fill-rule=\"evenodd\" fill-opacity=\"1\"/>\n",
       "<polyline clip-path=\"url(#clip7203)\" style=\"stroke:#000000; stroke-width:4; stroke-opacity:1; fill:none\" points=\"\n",
       "  20388.3,1401.05 20388.3,1401.05 20456.7,1401.05 20388.3,1401.05 \n",
       "  \"/>\n",
       "<polygon clip-path=\"url(#clip7203)\" points=\"\n",
       "20456.7,1401.05 20456.7,1401.05 20525.1,1401.05 20525.1,1401.05 20456.7,1401.05 20456.7,1401.05 \n",
       "  \" fill=\"#009af9\" fill-rule=\"evenodd\" fill-opacity=\"1\"/>\n",
       "<polyline clip-path=\"url(#clip7203)\" style=\"stroke:#000000; stroke-width:4; stroke-opacity:1; fill:none\" points=\"\n",
       "  20456.7,1401.05 20456.7,1401.05 20525.1,1401.05 20456.7,1401.05 \n",
       "  \"/>\n",
       "<polygon clip-path=\"url(#clip7203)\" points=\"\n",
       "20525.1,1401.05 20525.1,1401.05 20593.5,1401.05 20593.5,1401.05 20525.1,1401.05 20525.1,1401.05 \n",
       "  \" fill=\"#009af9\" fill-rule=\"evenodd\" fill-opacity=\"1\"/>\n",
       "<polyline clip-path=\"url(#clip7203)\" style=\"stroke:#000000; stroke-width:4; stroke-opacity:1; fill:none\" points=\"\n",
       "  20525.1,1401.05 20525.1,1401.05 20593.5,1401.05 20525.1,1401.05 \n",
       "  \"/>\n",
       "<polygon clip-path=\"url(#clip7203)\" points=\"\n",
       "20593.5,1401.05 20593.5,1401.05 20661.9,1401.05 20661.9,1401.05 20593.5,1401.05 20593.5,1401.05 \n",
       "  \" fill=\"#009af9\" fill-rule=\"evenodd\" fill-opacity=\"1\"/>\n",
       "<polyline clip-path=\"url(#clip7203)\" style=\"stroke:#000000; stroke-width:4; stroke-opacity:1; fill:none\" points=\"\n",
       "  20593.5,1401.05 20593.5,1401.05 20661.9,1401.05 20593.5,1401.05 \n",
       "  \"/>\n",
       "<polygon clip-path=\"url(#clip7203)\" points=\"\n",
       "20661.9,1401.05 20661.9,1401.05 20730.4,1401.05 20730.4,1401.05 20661.9,1401.05 20661.9,1401.05 \n",
       "  \" fill=\"#009af9\" fill-rule=\"evenodd\" fill-opacity=\"1\"/>\n",
       "<polyline clip-path=\"url(#clip7203)\" style=\"stroke:#000000; stroke-width:4; stroke-opacity:1; fill:none\" points=\"\n",
       "  20661.9,1401.05 20661.9,1401.05 20730.4,1401.05 20661.9,1401.05 \n",
       "  \"/>\n",
       "<polygon clip-path=\"url(#clip7203)\" points=\"\n",
       "20730.4,1401.05 20730.4,1401.05 20798.8,1401.05 20798.8,1401.05 20730.4,1401.05 20730.4,1401.05 \n",
       "  \" fill=\"#009af9\" fill-rule=\"evenodd\" fill-opacity=\"1\"/>\n",
       "<polyline clip-path=\"url(#clip7203)\" style=\"stroke:#000000; stroke-width:4; stroke-opacity:1; fill:none\" points=\"\n",
       "  20730.4,1401.05 20730.4,1401.05 20798.8,1401.05 20730.4,1401.05 \n",
       "  \"/>\n",
       "<polygon clip-path=\"url(#clip7203)\" points=\"\n",
       "20798.8,1401.05 20798.8,1401.05 20867.2,1401.05 20867.2,1401.05 20798.8,1401.05 20798.8,1401.05 \n",
       "  \" fill=\"#009af9\" fill-rule=\"evenodd\" fill-opacity=\"1\"/>\n",
       "<polyline clip-path=\"url(#clip7203)\" style=\"stroke:#000000; stroke-width:4; stroke-opacity:1; fill:none\" points=\"\n",
       "  20798.8,1401.05 20798.8,1401.05 20867.2,1401.05 20798.8,1401.05 \n",
       "  \"/>\n",
       "<polygon clip-path=\"url(#clip7203)\" points=\"\n",
       "20867.2,1401.05 20867.2,1401.05 20935.6,1401.05 20935.6,1401.05 20867.2,1401.05 20867.2,1401.05 \n",
       "  \" fill=\"#009af9\" fill-rule=\"evenodd\" fill-opacity=\"1\"/>\n",
       "<polyline clip-path=\"url(#clip7203)\" style=\"stroke:#000000; stroke-width:4; stroke-opacity:1; fill:none\" points=\"\n",
       "  20867.2,1401.05 20867.2,1401.05 20935.6,1401.05 20867.2,1401.05 \n",
       "  \"/>\n",
       "<polygon clip-path=\"url(#clip7203)\" points=\"\n",
       "20935.6,1401.05 20935.6,1401.05 21004,1401.05 21004,1401.05 20935.6,1401.05 20935.6,1401.05 \n",
       "  \" fill=\"#009af9\" fill-rule=\"evenodd\" fill-opacity=\"1\"/>\n",
       "<polyline clip-path=\"url(#clip7203)\" style=\"stroke:#000000; stroke-width:4; stroke-opacity:1; fill:none\" points=\"\n",
       "  20935.6,1401.05 20935.6,1401.05 21004,1401.05 20935.6,1401.05 \n",
       "  \"/>\n",
       "<polygon clip-path=\"url(#clip7203)\" points=\"\n",
       "21004,1401.05 21004,1401.05 21072.4,1401.05 21072.4,1401.05 21004,1401.05 21004,1401.05 \n",
       "  \" fill=\"#009af9\" fill-rule=\"evenodd\" fill-opacity=\"1\"/>\n",
       "<polyline clip-path=\"url(#clip7203)\" style=\"stroke:#000000; stroke-width:4; stroke-opacity:1; fill:none\" points=\"\n",
       "  21004,1401.05 21004,1401.05 21072.4,1401.05 21004,1401.05 \n",
       "  \"/>\n",
       "<polygon clip-path=\"url(#clip7203)\" points=\"\n",
       "21072.4,1401.05 21072.4,1401.05 21140.9,1401.05 21140.9,1401.05 21072.4,1401.05 21072.4,1401.05 \n",
       "  \" fill=\"#009af9\" fill-rule=\"evenodd\" fill-opacity=\"1\"/>\n",
       "<polyline clip-path=\"url(#clip7203)\" style=\"stroke:#000000; stroke-width:4; stroke-opacity:1; fill:none\" points=\"\n",
       "  21072.4,1401.05 21072.4,1401.05 21140.9,1401.05 21072.4,1401.05 \n",
       "  \"/>\n",
       "<polygon clip-path=\"url(#clip7203)\" points=\"\n",
       "21140.9,1401.05 21140.9,1401.05 21209.3,1401.05 21209.3,1401.05 21140.9,1401.05 21140.9,1401.05 \n",
       "  \" fill=\"#009af9\" fill-rule=\"evenodd\" fill-opacity=\"1\"/>\n",
       "<polyline clip-path=\"url(#clip7203)\" style=\"stroke:#000000; stroke-width:4; stroke-opacity:1; fill:none\" points=\"\n",
       "  21140.9,1401.05 21140.9,1401.05 21209.3,1401.05 21140.9,1401.05 \n",
       "  \"/>\n",
       "<polygon clip-path=\"url(#clip7203)\" points=\"\n",
       "21209.3,1401.05 21209.3,1401.05 21277.7,1401.05 21277.7,1401.05 21209.3,1401.05 21209.3,1401.05 \n",
       "  \" fill=\"#009af9\" fill-rule=\"evenodd\" fill-opacity=\"1\"/>\n",
       "<polyline clip-path=\"url(#clip7203)\" style=\"stroke:#000000; stroke-width:4; stroke-opacity:1; fill:none\" points=\"\n",
       "  21209.3,1401.05 21209.3,1401.05 21277.7,1401.05 21209.3,1401.05 \n",
       "  \"/>\n",
       "<polygon clip-path=\"url(#clip7203)\" points=\"\n",
       "21277.7,1401.05 21277.7,1401.05 21346.1,1401.05 21346.1,1401.05 21277.7,1401.05 21277.7,1401.05 \n",
       "  \" fill=\"#009af9\" fill-rule=\"evenodd\" fill-opacity=\"1\"/>\n",
       "<polyline clip-path=\"url(#clip7203)\" style=\"stroke:#000000; stroke-width:4; stroke-opacity:1; fill:none\" points=\"\n",
       "  21277.7,1401.05 21277.7,1401.05 21346.1,1401.05 21277.7,1401.05 \n",
       "  \"/>\n",
       "<polygon clip-path=\"url(#clip7203)\" points=\"\n",
       "21346.1,1401.05 21346.1,1401.05 21414.5,1401.05 21414.5,1401.05 21346.1,1401.05 21346.1,1401.05 \n",
       "  \" fill=\"#009af9\" fill-rule=\"evenodd\" fill-opacity=\"1\"/>\n",
       "<polyline clip-path=\"url(#clip7203)\" style=\"stroke:#000000; stroke-width:4; stroke-opacity:1; fill:none\" points=\"\n",
       "  21346.1,1401.05 21346.1,1401.05 21414.5,1401.05 21346.1,1401.05 \n",
       "  \"/>\n",
       "<polygon clip-path=\"url(#clip7203)\" points=\"\n",
       "21414.5,1401.05 21414.5,1401.05 21483,1401.05 21483,1401.05 21414.5,1401.05 21414.5,1401.05 \n",
       "  \" fill=\"#009af9\" fill-rule=\"evenodd\" fill-opacity=\"1\"/>\n",
       "<polyline clip-path=\"url(#clip7203)\" style=\"stroke:#000000; stroke-width:4; stroke-opacity:1; fill:none\" points=\"\n",
       "  21414.5,1401.05 21414.5,1401.05 21483,1401.05 21414.5,1401.05 \n",
       "  \"/>\n",
       "<polygon clip-path=\"url(#clip7203)\" points=\"\n",
       "21483,1401.05 21483,1401.05 21551.4,1401.05 21551.4,1401.05 21483,1401.05 21483,1401.05 \n",
       "  \" fill=\"#009af9\" fill-rule=\"evenodd\" fill-opacity=\"1\"/>\n",
       "<polyline clip-path=\"url(#clip7203)\" style=\"stroke:#000000; stroke-width:4; stroke-opacity:1; fill:none\" points=\"\n",
       "  21483,1401.05 21483,1401.05 21551.4,1401.05 21483,1401.05 \n",
       "  \"/>\n",
       "<polygon clip-path=\"url(#clip7203)\" points=\"\n",
       "21551.4,1401.05 21551.4,1401.05 21619.8,1401.05 21619.8,1401.05 21551.4,1401.05 21551.4,1401.05 \n",
       "  \" fill=\"#009af9\" fill-rule=\"evenodd\" fill-opacity=\"1\"/>\n",
       "<polyline clip-path=\"url(#clip7203)\" style=\"stroke:#000000; stroke-width:4; stroke-opacity:1; fill:none\" points=\"\n",
       "  21551.4,1401.05 21551.4,1401.05 21619.8,1401.05 21551.4,1401.05 \n",
       "  \"/>\n",
       "<polygon clip-path=\"url(#clip7203)\" points=\"\n",
       "21619.8,1401.05 21619.8,1401.05 21688.2,1401.05 21688.2,1401.05 21619.8,1401.05 21619.8,1401.05 \n",
       "  \" fill=\"#009af9\" fill-rule=\"evenodd\" fill-opacity=\"1\"/>\n",
       "<polyline clip-path=\"url(#clip7203)\" style=\"stroke:#000000; stroke-width:4; stroke-opacity:1; fill:none\" points=\"\n",
       "  21619.8,1401.05 21619.8,1401.05 21688.2,1401.05 21619.8,1401.05 \n",
       "  \"/>\n",
       "<polygon clip-path=\"url(#clip7203)\" points=\"\n",
       "21688.2,1401.05 21688.2,1401.05 21756.6,1401.05 21756.6,1401.05 21688.2,1401.05 21688.2,1401.05 \n",
       "  \" fill=\"#009af9\" fill-rule=\"evenodd\" fill-opacity=\"1\"/>\n",
       "<polyline clip-path=\"url(#clip7203)\" style=\"stroke:#000000; stroke-width:4; stroke-opacity:1; fill:none\" points=\"\n",
       "  21688.2,1401.05 21688.2,1401.05 21756.6,1401.05 21688.2,1401.05 \n",
       "  \"/>\n",
       "<polygon clip-path=\"url(#clip7203)\" points=\"\n",
       "21756.6,1401.05 21756.6,1401.05 21825,1401.05 21825,1401.05 21756.6,1401.05 21756.6,1401.05 \n",
       "  \" fill=\"#009af9\" fill-rule=\"evenodd\" fill-opacity=\"1\"/>\n",
       "<polyline clip-path=\"url(#clip7203)\" style=\"stroke:#000000; stroke-width:4; stroke-opacity:1; fill:none\" points=\"\n",
       "  21756.6,1401.05 21756.6,1401.05 21825,1401.05 21756.6,1401.05 \n",
       "  \"/>\n",
       "<polygon clip-path=\"url(#clip7203)\" points=\"\n",
       "21825,1401.05 21825,1401.05 21893.5,1401.05 21893.5,1401.05 21825,1401.05 21825,1401.05 \n",
       "  \" fill=\"#009af9\" fill-rule=\"evenodd\" fill-opacity=\"1\"/>\n",
       "<polyline clip-path=\"url(#clip7203)\" style=\"stroke:#000000; stroke-width:4; stroke-opacity:1; fill:none\" points=\"\n",
       "  21825,1401.05 21825,1401.05 21893.5,1401.05 21825,1401.05 \n",
       "  \"/>\n",
       "<polygon clip-path=\"url(#clip7203)\" points=\"\n",
       "21893.5,1401.05 21893.5,1401.05 21961.9,1401.05 21961.9,1401.05 21893.5,1401.05 21893.5,1401.05 \n",
       "  \" fill=\"#009af9\" fill-rule=\"evenodd\" fill-opacity=\"1\"/>\n",
       "<polyline clip-path=\"url(#clip7203)\" style=\"stroke:#000000; stroke-width:4; stroke-opacity:1; fill:none\" points=\"\n",
       "  21893.5,1401.05 21893.5,1401.05 21961.9,1401.05 21893.5,1401.05 \n",
       "  \"/>\n",
       "<polygon clip-path=\"url(#clip7203)\" points=\"\n",
       "21961.9,1401.05 21961.9,1401.05 22030.3,1401.05 22030.3,1401.05 21961.9,1401.05 21961.9,1401.05 \n",
       "  \" fill=\"#009af9\" fill-rule=\"evenodd\" fill-opacity=\"1\"/>\n",
       "<polyline clip-path=\"url(#clip7203)\" style=\"stroke:#000000; stroke-width:4; stroke-opacity:1; fill:none\" points=\"\n",
       "  21961.9,1401.05 21961.9,1401.05 22030.3,1401.05 21961.9,1401.05 \n",
       "  \"/>\n",
       "<polygon clip-path=\"url(#clip7203)\" points=\"\n",
       "22030.3,1401.05 22030.3,1401.05 22098.7,1401.05 22098.7,1401.05 22030.3,1401.05 22030.3,1401.05 \n",
       "  \" fill=\"#009af9\" fill-rule=\"evenodd\" fill-opacity=\"1\"/>\n",
       "<polyline clip-path=\"url(#clip7203)\" style=\"stroke:#000000; stroke-width:4; stroke-opacity:1; fill:none\" points=\"\n",
       "  22030.3,1401.05 22030.3,1401.05 22098.7,1401.05 22030.3,1401.05 \n",
       "  \"/>\n",
       "<polygon clip-path=\"url(#clip7203)\" points=\"\n",
       "22098.7,1401.05 22098.7,1401.05 22167.1,1401.05 22167.1,1401.05 22098.7,1401.05 22098.7,1401.05 \n",
       "  \" fill=\"#009af9\" fill-rule=\"evenodd\" fill-opacity=\"1\"/>\n",
       "<polyline clip-path=\"url(#clip7203)\" style=\"stroke:#000000; stroke-width:4; stroke-opacity:1; fill:none\" points=\"\n",
       "  22098.7,1401.05 22098.7,1401.05 22167.1,1401.05 22098.7,1401.05 \n",
       "  \"/>\n",
       "<polygon clip-path=\"url(#clip7203)\" points=\"\n",
       "22167.1,1369.76 22167.1,1401.05 22235.5,1401.05 22235.5,1369.76 22167.1,1369.76 22167.1,1369.76 \n",
       "  \" fill=\"#009af9\" fill-rule=\"evenodd\" fill-opacity=\"1\"/>\n",
       "<polyline clip-path=\"url(#clip7203)\" style=\"stroke:#000000; stroke-width:4; stroke-opacity:1; fill:none\" points=\"\n",
       "  22167.1,1369.76 22167.1,1401.05 22235.5,1401.05 22235.5,1369.76 22167.1,1369.76 \n",
       "  \"/>\n",
       "<polygon clip-path=\"url(#clip7201)\" points=\"\n",
       "1797.95,251.724 2249.26,251.724 2249.26,130.764 1797.95,130.764 \n",
       "  \" fill=\"#ffffff\" fill-rule=\"evenodd\" fill-opacity=\"1\"/>\n",
       "<polyline clip-path=\"url(#clip7201)\" style=\"stroke:#000000; stroke-width:4; stroke-opacity:1; fill:none\" points=\"\n",
       "  1797.95,251.724 2249.26,251.724 2249.26,130.764 1797.95,130.764 1797.95,251.724 \n",
       "  \"/>\n",
       "<polygon clip-path=\"url(#clip7201)\" points=\"\n",
       "1821.95,215.436 1965.95,215.436 1965.95,167.052 1821.95,167.052 1821.95,215.436 \n",
       "  \" fill=\"#009af9\" fill-rule=\"evenodd\" fill-opacity=\"1\"/>\n",
       "<polyline clip-path=\"url(#clip7201)\" style=\"stroke:#000000; stroke-width:4; stroke-opacity:1; fill:none\" points=\"\n",
       "  1821.95,215.436 1965.95,215.436 1965.95,167.052 1821.95,167.052 1821.95,215.436 \n",
       "  \"/>\n",
       "<g clip-path=\"url(#clip7201)\">\n",
       "<text style=\"fill:#000000; fill-opacity:1; font-family:Arial,Helvetica Neue,Helvetica,sans-serif; font-size:48px; text-anchor:start;\" transform=\"rotate(0, 1989.95, 208.744)\" x=\"1989.95\" y=\"208.744\">histogram</text>\n",
       "</g>\n",
       "</svg>\n"
      ]
     },
     "execution_count": 18,
     "metadata": {},
     "output_type": "execute_result"
    }
   ],
   "source": [
    "using Statistics # bring in statistical support for standard deviations\n",
    "t = c_bench.times / 1e6 # times in milliseconds\n",
    "m, σ = minimum(t), std(t)\n",
    "\n",
    "histogram(t, bins=500,\n",
    "    xlim=(m - 0.01, m + σ),\n",
    "    xlabel=\"milliseconds\", ylabel=\"count\", label=\"histogram\")"
   ]
  },
  {
   "cell_type": "markdown",
   "metadata": {},
   "source": [
    "# 2. C with -ffast-math\n",
    "\n",
    "If we allow C to re-arrange the floating point operations, then it'll vectorize with SIMD (single instruction, multiple data) instructions."
   ]
  },
  {
   "cell_type": "code",
   "execution_count": 19,
   "metadata": {},
   "outputs": [
    {
     "data": {
      "text/plain": [
       "c_sum_fastmath (generic function with 1 method)"
      ]
     },
     "execution_count": 19,
     "metadata": {},
     "output_type": "execute_result"
    }
   ],
   "source": [
    "const Clib_fastmath = tempname()   # make a temporary file\n",
    "\n",
    "# The same as above but with a -ffast-math flag added\n",
    "open(`gcc -std=gnu99 -fPIC -O3 -msse3 -xc -shared -ffast-math -o $(Clib_fastmath * \".\" * Libdl.dlext) -`, \"w\") do f\n",
    "    print(f, C_code) \n",
    "end\n",
    "\n",
    "# define a Julia function that calls the C function:\n",
    "c_sum_fastmath(X::Array{Float64}) = ccall((\"c_sum\", Clib_fastmath), Float64, (Csize_t, Ptr{Float64}), length(X), X)"
   ]
  },
  {
   "cell_type": "code",
   "execution_count": 20,
   "metadata": {},
   "outputs": [
    {
     "data": {
      "text/plain": [
       "BenchmarkTools.Trial: \n",
       "  memory estimate:  0 bytes\n",
       "  allocs estimate:  0\n",
       "  --------------\n",
       "  minimum time:     7.399 ms (0.00% GC)\n",
       "  median time:      7.458 ms (0.00% GC)\n",
       "  mean time:        7.497 ms (0.00% GC)\n",
       "  maximum time:     7.757 ms (0.00% GC)\n",
       "  --------------\n",
       "  samples:          667\n",
       "  evals/sample:     1"
      ]
     },
     "execution_count": 20,
     "metadata": {},
     "output_type": "execute_result"
    }
   ],
   "source": [
    "c_fastmath_bench = @benchmark $c_sum_fastmath($a)"
   ]
  },
  {
   "cell_type": "code",
   "execution_count": 21,
   "metadata": {},
   "outputs": [
    {
     "data": {
      "text/plain": [
       "7.398784"
      ]
     },
     "execution_count": 21,
     "metadata": {},
     "output_type": "execute_result"
    }
   ],
   "source": [
    "d[\"C -ffast-math\"] = minimum(c_fastmath_bench.times) / 1e6  # in milliseconds"
   ]
  },
  {
   "cell_type": "markdown",
   "metadata": {},
   "source": [
    "# 3. Python's built in `sum` "
   ]
  },
  {
   "cell_type": "markdown",
   "metadata": {},
   "source": [
    "The `PyCall` package provides a Julia interface to Python:"
   ]
  },
  {
   "cell_type": "code",
   "execution_count": 22,
   "metadata": {
    "scrolled": true
   },
   "outputs": [],
   "source": [
    "# using Pkg; Pkg.add(\"PyCall\")\n",
    "using PyCall"
   ]
  },
  {
   "cell_type": "code",
   "execution_count": 23,
   "metadata": {
    "scrolled": false
   },
   "outputs": [
    {
     "data": {
      "text/plain": [
       "PyObject <built-in function sum>"
      ]
     },
     "execution_count": 23,
     "metadata": {},
     "output_type": "execute_result"
    }
   ],
   "source": [
    "# get the Python built-in \"sum\" function:\n",
    "pysum = pybuiltin(\"sum\")"
   ]
  },
  {
   "cell_type": "code",
   "execution_count": 24,
   "metadata": {
    "scrolled": false
   },
   "outputs": [
    {
     "data": {
      "text/plain": [
       "5.000549463341633e6"
      ]
     },
     "execution_count": 24,
     "metadata": {},
     "output_type": "execute_result"
    }
   ],
   "source": [
    "pysum(a)"
   ]
  },
  {
   "cell_type": "code",
   "execution_count": 25,
   "metadata": {
    "scrolled": false
   },
   "outputs": [
    {
     "data": {
      "text/plain": [
       "true"
      ]
     },
     "execution_count": 25,
     "metadata": {},
     "output_type": "execute_result"
    }
   ],
   "source": [
    "pysum(a) ≈ sum(a)"
   ]
  },
  {
   "cell_type": "code",
   "execution_count": 26,
   "metadata": {
    "scrolled": false
   },
   "outputs": [
    {
     "data": {
      "text/plain": [
       "BenchmarkTools.Trial: \n",
       "  memory estimate:  368 bytes\n",
       "  allocs estimate:  8\n",
       "  --------------\n",
       "  minimum time:     1.120 s (0.00% GC)\n",
       "  median time:      1.122 s (0.00% GC)\n",
       "  mean time:        1.121 s (0.00% GC)\n",
       "  maximum time:     1.122 s (0.00% GC)\n",
       "  --------------\n",
       "  samples:          5\n",
       "  evals/sample:     1"
      ]
     },
     "execution_count": 26,
     "metadata": {},
     "output_type": "execute_result"
    }
   ],
   "source": [
    "py_list_bench = @benchmark $pysum($a)"
   ]
  },
  {
   "cell_type": "code",
   "execution_count": 27,
   "metadata": {
    "scrolled": false
   },
   "outputs": [
    {
     "data": {
      "text/plain": [
       "Dict{Any,Any} with 3 entries:\n",
       "  \"C\"               => 13.5604\n",
       "  \"Python built-in\" => 1119.75\n",
       "  \"C -ffast-math\"   => 7.39878"
      ]
     },
     "execution_count": 27,
     "metadata": {},
     "output_type": "execute_result"
    }
   ],
   "source": [
    "d[\"Python built-in\"] = minimum(py_list_bench.times) / 1e6\n",
    "d"
   ]
  },
  {
   "cell_type": "markdown",
   "metadata": {},
   "source": [
    "# 4. Python: `numpy` \n",
    "\n",
    "## Takes advantage of hardware \"SIMD\", but only works when it works.\n",
    "\n",
    "`numpy` is an optimized C library, callable from Python.\n",
    "It may be installed within Julia as follows:"
   ]
  },
  {
   "cell_type": "code",
   "execution_count": 28,
   "metadata": {
    "scrolled": false
   },
   "outputs": [],
   "source": [
    "# using Pkg; Pkg.add(\"Conda\")\n",
    "using Conda"
   ]
  },
  {
   "cell_type": "code",
   "execution_count": 29,
   "metadata": {},
   "outputs": [],
   "source": [
    "# Conda.add(\"numpy\")"
   ]
  },
  {
   "cell_type": "code",
   "execution_count": 30,
   "metadata": {
    "scrolled": false
   },
   "outputs": [
    {
     "name": "stderr",
     "output_type": "stream",
     "text": [
      "┌ Warning: `getindex(o::PyObject, s::AbstractString)` is deprecated in favor of dot overloading (`getproperty`) so elements should now be accessed as e.g. `o.\"s\"` instead of `o[\"s\"]`.\n",
      "│   caller = top-level scope at In[30]:1\n",
      "└ @ Core In[30]:1\n"
     ]
    },
    {
     "data": {
      "text/plain": [
       "BenchmarkTools.Trial: \n",
       "  memory estimate:  368 bytes\n",
       "  allocs estimate:  8\n",
       "  --------------\n",
       "  minimum time:     6.641 ms (0.00% GC)\n",
       "  median time:      6.683 ms (0.00% GC)\n",
       "  mean time:        6.689 ms (0.00% GC)\n",
       "  maximum time:     7.512 ms (0.00% GC)\n",
       "  --------------\n",
       "  samples:          747\n",
       "  evals/sample:     1"
      ]
     },
     "execution_count": 30,
     "metadata": {},
     "output_type": "execute_result"
    }
   ],
   "source": [
    "numpy_sum = pyimport(\"numpy\")[\"sum\"]\n",
    "\n",
    "py_numpy_bench = @benchmark $numpy_sum($a)"
   ]
  },
  {
   "cell_type": "code",
   "execution_count": 31,
   "metadata": {
    "scrolled": false
   },
   "outputs": [
    {
     "data": {
      "text/plain": [
       "5.000549463340483e6"
      ]
     },
     "execution_count": 31,
     "metadata": {},
     "output_type": "execute_result"
    }
   ],
   "source": [
    "numpy_sum(a)"
   ]
  },
  {
   "cell_type": "code",
   "execution_count": 32,
   "metadata": {
    "scrolled": false
   },
   "outputs": [
    {
     "data": {
      "text/plain": [
       "true"
      ]
     },
     "execution_count": 32,
     "metadata": {},
     "output_type": "execute_result"
    }
   ],
   "source": [
    "numpy_sum(a) ≈ sum(a)"
   ]
  },
  {
   "cell_type": "code",
   "execution_count": 33,
   "metadata": {
    "scrolled": true
   },
   "outputs": [
    {
     "data": {
      "text/plain": [
       "Dict{Any,Any} with 4 entries:\n",
       "  \"C\"               => 13.5604\n",
       "  \"Python numpy\"    => 6.64108\n",
       "  \"Python built-in\" => 1119.75\n",
       "  \"C -ffast-math\"   => 7.39878"
      ]
     },
     "execution_count": 33,
     "metadata": {},
     "output_type": "execute_result"
    }
   ],
   "source": [
    "d[\"Python numpy\"] = minimum(py_numpy_bench.times) / 1e6\n",
    "d"
   ]
  },
  {
   "cell_type": "markdown",
   "metadata": {},
   "source": [
    "# 5. Python, hand-written "
   ]
  },
  {
   "cell_type": "code",
   "execution_count": 34,
   "metadata": {
    "scrolled": false
   },
   "outputs": [
    {
     "data": {
      "text/plain": [
       "PyObject <function py_sum at 0x7fa813e5e500>"
      ]
     },
     "execution_count": 34,
     "metadata": {},
     "output_type": "execute_result"
    }
   ],
   "source": [
    "py\"\"\"\n",
    "def py_sum(A):\n",
    "    s = 0.0\n",
    "    for a in A:\n",
    "        s += a\n",
    "    return s\n",
    "\"\"\"\n",
    "\n",
    "sum_py = py\"py_sum\""
   ]
  },
  {
   "cell_type": "code",
   "execution_count": 35,
   "metadata": {
    "scrolled": false
   },
   "outputs": [
    {
     "data": {
      "text/plain": [
       "BenchmarkTools.Trial: \n",
       "  memory estimate:  368 bytes\n",
       "  allocs estimate:  8\n",
       "  --------------\n",
       "  minimum time:     1.427 s (0.00% GC)\n",
       "  median time:      1.428 s (0.00% GC)\n",
       "  mean time:        1.428 s (0.00% GC)\n",
       "  maximum time:     1.429 s (0.00% GC)\n",
       "  --------------\n",
       "  samples:          4\n",
       "  evals/sample:     1"
      ]
     },
     "execution_count": 35,
     "metadata": {},
     "output_type": "execute_result"
    }
   ],
   "source": [
    "py_hand = @benchmark $sum_py($a)"
   ]
  },
  {
   "cell_type": "code",
   "execution_count": 36,
   "metadata": {
    "scrolled": false
   },
   "outputs": [
    {
     "data": {
      "text/plain": [
       "5.000549463341633e6"
      ]
     },
     "execution_count": 36,
     "metadata": {},
     "output_type": "execute_result"
    }
   ],
   "source": [
    "sum_py(a)"
   ]
  },
  {
   "cell_type": "code",
   "execution_count": 37,
   "metadata": {
    "scrolled": false
   },
   "outputs": [
    {
     "data": {
      "text/plain": [
       "true"
      ]
     },
     "execution_count": 37,
     "metadata": {},
     "output_type": "execute_result"
    }
   ],
   "source": [
    "sum_py(a) ≈ sum(a)"
   ]
  },
  {
   "cell_type": "code",
   "execution_count": 38,
   "metadata": {
    "scrolled": true
   },
   "outputs": [
    {
     "data": {
      "text/plain": [
       "Dict{Any,Any} with 5 entries:\n",
       "  \"C\"                   => 13.5604\n",
       "  \"Python numpy\"        => 6.64108\n",
       "  \"Python hand-written\" => 1426.95\n",
       "  \"Python built-in\"     => 1119.75\n",
       "  \"C -ffast-math\"       => 7.39878"
      ]
     },
     "execution_count": 38,
     "metadata": {},
     "output_type": "execute_result"
    }
   ],
   "source": [
    "d[\"Python hand-written\"] = minimum(py_hand.times) / 1e6\n",
    "d"
   ]
  },
  {
   "cell_type": "markdown",
   "metadata": {},
   "source": [
    "# 6. Julia (built-in) \n",
    "\n",
    "## Written directly in Julia, not in C!"
   ]
  },
  {
   "cell_type": "code",
   "execution_count": 39,
   "metadata": {
    "scrolled": false
   },
   "outputs": [
    {
     "data": {
      "text/html": [
       "sum(a::<b>AbstractArray</b>) in Base at <a href=\"https://github.com/JuliaLang/julia/tree/80516ca20297a67b996caa08c38786332379b6a5/base/reducedim.jl#L648\" target=\"_blank\">reducedim.jl:648</a>"
      ],
      "text/plain": [
       "sum(a::AbstractArray) in Base at reducedim.jl:648"
      ]
     },
     "execution_count": 39,
     "metadata": {},
     "output_type": "execute_result"
    }
   ],
   "source": [
    "@which sum(a)"
   ]
  },
  {
   "cell_type": "code",
   "execution_count": 40,
   "metadata": {
    "scrolled": false
   },
   "outputs": [
    {
     "data": {
      "text/plain": [
       "BenchmarkTools.Trial: \n",
       "  memory estimate:  0 bytes\n",
       "  allocs estimate:  0\n",
       "  --------------\n",
       "  minimum time:     6.384 ms (0.00% GC)\n",
       "  median time:      6.404 ms (0.00% GC)\n",
       "  mean time:        6.411 ms (0.00% GC)\n",
       "  maximum time:     6.780 ms (0.00% GC)\n",
       "  --------------\n",
       "  samples:          779\n",
       "  evals/sample:     1"
      ]
     },
     "execution_count": 40,
     "metadata": {},
     "output_type": "execute_result"
    }
   ],
   "source": [
    "j_bench = @benchmark sum($a)"
   ]
  },
  {
   "cell_type": "code",
   "execution_count": 41,
   "metadata": {
    "scrolled": true
   },
   "outputs": [
    {
     "data": {
      "text/plain": [
       "Dict{Any,Any} with 6 entries:\n",
       "  \"C\"                   => 13.5604\n",
       "  \"Python numpy\"        => 6.64108\n",
       "  \"Python hand-written\" => 1426.95\n",
       "  \"Python built-in\"     => 1119.75\n",
       "  \"Julia built-in\"      => 6.38437\n",
       "  \"C -ffast-math\"       => 7.39878"
      ]
     },
     "execution_count": 41,
     "metadata": {},
     "output_type": "execute_result"
    }
   ],
   "source": [
    "d[\"Julia built-in\"] = minimum(j_bench.times) / 1e6\n",
    "d"
   ]
  },
  {
   "cell_type": "markdown",
   "metadata": {},
   "source": [
    "# 7. Julia (hand-written) "
   ]
  },
  {
   "cell_type": "code",
   "execution_count": 42,
   "metadata": {
    "scrolled": true
   },
   "outputs": [
    {
     "data": {
      "text/plain": [
       "mysum (generic function with 1 method)"
      ]
     },
     "execution_count": 42,
     "metadata": {},
     "output_type": "execute_result"
    }
   ],
   "source": [
    "function mysum(A)   \n",
    "    s = 0.0 # s = zero(eltype(a))\n",
    "    for a in A\n",
    "        s += a\n",
    "    end\n",
    "    s\n",
    "end"
   ]
  },
  {
   "cell_type": "code",
   "execution_count": 43,
   "metadata": {
    "scrolled": false
   },
   "outputs": [
    {
     "data": {
      "text/plain": [
       "BenchmarkTools.Trial: \n",
       "  memory estimate:  0 bytes\n",
       "  allocs estimate:  0\n",
       "  --------------\n",
       "  minimum time:     13.626 ms (0.00% GC)\n",
       "  median time:      13.660 ms (0.00% GC)\n",
       "  mean time:        13.663 ms (0.00% GC)\n",
       "  maximum time:     13.736 ms (0.00% GC)\n",
       "  --------------\n",
       "  samples:          366\n",
       "  evals/sample:     1"
      ]
     },
     "execution_count": 43,
     "metadata": {},
     "output_type": "execute_result"
    }
   ],
   "source": [
    "j_bench_hand = @benchmark mysum($a)"
   ]
  },
  {
   "cell_type": "code",
   "execution_count": 44,
   "metadata": {
    "scrolled": true
   },
   "outputs": [
    {
     "data": {
      "text/plain": [
       "Dict{Any,Any} with 7 entries:\n",
       "  \"C\"                   => 13.5604\n",
       "  \"Python numpy\"        => 6.64108\n",
       "  \"Julia hand-written\"  => 13.6264\n",
       "  \"Python hand-written\" => 1426.95\n",
       "  \"Python built-in\"     => 1119.75\n",
       "  \"Julia built-in\"      => 6.38437\n",
       "  \"C -ffast-math\"       => 7.39878"
      ]
     },
     "execution_count": 44,
     "metadata": {},
     "output_type": "execute_result"
    }
   ],
   "source": [
    "d[\"Julia hand-written\"] = minimum(j_bench_hand.times) / 1e6\n",
    "d"
   ]
  },
  {
   "cell_type": "markdown",
   "metadata": {},
   "source": [
    "# 8. Julia (hand-written w. simd) "
   ]
  },
  {
   "cell_type": "code",
   "execution_count": 45,
   "metadata": {},
   "outputs": [
    {
     "data": {
      "text/plain": [
       "mysum_simd (generic function with 1 method)"
      ]
     },
     "execution_count": 45,
     "metadata": {},
     "output_type": "execute_result"
    }
   ],
   "source": [
    "function mysum_simd(A)   \n",
    "    s = 0.0 # s = zero(eltype(A))\n",
    "    @simd for a in A\n",
    "        s += a\n",
    "    end\n",
    "    s\n",
    "end"
   ]
  },
  {
   "cell_type": "code",
   "execution_count": 46,
   "metadata": {
    "scrolled": false
   },
   "outputs": [
    {
     "data": {
      "text/plain": [
       "BenchmarkTools.Trial: \n",
       "  memory estimate:  0 bytes\n",
       "  allocs estimate:  0\n",
       "  --------------\n",
       "  minimum time:     6.378 ms (0.00% GC)\n",
       "  median time:      6.398 ms (0.00% GC)\n",
       "  mean time:        6.403 ms (0.00% GC)\n",
       "  maximum time:     6.747 ms (0.00% GC)\n",
       "  --------------\n",
       "  samples:          780\n",
       "  evals/sample:     1"
      ]
     },
     "execution_count": 46,
     "metadata": {},
     "output_type": "execute_result"
    }
   ],
   "source": [
    "j_bench_hand_simd = @benchmark mysum_simd($a)"
   ]
  },
  {
   "cell_type": "code",
   "execution_count": 47,
   "metadata": {},
   "outputs": [
    {
     "data": {
      "text/plain": [
       "5.000549463340452e6"
      ]
     },
     "execution_count": 47,
     "metadata": {},
     "output_type": "execute_result"
    }
   ],
   "source": [
    "mysum_simd(a)"
   ]
  },
  {
   "cell_type": "code",
   "execution_count": 48,
   "metadata": {
    "scrolled": true
   },
   "outputs": [
    {
     "data": {
      "text/plain": [
       "Dict{Any,Any} with 8 entries:\n",
       "  \"Julia hand-written simd\" => 6.37797\n",
       "  \"C\"                       => 13.5604\n",
       "  \"Python numpy\"            => 6.64108\n",
       "  \"Julia hand-written\"      => 13.6264\n",
       "  \"Python hand-written\"     => 1426.95\n",
       "  \"Python built-in\"         => 1119.75\n",
       "  \"Julia built-in\"          => 6.38437\n",
       "  \"C -ffast-math\"           => 7.39878"
      ]
     },
     "execution_count": 48,
     "metadata": {},
     "output_type": "execute_result"
    }
   ],
   "source": [
    "d[\"Julia hand-written simd\"] = minimum(j_bench_hand_simd.times) / 1e6\n",
    "d"
   ]
  },
  {
   "cell_type": "markdown",
   "metadata": {},
   "source": [
    "# Summary"
   ]
  },
  {
   "cell_type": "code",
   "execution_count": 49,
   "metadata": {
    "scrolled": true
   },
   "outputs": [
    {
     "name": "stdout",
     "output_type": "stream",
     "text": [
      "Julia hand-written simd.....6.4\n",
      "Julia built-in..............6.4\n",
      "Python numpy................6.6\n",
      "C -ffast-math...............7.4\n",
      "C..........................13.6\n",
      "Julia hand-written.........13.6\n",
      "Python built-in..........1119.8\n",
      "Python hand-written......1427.0\n"
     ]
    }
   ],
   "source": [
    "for (key, value) in sort(collect(d), by=last)\n",
    "    println(rpad(key, 25, \".\"), lpad(round(value; digits=1), 6, \".\"))\n",
    "end"
   ]
  },
  {
   "cell_type": "code",
   "execution_count": null,
   "metadata": {},
   "outputs": [],
   "source": []
  }
 ],
 "metadata": {
  "anaconda-cloud": {},
  "kernelspec": {
   "display_name": "Julia 1.1.0",
   "language": "julia",
   "name": "julia-1.1"
  },
  "language_info": {
   "file_extension": ".jl",
   "mimetype": "application/julia",
   "name": "julia",
   "version": "1.1.0"
  },
  "toc": {
   "colors": {
    "hover_highlight": "#DAA520",
    "running_highlight": "#FF0000",
    "selected_highlight": "#FFD700"
   },
   "moveMenuLeft": true,
   "nav_menu": {
    "height": "212px",
    "width": "252px"
   },
   "navigate_menu": true,
   "number_sections": true,
   "sideBar": true,
   "threshold": "2",
   "toc_cell": false,
   "toc_section_display": "block",
   "toc_window_display": false
  }
 },
 "nbformat": 4,
 "nbformat_minor": 2
}
