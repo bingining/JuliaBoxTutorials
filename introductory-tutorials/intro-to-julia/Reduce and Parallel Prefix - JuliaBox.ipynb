{
 "cells": [
  {
   "cell_type": "markdown",
   "metadata": {},
   "source": [
    "\n",
    "\n",
    "This notebook accompanies the [workshop paper](http://jiahao.github.io/parallel-prefix/) by Jiahao Chen and Alan Edelman entitled \"Parallel Prefix Polymorphism Permits Parallelization, Presentation & Proof\" and will appear in the proceedings of the [First Workshop for High Performance Technical Computing in Dynamic Languages](http://jiahao.github.io/hptcdl-sc14/), held in conjunction with [SC14: The International Conference on High Performance Computing, Networking, Storage and Analysis](http://sc14.supercomputing.org/).\n",
    "\n"
   ]
  },
  {
   "cell_type": "code",
   "execution_count": 7,
   "metadata": {},
   "outputs": [
    {
     "name": "stdout",
     "output_type": "stream",
     "text": [
      "\u001b[32m\u001b[1m  Building\u001b[22m\u001b[39m Conda → `~/.julia/packages/Conda/CpuvI/deps/build.log`\n",
      "\u001b[32m\u001b[1m  Building\u001b[22m\u001b[39m FFTW ─→ `~/.julia/packages/FFTW/p7sLQ/deps/build.log`\n"
     ]
    }
   ],
   "source": [
    "Pkg.build(\"FFTW\")"
   ]
  },
  {
   "cell_type": "code",
   "execution_count": 8,
   "metadata": {},
   "outputs": [
    {
     "name": "stderr",
     "output_type": "stream",
     "text": [
      "┌ Info: Precompiling Gadfly [c91e804a-d5a3-530f-b6f0-dfbca275c004]\n",
      "└ @ Base loading.jl:1192\n",
      "┌ Info: Precompiling Interact [c601a237-2ae4-5e1e-952c-7a85b0c7eef1]\n",
      "└ @ Base loading.jl:1192\n"
     ]
    },
    {
     "data": {
      "text/html": [
       "    <script class='js-collapse-script'>\n",
       "        var curMatch =\n",
       "            window.location.href\n",
       "            .match(/(.*?)\\/notebooks\\/.*\\.ipynb/);\n",
       "\n",
       "        curMatch = curMatch ||\n",
       "            window.location.href\n",
       "            .match(/(.*?)\\/apps\\/.*\\.ipynb/);\n",
       "\n",
       "        if ( curMatch ) {\n",
       "            $('head').append('<base href=\"' + curMatch[1] + '/\">');\n",
       "        }\n",
       "    </script>\n"
      ],
      "text/plain": [
       "HTML{String}(\"    <script class='js-collapse-script'>\\n        var curMatch =\\n            window.location.href\\n            .match(/(.*?)\\\\/notebooks\\\\/.*\\\\.ipynb/);\\n\\n        curMatch = curMatch ||\\n            window.location.href\\n            .match(/(.*?)\\\\/apps\\\\/.*\\\\.ipynb/);\\n\\n        if ( curMatch ) {\\n            \\$('head').append('<base href=\\\"' + curMatch[1] + '/\\\">');\\n        }\\n    </script>\\n\")"
      ]
     },
     "metadata": {},
     "output_type": "display_data"
    },
    {
     "data": {
      "text/html": [
       "<script class='js-collapse-script' src='/assetserver/52e8b7c8cbd7d1e60cec637de5b5105f4ead9ff3-assets/webio/dist/bundle.js'></script>"
      ],
      "text/plain": [
       "HTML{String}(\"<script class='js-collapse-script' src='/assetserver/52e8b7c8cbd7d1e60cec637de5b5105f4ead9ff3-assets/webio/dist/bundle.js'></script>\")"
      ]
     },
     "metadata": {},
     "output_type": "display_data"
    },
    {
     "data": {
      "text/html": [
       "<script class='js-collapse-script' src='/assetserver/52e8b7c8cbd7d1e60cec637de5b5105f4ead9ff3-assets/providers/ijulia_setup.js'></script>"
      ],
      "text/plain": [
       "HTML{String}(\"<script class='js-collapse-script' src='/assetserver/52e8b7c8cbd7d1e60cec637de5b5105f4ead9ff3-assets/providers/ijulia_setup.js'></script>\")"
      ]
     },
     "metadata": {},
     "output_type": "display_data"
    },
    {
     "data": {
      "text/html": [
       "  <script class='js-collapse-script'>\n",
       "    $('.js-collapse-script').parent('.output_subarea').css('padding', '0');\n",
       "  </script>\n"
      ],
      "text/plain": [
       "HTML{String}(\"  <script class='js-collapse-script'>\\n    \\$('.js-collapse-script').parent('.output_subarea').css('padding', '0');\\n  </script>\\n\")"
      ]
     },
     "metadata": {},
     "output_type": "display_data"
    }
   ],
   "source": [
    "# using Pkg; Pkg.add([\"Compose\", \"Gadfly\", \"Interact\"])\n",
    "using Compose, Gadfly, Interact"
   ]
  },
  {
   "cell_type": "markdown",
   "metadata": {},
   "source": [
    "# `reduce()`\n",
    "\n",
    "Reduction applies a binary operator to a vector repeatedly to return a scalar. Thus + becomes sum, and * becomes prod.\n",
    "\n",
    "It is considered a basic parallel computing primitive.\n",
    "\n"
   ]
  },
  {
   "cell_type": "code",
   "execution_count": 9,
   "metadata": {},
   "outputs": [
    {
     "data": {
      "text/plain": [
       "(36, 36)"
      ]
     },
     "execution_count": 9,
     "metadata": {},
     "output_type": "execute_result"
    }
   ],
   "source": [
    "reduce(+, 1:8), sum(1:8)  # triangular numbers"
   ]
  },
  {
   "cell_type": "code",
   "execution_count": 10,
   "metadata": {},
   "outputs": [
    {
     "data": {
      "text/plain": [
       "(40320, 40320)"
      ]
     },
     "execution_count": 10,
     "metadata": {},
     "output_type": "execute_result"
    }
   ],
   "source": [
    "reduce(*, 1:8), prod(1:8) # factorials"
   ]
  },
  {
   "cell_type": "code",
   "execution_count": 11,
   "metadata": {},
   "outputs": [
    {
     "name": "stdout",
     "output_type": "stream",
     "text": [
      "reduce(boring, 1:8) = 1\n",
      "reduce(boring2, 1:8) = 8\n"
     ]
    },
    {
     "data": {
      "text/plain": [
       "8"
      ]
     },
     "execution_count": 11,
     "metadata": {},
     "output_type": "execute_result"
    }
   ],
   "source": [
    "boring(a,b)=a\n",
    "@show reduce(boring, 1:8)\n",
    "boring2(a,b)=b\n",
    "@show reduce(boring2, 1:8)"
   ]
  },
  {
   "cell_type": "markdown",
   "metadata": {},
   "source": [
    "You can also use reduce to compute Fibonacci numbers using their recurrences.\n",
    "\n",
    "$$\\begin{pmatrix} f_2 \\\\f_1 \\end{pmatrix} = \\begin{pmatrix} f_1 + f_0 \\\\ f_1 \\end{pmatrix}\n",
    "= \\begin{pmatrix} 1 & 1 \\\\ 1 & 0 \\end{pmatrix} \\begin{pmatrix} f_1 \\\\ f_0 \\end{pmatrix} $$\n",
    "\n",
    "$$\\begin{pmatrix} f_{n+1} \\\\ f_n \\end{pmatrix} = \\dots\n",
    "= \\begin{pmatrix} 1 & 1 \\\\ 1 & 0 \\end{pmatrix}^n \\begin{pmatrix} f_1 \\\\ f_0 \\end{pmatrix} $$\n",
    "\n",
    "From this, you can show that\n",
    "\n",
    "$$\\begin{pmatrix} 1 & 1 \\\\ 1 & 0 \\end{pmatrix}^n  = \\begin{pmatrix} f_{n+1} & f_n \\\\ f_n & f_{n-1} \\end{pmatrix} $$\n",
    "\n",
    "(this applies reduce to the same argument over and over again -- there are of course other ways)"
   ]
  },
  {
   "cell_type": "code",
   "execution_count": 12,
   "metadata": {},
   "outputs": [
    {
     "data": {
      "text/plain": [
       "2×2 Array{Int64,2}:\n",
       " 3  2\n",
       " 2  1"
      ]
     },
     "execution_count": 12,
     "metadata": {},
     "output_type": "execute_result"
    }
   ],
   "source": [
    "M=[1 1; 1 0]\n",
    "reduce(*,fill(M,3))\n",
    "prod(fill(M,3))"
   ]
  },
  {
   "cell_type": "code",
   "execution_count": 13,
   "metadata": {},
   "outputs": [
    {
     "data": {
      "text/html": [
       "<div class='tex2jax_ignore interactbulma'>\n",
       "<div class='display:none'></div><unsafe-script style='display:none'>\n",
       "WebIO.mount(this.previousSibling,{&quot;props&quot;:{},&quot;nodeType&quot;:&quot;DOM&quot;,&quot;type&quot;:&quot;node&quot;,&quot;instanceArgs&quot;:{&quot;namespace&quot;:&quot;html&quot;,&quot;tag&quot;:&quot;div&quot;},&quot;children&quot;:[{&quot;props&quot;:{&quot;className&quot;:&quot;field&quot;},&quot;nodeType&quot;:&quot;DOM&quot;,&quot;type&quot;:&quot;node&quot;,&quot;instanceArgs&quot;:{&quot;namespace&quot;:&quot;html&quot;,&quot;tag&quot;:&quot;div&quot;},&quot;children&quot;:[{&quot;props&quot;:{},&quot;nodeType&quot;:&quot;Scope&quot;,&quot;type&quot;:&quot;node&quot;,&quot;instanceArgs&quot;:{&quot;imports&quot;:{&quot;data&quot;:[{&quot;name&quot;:&quot;knockout&quot;,&quot;type&quot;:&quot;js&quot;,&quot;url&quot;:&quot;/assetserver/9a039bbf9ab947aab267c106e3204c2ac00e9739-knockout.js&quot;},{&quot;name&quot;:&quot;knockout_punches&quot;,&quot;type&quot;:&quot;js&quot;,&quot;url&quot;:&quot;/assetserver/8f887f483defa027a880866b470e887e204e8005-knockout_punches.js&quot;},{&quot;name&quot;:null,&quot;type&quot;:&quot;js&quot;,&quot;url&quot;:&quot;/assetserver/16a61273eec6037797992909aef24cf011e35848-all.js&quot;},{&quot;name&quot;:null,&quot;type&quot;:&quot;css&quot;,&quot;url&quot;:&quot;/assetserver/6e85ad0a71b55d3a366cd3520832688845377300-style.css&quot;},{&quot;name&quot;:null,&quot;type&quot;:&quot;css&quot;,&quot;url&quot;:&quot;/assetserver/bd563cb006c982dd35c562f2cffda7bf9a12ed06-main.css&quot;}],&quot;type&quot;:&quot;async_block&quot;},&quot;id&quot;:&quot;knockout-component-3313be61-ac16-425c-9ff5-f8adb1bcda1e&quot;,&quot;handlers&quot;:{&quot;_promises&quot;:{&quot;importsLoaded&quot;:[function (ko, koPunches) {\n",
       "    ko.punches.enableAll();\n",
       "    ko.bindingHandlers.numericValue = {\n",
       "        init : function(element, valueAccessor, allBindings, data, context) {\n",
       "            var stringified = ko.observable(ko.unwrap(valueAccessor()));\n",
       "            stringified.subscribe(function(value) {\n",
       "                var val = parseFloat(value);\n",
       "                if (!isNaN(val)) {\n",
       "                    valueAccessor()(val);\n",
       "                }\n",
       "            })\n",
       "            valueAccessor().subscribe(function(value) {\n",
       "                var str = JSON.stringify(value);\n",
       "                if ((str == &quot;0&quot;) &amp;&amp; ([&quot;-0&quot;, &quot;-0.&quot;].indexOf(stringified()) &gt;= 0))\n",
       "                     return;\n",
       "                 if ([&quot;null&quot;, &quot;&quot;].indexOf(str) &gt;= 0)\n",
       "                     return;\n",
       "                stringified(str);\n",
       "            })\n",
       "            ko.applyBindingsToNode(element, { value: stringified, valueUpdate: allBindings.get(&#39;valueUpdate&#39;)}, context);\n",
       "        }\n",
       "    };\n",
       "    var json_data = JSON.parse(&quot;{\\&quot;changes\\&quot;:0,\\&quot;value\\&quot;:50}&quot;);\n",
       "    var self = this;\n",
       "    function AppViewModel() {\n",
       "        for (var key in json_data) {\n",
       "            var el = json_data[key];\n",
       "            this[key] = Array.isArray(el) ? ko.observableArray(el) : ko.observable(el);\n",
       "        }\n",
       "        \n",
       "        \n",
       "        [this[&quot;changes&quot;].subscribe((function (val){!(this.valueFromJulia[&quot;changes&quot;]) ? (WebIO.setval({&quot;name&quot;:&quot;changes&quot;,&quot;scope&quot;:&quot;knockout-component-3313be61-ac16-425c-9ff5-f8adb1bcda1e&quot;,&quot;id&quot;:&quot;ob_02&quot;,&quot;type&quot;:&quot;observable&quot;},val)) : undefined; return this.valueFromJulia[&quot;changes&quot;]=false}),self),this[&quot;value&quot;].subscribe((function (val){!(this.valueFromJulia[&quot;value&quot;]) ? (WebIO.setval({&quot;name&quot;:&quot;value&quot;,&quot;scope&quot;:&quot;knockout-component-3313be61-ac16-425c-9ff5-f8adb1bcda1e&quot;,&quot;id&quot;:&quot;ob_01&quot;,&quot;type&quot;:&quot;observable&quot;},val)) : undefined; return this.valueFromJulia[&quot;value&quot;]=false}),self)]\n",
       "        \n",
       "    }\n",
       "    self.model = new AppViewModel();\n",
       "    self.valueFromJulia = {};\n",
       "    for (var key in json_data) {\n",
       "        self.valueFromJulia[key] = false;\n",
       "    }\n",
       "    ko.applyBindings(self.model, self.dom);\n",
       "}\n",
       "]},&quot;changes&quot;:[(function (val){return (val!=this.model[&quot;changes&quot;]()) ? (this.valueFromJulia[&quot;changes&quot;]=true, this.model[&quot;changes&quot;](val)) : undefined})],&quot;value&quot;:[(function (val){return (val!=this.model[&quot;value&quot;]()) ? (this.valueFromJulia[&quot;value&quot;]=true, this.model[&quot;value&quot;](val)) : undefined})]},&quot;systemjs_options&quot;:null,&quot;observables&quot;:{&quot;changes&quot;:{&quot;sync&quot;:false,&quot;id&quot;:&quot;ob_02&quot;,&quot;value&quot;:0},&quot;value&quot;:{&quot;sync&quot;:true,&quot;id&quot;:&quot;ob_01&quot;,&quot;value&quot;:50}}},&quot;children&quot;:[{&quot;props&quot;:{&quot;attributes&quot;:{&quot;class&quot;:&quot;interact-flex-row&quot;}},&quot;nodeType&quot;:&quot;DOM&quot;,&quot;type&quot;:&quot;node&quot;,&quot;instanceArgs&quot;:{&quot;namespace&quot;:&quot;html&quot;,&quot;tag&quot;:&quot;div&quot;},&quot;children&quot;:[{&quot;props&quot;:{&quot;attributes&quot;:{&quot;class&quot;:&quot;interact-flex-row-left&quot;}},&quot;nodeType&quot;:&quot;DOM&quot;,&quot;type&quot;:&quot;node&quot;,&quot;instanceArgs&quot;:{&quot;namespace&quot;:&quot;html&quot;,&quot;tag&quot;:&quot;div&quot;},&quot;children&quot;:[{&quot;props&quot;:{&quot;className&quot;:&quot;interact &quot;,&quot;style&quot;:{&quot;padding&quot;:&quot;5px 10px 0px 10px&quot;}},&quot;nodeType&quot;:&quot;DOM&quot;,&quot;type&quot;:&quot;node&quot;,&quot;instanceArgs&quot;:{&quot;namespace&quot;:&quot;html&quot;,&quot;tag&quot;:&quot;label&quot;},&quot;children&quot;:[&quot;n&quot;]}]},{&quot;props&quot;:{&quot;attributes&quot;:{&quot;class&quot;:&quot;interact-flex-row-center&quot;}},&quot;nodeType&quot;:&quot;DOM&quot;,&quot;type&quot;:&quot;node&quot;,&quot;instanceArgs&quot;:{&quot;namespace&quot;:&quot;html&quot;,&quot;tag&quot;:&quot;div&quot;},&quot;children&quot;:[{&quot;props&quot;:{&quot;max&quot;:100,&quot;min&quot;:1,&quot;attributes&quot;:{&quot;type&quot;:&quot;range&quot;,&quot;data-bind&quot;:&quot;numericValue: value, valueUpdate: &#39;input&#39;, event: {change : function () {this.changes(this.changes()+1)}}&quot;,&quot;orient&quot;:&quot;horizontal&quot;},&quot;step&quot;:1,&quot;className&quot;:&quot;slider slider is-fullwidth&quot;,&quot;style&quot;:{}},&quot;nodeType&quot;:&quot;DOM&quot;,&quot;type&quot;:&quot;node&quot;,&quot;instanceArgs&quot;:{&quot;namespace&quot;:&quot;html&quot;,&quot;tag&quot;:&quot;input&quot;},&quot;children&quot;:[]}]},{&quot;props&quot;:{&quot;attributes&quot;:{&quot;class&quot;:&quot;interact-flex-row-right&quot;}},&quot;nodeType&quot;:&quot;DOM&quot;,&quot;type&quot;:&quot;node&quot;,&quot;instanceArgs&quot;:{&quot;namespace&quot;:&quot;html&quot;,&quot;tag&quot;:&quot;div&quot;},&quot;children&quot;:[{&quot;props&quot;:{&quot;attributes&quot;:{&quot;data-bind&quot;:&quot;text: value&quot;}},&quot;nodeType&quot;:&quot;DOM&quot;,&quot;type&quot;:&quot;node&quot;,&quot;instanceArgs&quot;:{&quot;namespace&quot;:&quot;html&quot;,&quot;tag&quot;:&quot;p&quot;},&quot;children&quot;:[]}]}]}]}]},{&quot;props&quot;:{},&quot;nodeType&quot;:&quot;Scope&quot;,&quot;type&quot;:&quot;node&quot;,&quot;instanceArgs&quot;:{&quot;imports&quot;:{&quot;data&quot;:[],&quot;type&quot;:&quot;async_block&quot;},&quot;id&quot;:&quot;scope-adf12ba7-e3e7-4074-b558-d17f9b34e173&quot;,&quot;handlers&quot;:{&quot;obs-output&quot;:[function (updated_htmlstr) {\n",
       "    var el = this.dom.querySelector(&quot;#out&quot;);\n",
       "    WebIO.propUtils.setInnerHtml(el, updated_htmlstr);\n",
       "}]},&quot;systemjs_options&quot;:null,&quot;observables&quot;:{&quot;obs-output&quot;:{&quot;sync&quot;:false,&quot;id&quot;:&quot;ob_05&quot;,&quot;value&quot;:&quot;&lt;div class=&#39;display:none&#39;&gt;&lt;/div&gt;&lt;unsafe-script style=&#39;display:none&#39;&gt;\\nWebIO.mount(this.previousSibling,{&amp;quot;props&amp;quot;:{&amp;quot;attributes&amp;quot;:{&amp;quot;class&amp;quot;:&amp;quot;interact-flex-row&amp;quot;}},&amp;quot;nodeType&amp;quot;:&amp;quot;DOM&amp;quot;,&amp;quot;type&amp;quot;:&amp;quot;node&amp;quot;,&amp;quot;instanceArgs&amp;quot;:{&amp;quot;namespace&amp;quot;:&amp;quot;html&amp;quot;,&amp;quot;tag&amp;quot;:&amp;quot;div&amp;quot;},&amp;quot;children&amp;quot;:[{&amp;quot;props&amp;quot;:{&amp;quot;setInnerHtml&amp;quot;:&amp;quot;&amp;lt;pre&amp;gt;2×2 Array{BigInt,2}:\\\\n 20365011074  12586269025\\\\n 12586269025   7778742049&amp;lt;/pre&amp;gt;&amp;quot;},&amp;quot;nodeType&amp;quot;:&amp;quot;DOM&amp;quot;,&amp;quot;type&amp;quot;:&amp;quot;node&amp;quot;,&amp;quot;instanceArgs&amp;quot;:{&amp;quot;namespace&amp;quot;:&amp;quot;html&amp;quot;,&amp;quot;tag&amp;quot;:&amp;quot;div&amp;quot;},&amp;quot;children&amp;quot;:[]}]})&lt;/unsafe-script&gt;&quot;}}},&quot;children&quot;:[{&quot;props&quot;:{&quot;id&quot;:&quot;out&quot;,&quot;setInnerHtml&quot;:&quot;&lt;div class=&#39;display:none&#39;&gt;&lt;/div&gt;&lt;unsafe-script style=&#39;display:none&#39;&gt;\\nWebIO.mount(this.previousSibling,{&amp;quot;props&amp;quot;:{&amp;quot;attributes&amp;quot;:{&amp;quot;class&amp;quot;:&amp;quot;interact-flex-row&amp;quot;}},&amp;quot;nodeType&amp;quot;:&amp;quot;DOM&amp;quot;,&amp;quot;type&amp;quot;:&amp;quot;node&amp;quot;,&amp;quot;instanceArgs&amp;quot;:{&amp;quot;namespace&amp;quot;:&amp;quot;html&amp;quot;,&amp;quot;tag&amp;quot;:&amp;quot;div&amp;quot;},&amp;quot;children&amp;quot;:[{&amp;quot;props&amp;quot;:{&amp;quot;setInnerHtml&amp;quot;:&amp;quot;&amp;lt;pre&amp;gt;2×2 Array{BigInt,2}:\\\\n 20365011074  12586269025\\\\n 12586269025   7778742049&amp;lt;/pre&amp;gt;&amp;quot;},&amp;quot;nodeType&amp;quot;:&amp;quot;DOM&amp;quot;,&amp;quot;type&amp;quot;:&amp;quot;node&amp;quot;,&amp;quot;instanceArgs&amp;quot;:{&amp;quot;namespace&amp;quot;:&amp;quot;html&amp;quot;,&amp;quot;tag&amp;quot;:&amp;quot;div&amp;quot;},&amp;quot;children&amp;quot;:[]}]})&lt;/unsafe-script&gt;&quot;},&quot;nodeType&quot;:&quot;DOM&quot;,&quot;type&quot;:&quot;node&quot;,&quot;instanceArgs&quot;:{&quot;namespace&quot;:&quot;html&quot;,&quot;tag&quot;:&quot;div&quot;},&quot;children&quot;:[]}]}]})</unsafe-script>\n",
       "</div>"
      ],
      "text/plain": [
       "Widget{:manipulate,Any}(OrderedDict{Symbol,Any}(:n=>Widget{:slider,Int64}(OrderedDict{Symbol,Any}(:changes=>Observable{Int64} with 1 listeners. Value:\n",
       "0,:value=>Observable{Int64} with 2 listeners. Value:\n",
       "50), Observable{Int64} with 2 listeners. Value:\n",
       "50, Scope(\"knockout-component-3313be61-ac16-425c-9ff5-f8adb1bcda1e\", Node{DOM}(DOM(:html, :div), Any[Node{DOM}(DOM(:html, :div), Any[Node{DOM}(DOM(:html, :label), Any[\"n\"], Dict{Symbol,Any}(:className=>\"interact \",:style=>Dict{Any,Any}(:padding=>\"5px 10px 0px 10px\")), 1)], Dict{Symbol,Any}(:attributes=>Dict(\"class\"=>\"interact-flex-row-left\")), 2), Node{DOM}(DOM(:html, :div), Any[Node{DOM}(DOM(:html, :input), Any[], Dict{Symbol,Any}(:max=>100,:min=>1,:attributes=>Dict{Any,Any}(:type=>\"range\",Symbol(\"data-bind\")=>\"numericValue: value, valueUpdate: 'input', event: {change : function () {this.changes(this.changes()+1)}}\",\"orient\"=>\"horizontal\"),:step=>1,:className=>\"slider slider is-fullwidth\",:style=>Dict{Any,Any}()), 0)], Dict{Symbol,Any}(:attributes=>Dict(\"class\"=>\"interact-flex-row-center\")), 1), Node{DOM}(DOM(:html, :div), Any[Node{DOM}(DOM(:html, :p), Any[], Dict{Symbol,Any}(:attributes=>Dict(\"data-bind\"=>\"text: value\")), 0)], Dict{Symbol,Any}(:attributes=>Dict(\"class\"=>\"interact-flex-row-right\")), 1)], Dict{Symbol,Any}(:attributes=>Dict(\"class\"=>\"interact-flex-row\")), 7), Dict{String,Tuple{Observables.AbstractObservable,Union{Nothing, Bool}}}(\"changes\"=>(Observable{Int64} with 1 listeners. Value:\n",
       "0, nothing),\"value\"=>(Observable{Int64} with 2 listeners. Value:\n",
       "50, nothing)), Set(String[]), nothing, Any[\"knockout\"=>\"/public/home/chenzucheng/.julia/packages/Knockout/JIqpG/src/../assets/knockout.js\", \"knockout_punches\"=>\"/public/home/chenzucheng/.julia/packages/Knockout/JIqpG/src/../assets/knockout_punches.js\", \"/public/home/chenzucheng/.julia/packages/InteractBase/PTCUD/src/../assets/all.js\", \"/public/home/chenzucheng/.julia/packages/InteractBase/PTCUD/src/../assets/style.css\", \"/public/home/chenzucheng/.julia/packages/InteractBulma/PH56C/src/../assets/main.css\"], Dict{Any,Any}(\"_promises\"=>Dict{Any,Any}(\"importsLoaded\"=>Any[JSString(\"function (ko, koPunches) {\\n    ko.punches.enableAll();\\n    ko.bindingHandlers.numericValue = {\\n        init : function(element, valueAccessor, allBindings, data, context) {\\n            var stringified = ko.observable(ko.unwrap(valueAccessor()));\\n            stringified.subscribe(function(value) {\\n                var val = parseFloat(value);\\n                if (!isNaN(val)) {\\n                    valueAccessor()(val);\\n                }\\n            })\\n            valueAccessor().subscribe(function(value) {\\n                var str = JSON.stringify(value);\\n                if ((str == \\\"0\\\") && ([\\\"-0\\\", \\\"-0.\\\"].indexOf(stringified()) >= 0))\\n                     return;\\n                 if ([\\\"null\\\", \\\"\\\"].indexOf(str) >= 0)\\n                     return;\\n                stringified(str);\\n            })\\n            ko.applyBindingsToNode(element, { value: stringified, valueUpdate: allBindings.get('valueUpdate')}, context);\\n        }\\n    };\\n    var json_data = JSON.parse(\\\"{\\\\\\\"changes\\\\\\\":0,\\\\\\\"value\\\\\\\":50}\\\");\\n    var self = this;\\n    function AppViewModel() {\\n        for (var key in json_data) {\\n            var el = json_data[key];\\n            this[key] = Array.isArray(el) ? ko.observableArray(el) : ko.observable(el);\\n        }\\n        \\n        \\n        [this[\\\"changes\\\"].subscribe((function (val){!(this.valueFromJulia[\\\"changes\\\"]) ? (WebIO.setval({\\\"name\\\":\\\"changes\\\",\\\"scope\\\":\\\"knockout-component-3313be61-ac16-425c-9ff5-f8adb1bcda1e\\\",\\\"id\\\":\\\"ob_02\\\",\\\"type\\\":\\\"observable\\\"},val)) : undefined; return this.valueFromJulia[\\\"changes\\\"]=false}),self),this[\\\"value\\\"].subscribe((function (val){!(this.valueFromJulia[\\\"value\\\"]) ? (WebIO.setval({\\\"name\\\":\\\"value\\\",\\\"scope\\\":\\\"knockout-component-3313be61-ac16-425c-9ff5-f8adb1bcda1e\\\",\\\"id\\\":\\\"ob_01\\\",\\\"type\\\":\\\"observable\\\"},val)) : undefined; return this.valueFromJulia[\\\"value\\\"]=false}),self)]\\n        \\n    }\\n    self.model = new AppViewModel();\\n    self.valueFromJulia = {};\\n    for (var key in json_data) {\\n        self.valueFromJulia[key] = false;\\n    }\\n    ko.applyBindings(self.model, self.dom);\\n}\\n\")]),\"changes\"=>Any[JSString(\"(function (val){return (val!=this.model[\\\"changes\\\"]()) ? (this.valueFromJulia[\\\"changes\\\"]=true, this.model[\\\"changes\\\"](val)) : undefined})\")],\"value\"=>Any[JSString(\"(function (val){return (val!=this.model[\\\"value\\\"]()) ? (this.valueFromJulia[\\\"value\\\"]=true, this.model[\\\"value\\\"](val)) : undefined})\")]), ConnectionPool(Channel{Any}(sz_max:9223372036854775807,sz_curr:3), Set(AbstractConnection[]), Channel{AbstractConnection}(sz_max:32,sz_curr:0))), ##52#53{#dom#15{##dom#13#14{Dict{Any,Any},DOM}},typeof(scope)}(#dom#15{##dom#13#14{Dict{Any,Any},DOM}}(##dom#13#14{Dict{Any,Any},DOM}(Dict{Any,Any}(:className=>\"field\"), DOM(:html, :div))), scope))), Observable{Any} with 0 listeners. Value:\n",
       "BigInt[20365011074 12586269025; 12586269025 7778742049], nothing, getfield(InteractBase, Symbol(\"##142#143\"))())"
      ]
     },
     "execution_count": 13,
     "metadata": {},
     "output_type": "execute_result"
    }
   ],
   "source": [
    "@manipulate for n=1:100\n",
    "    prod(fill(big.(M),n))\n",
    "end"
   ]
  },
  {
   "cell_type": "code",
   "execution_count": 14,
   "metadata": {},
   "outputs": [
    {
     "data": {
      "text/plain": [
       "2-element Array{Array{Int64,2},1}:\n",
       " [5 3; 3 2]   \n",
       " [21 13; 13 8]"
      ]
     },
     "execution_count": 14,
     "metadata": {},
     "output_type": "execute_result"
    }
   ],
   "source": [
    "fib(j)=reduce(*, fill(M,j))\n",
    "fib.([4,7])\n"
   ]
  },
  {
   "cell_type": "markdown",
   "metadata": {},
   "source": [
    "You can solve recurrences of any complexity using `reduce`. For example, `reduce` can compute a Hadamard matrix from its definition in terms of its submatrices:\n",
    "\n",
    "$$H_2 = \\begin{pmatrix} H_1 & H_1 \\\\ H_1 & -H_1 \\end{pmatrix} = \\begin{pmatrix} 1 & 1 \\\\ 1 & -1 \\end{pmatrix} \\otimes H_1$$\n",
    "\n",
    "and so on.\n",
    "\n",
    "(Note: this is just using reduce to compute a matrix power.\n",
    "One can think of alternative ways for sure.)"
   ]
  },
  {
   "cell_type": "code",
   "execution_count": 15,
   "metadata": {},
   "outputs": [],
   "source": [
    "# [A B]\n",
    "# If A is m x n\n",
    "# If B is p x q\n",
    "# then kron(A,B) is mp x nq and has all the elements of A times all of the elements of B"
   ]
  },
  {
   "cell_type": "code",
   "execution_count": 16,
   "metadata": {},
   "outputs": [
    {
     "data": {
      "text/plain": [
       "16×16 Array{Int64,2}:\n",
       " 16   0   0   0   0   0   0   0   0   0   0   0   0   0   0   0\n",
       "  0  16   0   0   0   0   0   0   0   0   0   0   0   0   0   0\n",
       "  0   0  16   0   0   0   0   0   0   0   0   0   0   0   0   0\n",
       "  0   0   0  16   0   0   0   0   0   0   0   0   0   0   0   0\n",
       "  0   0   0   0  16   0   0   0   0   0   0   0   0   0   0   0\n",
       "  0   0   0   0   0  16   0   0   0   0   0   0   0   0   0   0\n",
       "  0   0   0   0   0   0  16   0   0   0   0   0   0   0   0   0\n",
       "  0   0   0   0   0   0   0  16   0   0   0   0   0   0   0   0\n",
       "  0   0   0   0   0   0   0   0  16   0   0   0   0   0   0   0\n",
       "  0   0   0   0   0   0   0   0   0  16   0   0   0   0   0   0\n",
       "  0   0   0   0   0   0   0   0   0   0  16   0   0   0   0   0\n",
       "  0   0   0   0   0   0   0   0   0   0   0  16   0   0   0   0\n",
       "  0   0   0   0   0   0   0   0   0   0   0   0  16   0   0   0\n",
       "  0   0   0   0   0   0   0   0   0   0   0   0   0  16   0   0\n",
       "  0   0   0   0   0   0   0   0   0   0   0   0   0   0  16   0\n",
       "  0   0   0   0   0   0   0   0   0   0   0   0   0   0   0  16"
      ]
     },
     "execution_count": 16,
     "metadata": {},
     "output_type": "execute_result"
    }
   ],
   "source": [
    "A=[1 2;3 4]\n",
    "B=[10 100; 1 -10]\n",
    "⊗(A,B)=kron(A,B)\n",
    "\n",
    "M=[ 1 1;1 -1]\n",
    "H=⊗(⊗(⊗(M,M),M),M)\n",
    "H*H'"
   ]
  },
  {
   "cell_type": "code",
   "execution_count": 17,
   "metadata": {},
   "outputs": [
    {
     "data": {
      "text/plain": [
       "8×8 Array{Int64,2}:\n",
       " 1   1   1   1   1   1   1   1\n",
       " 1  -1   1  -1   1  -1   1  -1\n",
       " 1   1  -1  -1   1   1  -1  -1\n",
       " 1  -1  -1   1   1  -1  -1   1\n",
       " 1   1   1   1  -1  -1  -1  -1\n",
       " 1  -1   1  -1  -1   1  -1   1\n",
       " 1   1  -1  -1  -1  -1   1   1\n",
       " 1  -1  -1   1  -1   1   1  -1"
      ]
     },
     "execution_count": 17,
     "metadata": {},
     "output_type": "execute_result"
    }
   ],
   "source": [
    "Hadamard(n)=reduce(⊗, fill(M,n))\n",
    "H=Hadamard(3)"
   ]
  },
  {
   "cell_type": "code",
   "execution_count": 18,
   "metadata": {},
   "outputs": [
    {
     "data": {
      "text/plain": [
       "8×8 Array{Int64,2}:\n",
       " 8  0  0  0  0  0  0  0\n",
       " 0  8  0  0  0  0  0  0\n",
       " 0  0  8  0  0  0  0  0\n",
       " 0  0  0  8  0  0  0  0\n",
       " 0  0  0  0  8  0  0  0\n",
       " 0  0  0  0  0  8  0  0\n",
       " 0  0  0  0  0  0  8  0\n",
       " 0  0  0  0  0  0  0  8"
      ]
     },
     "execution_count": 18,
     "metadata": {},
     "output_type": "execute_result"
    }
   ],
   "source": [
    "H'H"
   ]
  },
  {
   "cell_type": "code",
   "execution_count": 19,
   "metadata": {},
   "outputs": [
    {
     "data": {
      "text/plain": [
       "8×8 Array{Int64,2}:\n",
       " 8  0  0  0  0  0  0  0\n",
       " 0  8  0  0  0  0  0  0\n",
       " 0  0  8  0  0  0  0  0\n",
       " 0  0  0  8  0  0  0  0\n",
       " 0  0  0  0  8  0  0  0\n",
       " 0  0  0  0  0  8  0  0\n",
       " 0  0  0  0  0  0  8  0\n",
       " 0  0  0  0  0  0  0  8"
      ]
     },
     "execution_count": 19,
     "metadata": {},
     "output_type": "execute_result"
    }
   ],
   "source": [
    "H*H' #This is a legitimate Hadamard matrix"
   ]
  },
  {
   "cell_type": "code",
   "execution_count": 26,
   "metadata": {},
   "outputs": [],
   "source": [
    "# import Pkg; Pkg.add(\"StatsBase\")\n",
    "\n",
    "using StatsBase"
   ]
  },
  {
   "cell_type": "code",
   "execution_count": 27,
   "metadata": {},
   "outputs": [
    {
     "data": {
      "text/plain": [
       "rolls (generic function with 1 method)"
      ]
     },
     "execution_count": 27,
     "metadata": {},
     "output_type": "execute_result"
    }
   ],
   "source": [
    "rolldice() = rand(1:6)+rand(1:6)\n",
    "rolls(n)=fit(Histogram,[rolldice() for i=1:n ],2:12,closed=:left)"
   ]
  },
  {
   "cell_type": "code",
   "execution_count": 28,
   "metadata": {},
   "outputs": [
    {
     "data": {
      "text/plain": [
       "Histogram{Int64,1,Tuple{UnitRange{Int64}}}\n",
       "edges:\n",
       "  2:12\n",
       "weights: [39, 70, 88, 85, 114, 189, 142, 107, 87, 54]\n",
       "closed: left\n",
       "isdensity: false"
      ]
     },
     "execution_count": 28,
     "metadata": {},
     "output_type": "execute_result"
    }
   ],
   "source": [
    "rolls(1000)"
   ]
  },
  {
   "cell_type": "code",
   "execution_count": 29,
   "metadata": {},
   "outputs": [
    {
     "data": {
      "text/plain": [
       "10-element Array{Histogram{Int64,1,Tuple{UnitRange{Int64}}},1}:\n",
       " Histogram{Int64,1,Tuple{UnitRange{Int64}}}\n",
       "edges:\n",
       "  2:12\n",
       "weights: [4, 2, 5, 10, 10, 25, 11, 17, 10, 3]\n",
       "closed: left\n",
       "isdensity: false\n",
       " Histogram{Int64,1,Tuple{UnitRange{Int64}}}\n",
       "edges:\n",
       "  2:12\n",
       "weights: [2, 7, 6, 10, 9, 20, 18, 10, 7, 8]\n",
       "closed: left\n",
       "isdensity: false  \n",
       " Histogram{Int64,1,Tuple{UnitRange{Int64}}}\n",
       "edges:\n",
       "  2:12\n",
       "weights: [0, 8, 12, 11, 12, 21, 13, 10, 6, 2]\n",
       "closed: left\n",
       "isdensity: false\n",
       " Histogram{Int64,1,Tuple{UnitRange{Int64}}}\n",
       "edges:\n",
       "  2:12\n",
       "weights: [3, 8, 4, 9, 14, 19, 11, 17, 3, 9]\n",
       "closed: left\n",
       "isdensity: false  \n",
       " Histogram{Int64,1,Tuple{UnitRange{Int64}}}\n",
       "edges:\n",
       "  2:12\n",
       "weights: [2, 6, 8, 13, 18, 18, 11, 7, 8, 6]\n",
       "closed: left\n",
       "isdensity: false  \n",
       " Histogram{Int64,1,Tuple{UnitRange{Int64}}}\n",
       "edges:\n",
       "  2:12\n",
       "weights: [4, 6, 11, 11, 15, 15, 11, 6, 7, 13]\n",
       "closed: left\n",
       "isdensity: false\n",
       " Histogram{Int64,1,Tuple{UnitRange{Int64}}}\n",
       "edges:\n",
       "  2:12\n",
       "weights: [3, 4, 7, 7, 11, 20, 14, 12, 12, 8]\n",
       "closed: left\n",
       "isdensity: false \n",
       " Histogram{Int64,1,Tuple{UnitRange{Int64}}}\n",
       "edges:\n",
       "  2:12\n",
       "weights: [4, 6, 6, 12, 14, 17, 12, 14, 6, 5]\n",
       "closed: left\n",
       "isdensity: false \n",
       " Histogram{Int64,1,Tuple{UnitRange{Int64}}}\n",
       "edges:\n",
       "  2:12\n",
       "weights: [3, 4, 9, 12, 13, 18, 13, 11, 8, 6]\n",
       "closed: left\n",
       "isdensity: false \n",
       " Histogram{Int64,1,Tuple{UnitRange{Int64}}}\n",
       "edges:\n",
       "  2:12\n",
       "weights: [6, 8, 5, 14, 17, 17, 10, 6, 7, 7]\n",
       "closed: left\n",
       "isdensity: false  "
      ]
     },
     "execution_count": 29,
     "metadata": {},
     "output_type": "execute_result"
    }
   ],
   "source": [
    "[rolls(100) for i=1:10]"
   ]
  },
  {
   "cell_type": "code",
   "execution_count": 30,
   "metadata": {},
   "outputs": [
    {
     "data": {
      "text/plain": [
       "Histogram{Int64,1,Tuple{UnitRange{Int64}}}\n",
       "edges:\n",
       "  2:12\n",
       "weights: [17, 49, 81, 98, 153, 166, 147, 115, 79, 67]\n",
       "closed: left\n",
       "isdensity: false"
      ]
     },
     "execution_count": 30,
     "metadata": {},
     "output_type": "execute_result"
    }
   ],
   "source": [
    "reduce(merge,[rolls(100) for i=1:10])"
   ]
  },
  {
   "cell_type": "code",
   "execution_count": 31,
   "metadata": {},
   "outputs": [
    {
     "data": {
      "text/plain": [
       "2×2 Array{Int64,2}:\n",
       " -21  12\n",
       " -11  32"
      ]
     },
     "metadata": {},
     "output_type": "display_data"
    },
    {
     "data": {
      "text/plain": [
       "2×2 Array{Int64,2}:\n",
       " -21  12\n",
       " -11  32"
      ]
     },
     "metadata": {},
     "output_type": "display_data"
    },
    {
     "data": {
      "text/plain": [
       "2×2 Array{Int64,2}:\n",
       " -18  -24\n",
       " -30  -10"
      ]
     },
     "metadata": {},
     "output_type": "display_data"
    }
   ],
   "source": [
    "#Reduction of matrix multiplications\n",
    "M=[rand(-3:3,2,2) for i=1:4]\n",
    "\n",
    "display(M[4]*M[3]*M[2]*M[1])\n",
    "display(reduce((A,B)->B*A, M)) #backward multiply\n",
    "display(reduce(*, M))          #forward multiply"
   ]
  },
  {
   "cell_type": "markdown",
   "metadata": {},
   "source": [
    "In the following example we apply `reduce()` to  function composition:"
   ]
  },
  {
   "cell_type": "code",
   "execution_count": 32,
   "metadata": {},
   "outputs": [
    {
     "data": {
      "text/plain": [
       "(0.5143952585235492, 0.5143952585235492)"
      ]
     },
     "execution_count": 32,
     "metadata": {},
     "output_type": "execute_result"
    }
   ],
   "source": [
    "(sin ∘ cos)(1), sin(cos(1))"
   ]
  },
  {
   "cell_type": "code",
   "execution_count": 33,
   "metadata": {},
   "outputs": [
    {
     "data": {
      "text/plain": [
       "(-0.8414709848078965, -0.8414709848078965)"
      ]
     },
     "execution_count": 33,
     "metadata": {},
     "output_type": "execute_result"
    }
   ],
   "source": [
    "((-) ∘ sin)(1), -sin(1)"
   ]
  },
  {
   "cell_type": "code",
   "execution_count": 34,
   "metadata": {},
   "outputs": [
    {
     "ename": "LoadError",
     "evalue": "syntax: unexpected \")\"",
     "output_type": "error",
     "traceback": [
      "syntax: unexpected \")\"",
      ""
     ]
    }
   ],
   "source": [
    "( (!) ∘ )"
   ]
  },
  {
   "cell_type": "code",
   "execution_count": 35,
   "metadata": {},
   "outputs": [
    {
     "data": {
      "text/plain": [
       "1×2 Array{Float64,2}:\n",
       " 0.841471  0.841471"
      ]
     },
     "execution_count": 35,
     "metadata": {},
     "output_type": "execute_result"
    }
   ],
   "source": [
    "# h=reduce( (f,g) -> (x->f(g(x))), [sin cos tan])\n",
    "h=reduce(∘, [sin cos tan])\n",
    "[h(π) sin(cos(tan(π)))]"
   ]
  },
  {
   "cell_type": "code",
   "execution_count": 36,
   "metadata": {},
   "outputs": [
    {
     "ename": "UndefVarError",
     "evalue": "UndefVarError: tril not defined",
     "output_type": "error",
     "traceback": [
      "UndefVarError: tril not defined",
      "",
      "Stacktrace:",
      " [1] top-level scope at In[36]:2"
     ]
    }
   ],
   "source": [
    "cumsum(1:8)  # It is useful to know that cumsum is a linear operator\n",
    "# You can use power method! Below is the underlying matrix\n",
    "A=tril(ones(Int,8,8)) "
   ]
  },
  {
   "cell_type": "code",
   "execution_count": 37,
   "metadata": {},
   "outputs": [
    {
     "ename": "DimensionMismatch",
     "evalue": "DimensionMismatch(\"matrix A has dimensions (2,2), vector B has length 8\")",
     "output_type": "error",
     "traceback": [
      "DimensionMismatch(\"matrix A has dimensions (2,2), vector B has length 8\")",
      "",
      "Stacktrace:",
      " [1] generic_matvecmul!(::Array{Int64,1}, ::Char, ::Array{Int64,2}, ::UnitRange{Int64}) at /buildworker/worker/package_linux64/build/usr/share/julia/stdlib/v1.0/LinearAlgebra/src/matmul.jl:502",
      " [2] mul! at /buildworker/worker/package_linux64/build/usr/share/julia/stdlib/v1.0/LinearAlgebra/src/matmul.jl:76 [inlined]",
      " [3] *(::Array{Int64,2}, ::UnitRange{Int64}) at /buildworker/worker/package_linux64/build/usr/share/julia/stdlib/v1.0/LinearAlgebra/src/matmul.jl:50",
      " [4] top-level scope at In[37]:1"
     ]
    }
   ],
   "source": [
    "[A*(1:8),cumsum(1:8)]"
   ]
  },
  {
   "cell_type": "markdown",
   "metadata": {},
   "source": [
    "# `prefix`"
   ]
  },
  {
   "cell_type": "markdown",
   "metadata": {},
   "source": [
    "Having discussed `reduce`, we are now ready for the idea behind prefix sum.\n",
    "Prefix or scan is long considered an important parallel\n",
    "primitive as well.\n",
    "\n",
    "Suppose you wanted to compute the partial sums of a vector, i.e. given\n",
    "`y[1:n]`, we want to overwrite the vector `y` with the vector of partial sums\n",
    "\n",
    "```julia\n",
    "new_y[1] = y[1]\n",
    "new_y[2] = y[1] + y[2]\n",
    "new_y[3] = y[1] + y[2] + y[3]\n",
    "...\n",
    "```\n",
    "\n",
    "At first blush, it seems impossible to parallelize this, since\n",
    "\n",
    "```julia\n",
    "new_y[1] = y[1]\n",
    "new_y[2] = new_y[1] + y[2]\n",
    "new_y[3] = new_y[2] + y[3]\n",
    "...\n",
    "```\n",
    "\n",
    "which appears to be an intrinsically serial process."
   ]
  },
  {
   "cell_type": "code",
   "execution_count": 38,
   "metadata": {},
   "outputs": [
    {
     "data": {
      "text/plain": [
       "prefix_serial! (generic function with 1 method)"
      ]
     },
     "execution_count": 38,
     "metadata": {},
     "output_type": "execute_result"
    }
   ],
   "source": [
    "function prefix_serial!(y, ⊕)\n",
    "    for i=2:length(y)\n",
    "        y[i] = y[i-1] ⊕ y[i]\n",
    "        end\n",
    "    y\n",
    "end"
   ]
  },
  {
   "cell_type": "code",
   "execution_count": 39,
   "metadata": {},
   "outputs": [
    {
     "data": {
      "text/plain": [
       "8-element Array{Int64,1}:\n",
       "     1\n",
       "     2\n",
       "     6\n",
       "    24\n",
       "   120\n",
       "   720\n",
       "  5040\n",
       " 40320"
      ]
     },
     "execution_count": 39,
     "metadata": {},
     "output_type": "execute_result"
    }
   ],
   "source": [
    "prefix_serial!([1:8;],*)"
   ]
  },
  {
   "cell_type": "code",
   "execution_count": 40,
   "metadata": {},
   "outputs": [
    {
     "data": {
      "text/plain": [
       "4-element Array{Array{Int64,2},1}:\n",
       " [5 1; 5 3]         \n",
       " [29 7; 37 11]      \n",
       " [65 101; 85 133]   \n",
       " [166 765; 218 1005]"
      ]
     },
     "execution_count": 40,
     "metadata": {},
     "output_type": "execute_result"
    }
   ],
   "source": [
    "prefix_serial!([rand(1:5,2,2) for i=1:4],*)"
   ]
  },
  {
   "cell_type": "markdown",
   "metadata": {},
   "source": [
    "However, it turns out that because addition (`+`) is associative, we can regroup the _order_ of how these sums are carried out. (This of course extends to other associative operations such as multiplication.) Another ordering of 8 associative operations is provided by `prefix8!`:"
   ]
  },
  {
   "cell_type": "code",
   "execution_count": 41,
   "metadata": {},
   "outputs": [
    {
     "data": {
      "text/plain": [
       "prefix! (generic function with 1 method)"
      ]
     },
     "execution_count": 41,
     "metadata": {},
     "output_type": "execute_result"
    }
   ],
   "source": [
    "# Eight only for pedagogy\n",
    "function prefix8!(y, ⋅)\n",
    "    length(y)==8 || error(\"length 8 only\")\n",
    "    for i in [2,4,6,8]; y[i] = y[i-1] ⋅ y[i]; end\n",
    "    for i in [  4,  8]; y[i] = y[i-2] ⋅ y[i]; end\n",
    "    for i in [      8]; y[i] = y[i-4] ⋅ y[i]; end\n",
    "    for i in [    6  ]; y[i] = y[i-2] ⋅ y[i]; end\n",
    "    for i in [ 3,5,7 ]; y[i] = y[i-1] ⋅ y[i]; end\n",
    "    y\n",
    "end\n",
    "\n",
    "# Generalization to any n\n",
    "function prefix!(y, ⋅)\n",
    "    l=length(y)\n",
    "    k=ceil(Int, log2(l))\n",
    "    @inbounds for j=1:k, i=2^j:2^j:min(l, 2^k)              #\"reduce\"\n",
    "        y[i] = y[i-2^(j-1)] ⋅ y[i]\n",
    "    end\n",
    "    @inbounds for j=(k-1):-1:1, i=3*2^(j-1):2^j:min(l, 2^k) #\"broadcast\"\n",
    "        y[i] = y[i-2^(j-1)] ⋅ y[i]\n",
    "    end\n",
    "    y\n",
    "end"
   ]
  },
  {
   "cell_type": "code",
   "execution_count": 42,
   "metadata": {},
   "outputs": [
    {
     "data": {
      "text/plain": [
       "12-element Array{Int64,1}:\n",
       "         1\n",
       "         2\n",
       "         6\n",
       "        24\n",
       "       120\n",
       "       720\n",
       "      5040\n",
       "     40320\n",
       "    362880\n",
       "   3628800\n",
       "  39916800\n",
       " 479001600"
      ]
     },
     "execution_count": 42,
     "metadata": {},
     "output_type": "execute_result"
    }
   ],
   "source": [
    "prefix!([1:12;],*)"
   ]
  },
  {
   "cell_type": "markdown",
   "metadata": {},
   "source": [
    "# Polymorphism for visualization"
   ]
  },
  {
   "cell_type": "markdown",
   "metadata": {},
   "source": [
    "We can visualize the operations with a little bit of trickery. In Julia, arrays are simply types that expose the array protocol. In particular, they need to implement  methods for the generic functions `length`, `getindex` and `setindex!`. The last two are used in indexing operations, since statements\n",
    "\n",
    "    y = A[1]\n",
    "    A[3] = y\n",
    "    \n",
    "get desugared to\n",
    "\n",
    "    y = getindex(A, 1)\n",
    "    setindex!(A, y, 3)\n",
    "    \n",
    "respectively.\n",
    "\n",
    "We can trace through the iterable by introduce a dummy array type, `DummyArray`, which stores no useful information but records every access to `getindex` and `setindex!`.\n",
    "\n",
    "Specifically:\n",
    "\n",
    "- `length(A::DummyArray)` returns an integer that is stored internally in the `A.length` field\n",
    "- `getindex(A::DummyArray, i)` records read access to the index `i` in the `A.read` field and always retuns `nothing`.\n",
    "- `setindex!(A::DummyArray, x, i)` records write access to the index `i`. The `A.history` field is appended with a new tuple consisting of the current `A.read` field and the index `i`. \n",
    "\n",
    "The way `DummyArray` works, it assumes an association between a single `setindex!` call and and all the preceding `getindex` calls since the previous `setindex!` call, which is sufficient for the purposes of tracing through prefix calls."
   ]
  },
  {
   "cell_type": "code",
   "execution_count": 43,
   "metadata": {},
   "outputs": [
    {
     "ename": "LoadError",
     "evalue": "syntax: extra token \"DummyArray\" after end of expression",
     "output_type": "error",
     "traceback": [
      "syntax: extra token \"DummyArray\" after end of expression",
      ""
     ]
    }
   ],
   "source": [
    "import Base: getindex, setindex!, length\n",
    "\n",
    "isdefined(:DummyArray) || type DummyArray\n",
    "    length :: Int\n",
    "    read :: Vector\n",
    "    history :: Vector{Any}\n",
    "    DummyArray(length, read=[], history=[])=new(length, read, history)\n",
    "end\n",
    "\n",
    "length(A::DummyArray)=A.length\n",
    "\n",
    "function getindex(A::DummyArray, i)\n",
    "    push!(A.read, i)\n",
    "    nothing\n",
    "end\n",
    "\n",
    "function setindex!(A::DummyArray, x, i)\n",
    "    push!(A.history, (A.read, [i]))\n",
    "    A.read = []\n",
    "end"
   ]
  },
  {
   "cell_type": "code",
   "execution_count": 44,
   "metadata": {},
   "outputs": [
    {
     "ename": "UndefVarError",
     "evalue": "UndefVarError: DummyArray not defined",
     "output_type": "error",
     "traceback": [
      "UndefVarError: DummyArray not defined",
      "",
      "Stacktrace:",
      " [1] top-level scope at In[44]:1"
     ]
    }
   ],
   "source": [
    "M = DummyArray(4)"
   ]
  },
  {
   "cell_type": "code",
   "execution_count": 45,
   "metadata": {},
   "outputs": [
    {
     "ename": "BoundsError",
     "evalue": "BoundsError: attempt to access 4-element Array{Array{Int64,2},1} at index [7]",
     "output_type": "error",
     "traceback": [
      "BoundsError: attempt to access 4-element Array{Array{Int64,2},1} at index [7]",
      "",
      "Stacktrace:",
      " [1] setindex!(::Array{Array{Int64,2},1}, ::Array{Int64,2}, ::Int64) at ./array.jl:769",
      " [2] top-level scope at In[45]:1"
     ]
    }
   ],
   "source": [
    "M[7] = M[3] + M[2]\n",
    "M"
   ]
  },
  {
   "cell_type": "code",
   "execution_count": 46,
   "metadata": {},
   "outputs": [
    {
     "ename": "UndefVarError",
     "evalue": "UndefVarError: Void not defined",
     "output_type": "error",
     "traceback": [
      "UndefVarError: Void not defined",
      "",
      "Stacktrace:",
      " [1] top-level scope at In[46]:2"
     ]
    }
   ],
   "source": [
    "import Base.+\n",
    "+(a::Void, b::Void)=a"
   ]
  },
  {
   "cell_type": "code",
   "execution_count": 47,
   "metadata": {},
   "outputs": [
    {
     "ename": "UndefVarError",
     "evalue": "UndefVarError: DummyArray not defined",
     "output_type": "error",
     "traceback": [
      "UndefVarError: DummyArray not defined",
      "",
      "Stacktrace:",
      " [1] (::getfield(Main, Symbol(\"##23#24\")))(::Int64) at ./In[47]:2",
      " [2] map(::Function, ::Observable{Int64}) at /public/home/chenzucheng/.julia/packages/Observables/qCJWB/src/Observables.jl:174",
      " [3] top-level scope at /public/home/chenzucheng/.julia/packages/Widgets/onfgl/src/manipulate.jl:23",
      " [4] top-level scope at In[47]:1"
     ]
    }
   ],
   "source": [
    "@manipulate for i=1:100\n",
    "    M = DummyArray(4)\n",
    "    M[i] = M[i-2] + M[2*i]\n",
    "    M\n",
    "end"
   ]
  },
  {
   "cell_type": "markdown",
   "metadata": {},
   "source": [
    "We also need a dummy associative operator to pass to the prefix call."
   ]
  },
  {
   "cell_type": "code",
   "execution_count": 48,
   "metadata": {},
   "outputs": [
    {
     "ename": "UndefVarError",
     "evalue": "UndefVarError: DummyArray not defined",
     "output_type": "error",
     "traceback": [
      "UndefVarError: DummyArray not defined",
      "",
      "Stacktrace:",
      " [1] top-level scope at In[48]:1"
     ]
    }
   ],
   "source": [
    "A=prefix8!(DummyArray(8),+)"
   ]
  },
  {
   "cell_type": "code",
   "execution_count": 49,
   "metadata": {},
   "outputs": [
    {
     "ename": "ErrorException",
     "evalue": "type Array has no field history",
     "output_type": "error",
     "traceback": [
      "type Array has no field history",
      "",
      "Stacktrace:",
      " [1] getproperty(::Any, ::Symbol) at ./sysimg.jl:18",
      " [2] top-level scope at In[49]:1"
     ]
    }
   ],
   "source": [
    "A.history"
   ]
  },
  {
   "cell_type": "markdown",
   "metadata": {},
   "source": [
    "Now let's visualize this! Each entry in `A.history` is rendered by a gate object:"
   ]
  },
  {
   "cell_type": "code",
   "execution_count": 50,
   "metadata": {},
   "outputs": [
    {
     "name": "stderr",
     "output_type": "stream",
     "text": [
      "WARNING: both Interact and Gadfly export \"mm\"; uses of it in module Main must be qualified\n"
     ]
    },
    {
     "ename": "UndefVarError",
     "evalue": "UndefVarError: mm not defined",
     "output_type": "error",
     "traceback": [
      "UndefVarError: mm not defined",
      "",
      "Stacktrace:",
      " [1] #render#25(::Float64, ::Float64, ::Function, ::gate, ::Int64, ::Int64, ::Int64) at ./In[50]:14",
      " [2] render(::gate, ::Int64, ::Int64, ::Int64) at ./In[50]:9",
      " [3] top-level scope at In[50]:22"
     ]
    }
   ],
   "source": [
    "mutable struct gate\n",
    "    ins :: Vector\n",
    "    outs:: Vector\n",
    "end\n",
    "\n",
    "import Gadfly.render\n",
    "\n",
    "function render(G::gate, x₁, y₁, y₀; rᵢ=0.1, rₒ=0.25)\n",
    "    ipoints = [(i, y₀+rᵢ) for i in G.ins]\n",
    "    opoints = [(i, y₀+0.5) for i in G.outs]\n",
    "    igates  = [Compose.circle(i..., rᵢ) for i in ipoints]\n",
    "    ogates  = [Compose.circle(i..., rₒ) for i in opoints]\n",
    "    lines = [line([i, j]) for i in ipoints, j in opoints]\n",
    "    compose(context(units=UnitBox(0.5,0,x₁,y₁+1)),\n",
    "    compose(context(), stroke(colorant\"black\"), fill(colorant\"white\"),\n",
    "            igates..., ogates...),\n",
    "    compose(context(), linewidth(0.3mm), stroke(colorant\"black\"),\n",
    "            lines...))\n",
    "end\n",
    "\n",
    "A=gate([1,2],[2])\n",
    "render(A,2,0,0)"
   ]
  },
  {
   "cell_type": "markdown",
   "metadata": {},
   "source": [
    "Now we render the whole algorithm. We have to scan through the trace twice; the first time merely calculates the maximum depth that needs to be drawn and the second time actually generates the objects."
   ]
  },
  {
   "cell_type": "code",
   "execution_count": 51,
   "metadata": {},
   "outputs": [
    {
     "ename": "UndefVarError",
     "evalue": "UndefVarError: DummyArray not defined",
     "output_type": "error",
     "traceback": [
      "UndefVarError: DummyArray not defined",
      "",
      "Stacktrace:",
      " [1] top-level scope at In[51]:1"
     ]
    }
   ],
   "source": [
    "function render(A::DummyArray)\n",
    "    #Scan to find maximum depth\n",
    "    olast = depth = 0\n",
    "    for y in A.history\n",
    "        (any(y[1] .≤ olast)) && (depth += 1)\n",
    "        olast = maximum(y[2])\n",
    "    end\n",
    "    maxdepth = depth\n",
    "    \n",
    "    olast = depth = 0\n",
    "    C = []\n",
    "    for y in A.history\n",
    "        (any(y[1] .≤ olast)) && (depth += 1)\n",
    "        push!(C, render(gate(y...), A.length, maxdepth, depth))\n",
    "        olast = maximum(y[2])\n",
    "    end\n",
    "    \n",
    "    push!(C, compose(context(units=UnitBox(0.5,0,A.length,1)),\n",
    "      [line([(i,0), (i,1)]) for i=1:A.length]...,\n",
    "    linewidth(0.1mm), stroke(colorant\"grey\")))\n",
    "    compose(context(), C...)\n",
    "end"
   ]
  },
  {
   "cell_type": "code",
   "execution_count": 52,
   "metadata": {},
   "outputs": [
    {
     "ename": "UndefVarError",
     "evalue": "UndefVarError: DummyArray not defined",
     "output_type": "error",
     "traceback": [
      "UndefVarError: DummyArray not defined",
      "",
      "Stacktrace:",
      " [1] top-level scope at In[52]:1"
     ]
    }
   ],
   "source": [
    "render(prefix!(DummyArray(8), +))"
   ]
  },
  {
   "cell_type": "markdown",
   "metadata": {},
   "source": [
    "Now we can see that `prefix!` rearranges the operations to form two spanning trees:"
   ]
  },
  {
   "cell_type": "code",
   "execution_count": 53,
   "metadata": {},
   "outputs": [
    {
     "ename": "UndefVarError",
     "evalue": "UndefVarError: DummyArray not defined",
     "output_type": "error",
     "traceback": [
      "UndefVarError: DummyArray not defined",
      "",
      "Stacktrace:",
      " [1] top-level scope at In[53]:1"
     ]
    }
   ],
   "source": [
    "render(prefix!(DummyArray(120),+))"
   ]
  },
  {
   "cell_type": "code",
   "execution_count": 54,
   "metadata": {},
   "outputs": [
    {
     "ename": "UndefVarError",
     "evalue": "UndefVarError: DummyArray not defined",
     "output_type": "error",
     "traceback": [
      "UndefVarError: DummyArray not defined",
      "",
      "Stacktrace:",
      " [1] top-level scope at show.jl:555",
      " [2] top-level scope at In[54]:12"
     ]
    }
   ],
   "source": [
    "function prefix!(y, +)\n",
    "    l=length(y)\n",
    "    k=ceil(Int, log2(l))\n",
    "    @inbounds for j=1:k, i=2^j:2^j:min(l, 2^k)              #\"reduce\"\n",
    "        y[i] = y[i-2^(j-1)] + y[i]\n",
    "    end\n",
    "    @inbounds for j=(k-1):-1:1, i=3*2^(j-1):2^j:min(l, 2^k) #\"broadcast\"\n",
    "        y[i] = y[i-2^(j-1)] + y[i]\n",
    "    end\n",
    "    y\n",
    "end\n",
    "@show prefix!(DummyArray(8),+)\n",
    "render(prefix!(DummyArray(9),+))"
   ]
  },
  {
   "cell_type": "code",
   "execution_count": 55,
   "metadata": {},
   "outputs": [],
   "source": [
    "#Look at the compose tree\n",
    "#render(prefix8!(AccessArray(8),+)) |> introspect"
   ]
  },
  {
   "cell_type": "markdown",
   "metadata": {},
   "source": [
    "as contrasted with the serial code:"
   ]
  },
  {
   "cell_type": "code",
   "execution_count": 56,
   "metadata": {},
   "outputs": [
    {
     "ename": "UndefVarError",
     "evalue": "UndefVarError: DummyArray not defined",
     "output_type": "error",
     "traceback": [
      "UndefVarError: DummyArray not defined",
      "",
      "Stacktrace:",
      " [1] top-level scope at In[56]:1"
     ]
    }
   ],
   "source": [
    "render(prefix_serial!(DummyArray(8),+))"
   ]
  },
  {
   "cell_type": "code",
   "execution_count": 57,
   "metadata": {},
   "outputs": [
    {
     "ename": "UndefVarError",
     "evalue": "UndefVarError: DummyArray not defined",
     "output_type": "error",
     "traceback": [
      "UndefVarError: DummyArray not defined",
      "",
      "Stacktrace:",
      " [1] (::getfield(Main, Symbol(\"##38#39\")))(::Int64) at ./In[57]:2",
      " [2] map(::Function, ::Observable{Int64}) at /public/home/chenzucheng/.julia/packages/Observables/qCJWB/src/Observables.jl:174",
      " [3] top-level scope at /public/home/chenzucheng/.julia/packages/Widgets/onfgl/src/manipulate.jl:23",
      " [4] top-level scope at In[57]:1"
     ]
    }
   ],
   "source": [
    "@manipulate for npp=1:180\n",
    "    render(prefix!(DummyArray(npp),+))\n",
    "end"
   ]
  },
  {
   "cell_type": "code",
   "execution_count": 58,
   "metadata": {},
   "outputs": [
    {
     "ename": "UndefVarError",
     "evalue": "UndefVarError: DummyArray not defined",
     "output_type": "error",
     "traceback": [
      "UndefVarError: DummyArray not defined",
      "",
      "Stacktrace:",
      " [1] (::getfield(Main, Symbol(\"##40#41\")))(::Int64) at ./In[58]:2",
      " [2] map(::Function, ::Observable{Int64}) at /public/home/chenzucheng/.julia/packages/Observables/qCJWB/src/Observables.jl:174",
      " [3] top-level scope at /public/home/chenzucheng/.julia/packages/Widgets/onfgl/src/manipulate.jl:23",
      " [4] top-level scope at In[58]:1"
     ]
    }
   ],
   "source": [
    "@manipulate for npp=1:180\n",
    "    render(prefix_serial!(DummyArray(npp),+))\n",
    "end"
   ]
  },
  {
   "cell_type": "code",
   "execution_count": 59,
   "metadata": {},
   "outputs": [
    {
     "name": "stderr",
     "output_type": "stream",
     "text": [
      "WARNING: both Interact and Gadfly export \"inch\"; uses of it in module Main must be qualified\n"
     ]
    },
    {
     "ename": "UndefVarError",
     "evalue": "UndefVarError: inch not defined",
     "output_type": "error",
     "traceback": [
      "UndefVarError: inch not defined",
      "",
      "Stacktrace:",
      " [1] top-level scope at In[59]:1"
     ]
    }
   ],
   "source": [
    "draw(PDF(\"serial.pdf\", 3.5inch, 3.5inch), render(prefix_serial!(AccessArray(8),+)))\n",
    "draw(PDF(\"tree.pdf\", 3.5inch, 3.5inch), render(prefix8!(AccessArray(8),+)))"
   ]
  },
  {
   "cell_type": "markdown",
   "metadata": {},
   "source": [
    "# Polymorphism for parallel operations"
   ]
  },
  {
   "cell_type": "markdown",
   "metadata": {},
   "source": [
    "Now let's run `prefix` in parallel on every core on the CPU. Use `addprocs` to attach additional worker processes."
   ]
  },
  {
   "cell_type": "code",
   "execution_count": 60,
   "metadata": {},
   "outputs": [
    {
     "ename": "UndefVarError",
     "evalue": "UndefVarError: Future not defined",
     "output_type": "error",
     "traceback": [
      "UndefVarError: Future not defined",
      "",
      "Stacktrace:",
      " [1] top-level scope at In[60]:3"
     ]
    }
   ],
   "source": [
    "import Base: fetch, length, +, *\n",
    "fetch(t::Vector) = map(fetch, t) #Vectorize fetch\n",
    "\n",
    "#Define elementary operations on remote data\n",
    "length(r1::Future)=length(fetch(r1))\n",
    "+(r1::Future,r2::Future)=@spawnat r2.where fetch(r1)+fetch(r2)\n",
    "*(r1::Future,r2::Future)=@spawnat r2.where fetch(r1)*fetch(r2)"
   ]
  },
  {
   "cell_type": "markdown",
   "metadata": {},
   "source": [
    "For 8 processes, the serial version requires 7 operations. The parallel version uses 11 operations, but they are grouped into 5 simultaneous chunks of operations. Hence we expect that the parallel version runs in 5/7 the time needed for the naïve serial code."
   ]
  },
  {
   "cell_type": "code",
   "execution_count": 61,
   "metadata": {},
   "outputs": [
    {
     "ename": "ArgumentError",
     "evalue": "ArgumentError: Package JuliaRunClient not found in current path:\n- Run `import Pkg; Pkg.add(\"JuliaRunClient\")` to install the JuliaRunClient package.\n",
     "output_type": "error",
     "traceback": [
      "ArgumentError: Package JuliaRunClient not found in current path:\n- Run `import Pkg; Pkg.add(\"JuliaRunClient\")` to install the JuliaRunClient package.\n",
      "",
      "Stacktrace:",
      " [1] require(::Module, ::Symbol) at ./loading.jl:823",
      " [2] top-level scope at In[61]:3"
     ]
    }
   ],
   "source": [
    "#Before timing, force Julia to JIT compile the functions\n",
    "[f([randn(3,3) for i=1:2], *) for f in (prefix_serial!, prefix!)]\n",
    "\n",
    "# addprocs(max(0, Sys.CPU_CORES-nprocs())) #Add all possible processors\n",
    "using JuliaRunClient\n",
    "# initializeCluster(2)\n",
    "initializeCluster(16) # more workers can be added with a larger subscription\n",
    "\n",
    "timings=Dict{Int,Tuple{Float64,Float64}}()\n",
    "for np in 2:nprocs()\n",
    "    gc_enable(false) #Disable garbage collector for timing purposes\n",
    "    n=1024#4096#3072\n",
    "    \n",
    "    #Create RemoteRefs on np processes\n",
    "    r=[@spawnat p randn(n,n) for p in procs()[1:np]]\n",
    "    s=fetch(r) #These are in-memory matrices\n",
    "\n",
    "    #Repeat timings a couple of times and take smallest\n",
    "    t_ser = minimum([(tic(); prefix_serial!(s, *); toc()) for i=1:2])\n",
    "    t_par = minimum([(tic(); @sync prefix!(r, *) ; toc()) for i=1:2])\n",
    "    timings[np] = (t_ser, t_par)\n",
    "    gc_enable(true)\n",
    "end\n",
    "timings"
   ]
  },
  {
   "cell_type": "code",
   "execution_count": 62,
   "metadata": {},
   "outputs": [],
   "source": [
    "#timings = #Data from julia.mit.edu\n",
    "#Dict(\n",
    "#     1 => ( 15.585,  15.721),\n",
    "#     2 => ( 16.325,  15.893),\n",
    "#     3 => ( 32.079,  31.678),\n",
    "#     4 => ( 46.037,  33.257),\n",
    "#     5 => ( 61.947,  51.412),\n",
    "#     6 => ( 77.247,  50.769), \n",
    "#     7 => ( 92.588,  67.796),\n",
    "#     8 => (108.057,  65.185),\n",
    "#     9 => (123.556,  68.197),\n",
    "#    10 => (138.408,  66.658),\n",
    "#    11 => (153.392,  82.580),\n",
    "#    12 => (168.874,  83.373),\n",
    "#    13 => (184.227,  82.875),\n",
    "#    14 => (199.741,  83.098),\n",
    "#    15 => (215.881, 101.271),\n",
    "#    16 => (230.531, 104.860),\n",
    "#    17 => (246.576, 103.229),\n",
    "#    18 => (261.412, 102.497),\n",
    "#    19 => (276.926, 103.367),\n",
    "#    20 => (294.404, 104.162),\n",
    "#    21 => (308.995, 104.944),\n",
    "#    22 => (323.287, 104.838),\n",
    "#    23 => (340.173, 121.495),\n",
    "#    24 => (353.717, 119.729),\n",
    "#    25 => (369.113, 120.281),\n",
    "#    26 => (384.638, 118.710),\n",
    "#    27 => (402.484, 119.237),\n",
    "#    28 => (417.036, 119.980),\n",
    "#    29 => (431.273, 120.463),\n",
    "#    30 => (446.288, 120.560),\n",
    "#    31 => (461.756, 137.209),\n",
    "#    32 => (476.653, 135.873),\n",
    "#    33 => (493.989, 138.150),\n",
    "#    34 => (508.089, 137.998),\n",
    "#    35 => (523.703, 139.059),\n",
    "#    36 => (539.305, 135.201),\n",
    "#    37 => (554.201, 138.242),\n",
    "#    38 => (569.276, 137.470),\n",
    "#    39 => (585.268, 137.261),\n",
    "#    40 => (599.921, 137.871),\n",
    "#    41 => (615.718, 137.887),\n",
    "#    42 => (632.463, 137.579),\n",
    "#    43 => (647.355, 138.181),\n",
    "#    44 => (664.344, 139.917),\n",
    "#    45 => (678.899, 138.382),\n",
    "#    46 => (695.815, 138.354),\n",
    "#    47 => (717.068, 154.826),\n",
    "#    48 => (730.902, 155.603),\n",
    "#    49 => (745.608, 154.549),\n",
    "#    50 => (756.012, 154.244),\n",
    "#    51 => (769.611, 154.000),\n",
    "#    52 => (793.350, 152.893),\n",
    "#    53 => (801.568, 155.276),\n",
    "#    54 => (818.174, 153.436),\n",
    "#    55 => (832.994, 155.923),\n",
    "#    56 => (849.526, 155.721),\n",
    "#    57 => (863.337, 155.289),\n",
    "#    58 => (881.577, 156.188),\n",
    "#    59 => (893.735, 157.889),\n",
    "#    60 => (911.597, 155.557),\n",
    "#    61 => (925.117, 157.048),\n",
    "#    62 => (940.897, 153.338),\n",
    "#    63 => (954.825, 173.942),\n",
    "#    64 => (990.757, 173.236),\n",
    "#    65 => (987.457, 172.005),\n",
    "#    66 => (1009.688, 173.869),\n",
    "#    67 => (1022.357, 173.303),\n",
    "#    68 => (1043.536, 175.044),\n",
    "#    69 => (1052.156, 173.361),\n",
    "#    70 => (1067.174, 172.230),\n",
    "#    71 => (1079.543, 173.491),\n",
    "#    72 => (1101.516, 174.311),\n",
    "#    73 => (1119.993, 174.057),\n",
    "#    74 => (1136.092, 175.804),\n",
    "#    75 => (1154.758, 175.075),\n",
    "#    76 => (1170.732, 173.453),\n",
    "#    77 => (1184.598, 171.936),\n",
    "#    78 => (1190.922, 172.809),\n",
    "#    79 => (1204.645, 172.878),\n",
    "#)"
   ]
  },
  {
   "cell_type": "code",
   "execution_count": 63,
   "metadata": {},
   "outputs": [
    {
     "ename": "UndefVarError",
     "evalue": "UndefVarError: timings not defined",
     "output_type": "error",
     "traceback": [
      "UndefVarError: timings not defined",
      "",
      "Stacktrace:",
      " [1] top-level scope at In[63]:2"
     ]
    }
   ],
   "source": [
    "speedup(p::Integer) = ((p-1)/(floor(Int, log2(p)) + 1 + floor(Int, log2(p/3))))\n",
    "#for (np, (t_ser, t_par)) in sort!([x for x in timings])\n",
    "#    @printf(\"np: %3d Serial: %.3f sec  Parallel: %.3f sec  speedup: %.3fx (theory=%.3fx)\\n\",\n",
    "#        np, t_ser, t_par, t_ser/t_par, speedup(np))\n",
    "#end\n",
    "\n",
    "xend = 1+maximum(keys(timings))\n",
    "\n",
    "theplot=plot(layer(x=2:xend, y=map(speedup, 2:xend), Geom.line(), Theme(default_color=colorant\"darkkhaki\")),\n",
    "layer(x=[np+1 for (np, (t_ser, t_par)) in timings],\n",
    "      y=[t_ser/t_par for (np, (t_ser, t_par)) in timings],\n",
    "    Geom.point, Theme(default_color=colorant\"firebrick\",\n",
    "        #=default_point_size=1.25pt, =#highlight_width=0pt)),\n",
    "    Guide.xlabel(\"Number of processors, p\"), Guide.ylabel(\"Speedup, r\"))"
   ]
  },
  {
   "cell_type": "code",
   "execution_count": null,
   "metadata": {},
   "outputs": [],
   "source": [
    "labeledplot = compose(render(theplot),\n",
    "compose(context(), stroke(colorant\"purple\"), #Powers of 2\n",
    "text(0.21, 0.73, \"2\"), text(0.24, 0.72, \"4\"), text(0.27, 0.7, \"8\"), text(0.33, 0.63, \"16\"),\n",
    "text(0.47, 0.53, \"32\"), text(0.76, 0.35, \"64\")),\n",
    "compose(context(), stroke(colorant\"green\"), #3x powers of 2\n",
    "text(0.25, 0.62, \"6\"), text(0.28, 0.57, \"12\"), text(0.39, 0.49, \"24\"), text(0.63, 0.32, \"48\"),\n",
    ")\n",
    ")\n",
    "draw(SVG(3.5inch, 3.2inch), labeledplot)"
   ]
  },
  {
   "cell_type": "code",
   "execution_count": null,
   "metadata": {},
   "outputs": [],
   "source": [
    "draw(SVG(\"scaling.svg\", 3.5inch, 3.2inch), labeledplot)\n",
    "#draw(PDF(\"scaling.pdf\", 3.5inch, 3inch), theplot)"
   ]
  },
  {
   "cell_type": "markdown",
   "metadata": {},
   "source": [
    "The exact same serial code now runs in parallel thanks to multiple dispatch!"
   ]
  },
  {
   "cell_type": "markdown",
   "metadata": {},
   "source": [
    "# Formal verification\n",
    "\n",
    "Julia allows us to implement very easily the interval of summations monoid technique for verifying the correctness of prefix sums ([doi:10.1145/2535838.2535882](http://dx.doi.org/10.1145/2535838.2535882))."
   ]
  },
  {
   "cell_type": "code",
   "execution_count": null,
   "metadata": {},
   "outputs": [],
   "source": [
    "#Definition 4.3 of Chong et al., 2014\n",
    "abstract type ⊤ end\n",
    "abstract type Id end\n",
    "const 𝕊 = Union{UnitRange, Type{⊤}, Type{Id}}"
   ]
  },
  {
   "cell_type": "code",
   "execution_count": null,
   "metadata": {},
   "outputs": [],
   "source": [
    "⊕(I::UnitRange, J::UnitRange) = I.stop+1==J.start ? (I.start:J.stop) : ⊤\n",
    "⊕(::Type{Id}, ::Type{Id}) = Id\n",
    "⊕(I::𝕊, ::Type{Id}) = I\n",
    "⊕(::Type{Id}, I::𝕊) = I\n",
    "⊕(I::𝕊, J::𝕊) = ⊤"
   ]
  },
  {
   "cell_type": "code",
   "execution_count": null,
   "metadata": {},
   "outputs": [],
   "source": [
    "for kernel in (prefix_serial!, prefix!), n=1:1000\n",
    "    @assert kernel([k:k for k=1:n], ⊕) == [1:k for k=1:n]\n",
    "end"
   ]
  },
  {
   "cell_type": "markdown",
   "metadata": {},
   "source": [
    "Wrong kernels produce type errors!"
   ]
  },
  {
   "cell_type": "code",
   "execution_count": null,
   "metadata": {},
   "outputs": [],
   "source": [
    "function prefix_wrong!(y, .+)\n",
    "    l = length(y)\n",
    "    offset = 1\n",
    "    z = copy(y)\n",
    "    while offset < l\n",
    "        for i=offset+1:l\n",
    "            z[i] = y[i-offset] .+ z[i]\n",
    "        end\n",
    "        offset += 2\n",
    "        y = copy(z)\n",
    "    end\n",
    "    y\n",
    "end\n",
    "\n",
    "prefix_wrong!(Any[k:k for k=1:8], ⊕) #Should produce conversion error"
   ]
  },
  {
   "cell_type": "code",
   "execution_count": null,
   "metadata": {},
   "outputs": [],
   "source": [
    "@manipulate for npp=1:10\n",
    "    render(prefix_wrong!(AccessArray(npp),+))\n",
    "end"
   ]
  },
  {
   "cell_type": "markdown",
   "metadata": {},
   "source": [
    "# Experimental code which doesn't work\n",
    "\n",
    "In this section I play with other parallel prefix algorithms. All the ones here suffer from read antidependencies and they break the logic I used to draw the gates."
   ]
  },
  {
   "cell_type": "code",
   "execution_count": null,
   "metadata": {},
   "outputs": [],
   "source": [
    "#Kogge-Stone variant\n",
    "#Works but doesn't render properly\n",
    "function prefix_ks!(y, .+)\n",
    "    l = length(y)\n",
    "    offset = 1\n",
    "    z = copy(y)\n",
    "    while offset < l\n",
    "        for i=offset+1:l\n",
    "            z[i] = y[i-offset] .+ z[i]\n",
    "        end\n",
    "        offset *= 2\n",
    "        y = copy(z)\n",
    "    end\n",
    "    y\n",
    "end\n",
    "\n",
    "@assert prefix_ks!(ones(8), +) == [1:8;]"
   ]
  },
  {
   "cell_type": "code",
   "execution_count": null,
   "metadata": {},
   "outputs": [],
   "source": [
    "Base.copy(A::AccessArray) = A\n",
    "\n",
    "render(prefix_ks!(AccessArray(8),+))"
   ]
  },
  {
   "cell_type": "code",
   "execution_count": null,
   "metadata": {},
   "outputs": [],
   "source": [
    "#Hillis-Steele = Kogge-Stone\n",
    "function prefix_hs!(y, +)\n",
    "    l = length(y)\n",
    "    lk = floor(Int, log2(l))\n",
    "    for d=1:lk\n",
    "        for k=2d:l\n",
    "            y[k] = y[k-2^(d-1)] + y[k]\n",
    "        end\n",
    "    end\n",
    "    y\n",
    "end\n",
    "prefix_hs!(ones(4), +)"
   ]
  },
  {
   "cell_type": "code",
   "execution_count": null,
   "metadata": {},
   "outputs": [],
   "source": [
    "render(prefix_hs!(AccessArray(4), +))"
   ]
  },
  {
   "cell_type": "code",
   "execution_count": null,
   "metadata": {},
   "outputs": [],
   "source": [
    "#Sklansky\n",
    "function prefix_s!(y, +)\n",
    "    n = length(y)\n",
    "    for d=1:log2(n)\n",
    "        for k=1:n÷2+1\n",
    "            block = 2 * (k - (mod(k, 2^d)))\n",
    "            me = block + mod(k, 2^d) + 2^d\n",
    "            spine = block + 2^d - 1\n",
    "            if spine ≤ n && me ≤ n\n",
    "                y[me] = y[me] + y[spine]\n",
    "            end\n",
    "        end\n",
    "    end\n",
    "    y\n",
    "end\n",
    "prefix_s!(ones(4), +)"
   ]
  },
  {
   "cell_type": "code",
   "execution_count": null,
   "metadata": {},
   "outputs": [],
   "source": [
    "function prefix(v,⊕)\n",
    "    @show v\n",
    "    k=length(v)\n",
    "    k≤1 && return v\n",
    "    v[2:2:k] = @show v[1:2:k-1]⊕v[2:2:k]  # Line 1\n",
    "    v[2:2:k] = @show prefix(v[2:2:k],⊕)   # Line 2\n",
    "    v[3:2:k] = @show v[2:2:k-1]⊕v[3:2:k]  # Line 3\n",
    "    v\n",
    "end"
   ]
  },
  {
   "cell_type": "code",
   "execution_count": null,
   "metadata": {},
   "outputs": [],
   "source": [
    "prefix(ones(8),+)"
   ]
  },
  {
   "cell_type": "code",
   "execution_count": null,
   "metadata": {},
   "outputs": [],
   "source": [
    "function ⊕{T<:Range}(v1::Vector{T}, v2::Vector{T})\n",
    "    for v in (v1, v2), i in 1:length(v)-1\n",
    "        @assert v[i].stop + 1 == v[i+1].start\n",
    "    end\n",
    "    if length(v1)>0 && length(v2)>0\n",
    "        @assert v1[end].stop + 1 == v2[1].start\n",
    "        v1[1].start:v2[end].stop\n",
    "    elseif length(v1)>0 #&& length(v2)==0\n",
    "        v1[1].start:v1[end].stop\n",
    "    elseif length(v2)>0 #&& length(v1)==0\n",
    "        v2[1].start:v2[end].stop\n",
    "    else #Both are empty\n",
    "        v1\n",
    "    end\n",
    "end"
   ]
  },
  {
   "cell_type": "code",
   "execution_count": null,
   "metadata": {},
   "outputs": [],
   "source": [
    "for kernel in (prefix,), n=1:100#(prefix_serial!, prefix!, prefix_ks!), n=1:100\n",
    "    @assert kernel([k:k for k=1:n], ⊕) == [1:k for k=1:n]\n",
    "end"
   ]
  },
  {
   "cell_type": "code",
   "execution_count": null,
   "metadata": {},
   "outputs": [],
   "source": []
  }
 ],
 "metadata": {
  "kernelspec": {
   "display_name": "Julia 1.0.3",
   "language": "julia",
   "name": "julia-1.0"
  },
  "language_info": {
   "file_extension": ".jl",
   "mimetype": "application/julia",
   "name": "julia",
   "version": "1.0.3"
  }
 },
 "nbformat": 4,
 "nbformat_minor": 1
}
